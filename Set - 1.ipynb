{
 "cells": [
  {
   "cell_type": "markdown",
   "metadata": {},
   "source": [
    "# Exercise # 1\n",
    "\n",
    "Two room of a floor needs tiling. The first room is 9 tiles by 7 tiles long, and the second room is 5 tiles by 7 tiles long. \n",
    "\n",
    "Q1) How many tiles are needed?\n",
    "Q2) If 17 packages of tiles containing 6 each are bought, then how many tiles will be left over?"
   ]
  },
  {
   "cell_type": "code",
   "execution_count": 17,
   "metadata": {},
   "outputs": [
    {
     "name": "stdout",
     "output_type": "stream",
     "text": [
      "98\n",
      "4\n"
     ]
    }
   ],
   "source": [
    "#Number of tiles needed\n",
    "no_tiles=(9*7)+(7*5)\n",
    "print(no_tiles)\n",
    "\n",
    "#Number of tiles left\n",
    "tiles_left= (17*6) - no_tiles\n",
    "print(tiles_left)"
   ]
  },
  {
   "cell_type": "markdown",
   "metadata": {},
   "source": [
    "# Exercise # 2\n",
    "\n",
    "Assign and Modify variables"
   ]
  },
  {
   "cell_type": "code",
   "execution_count": 28,
   "metadata": {},
   "outputs": [
    {
     "name": "stdout",
     "output_type": "stream",
     "text": [
      "4.8\n"
     ]
    }
   ],
   "source": [
    "books= 48\n",
    "students=6\n",
    "books_per_student=books/students\n",
    "\n",
    "students=10\n",
    "books_per_student=books/students\n",
    "print(books_per_student)\n"
   ]
  },
  {
   "cell_type": "code",
   "execution_count": null,
   "metadata": {},
   "outputs": [],
   "source": []
  },
  {
   "cell_type": "code",
   "execution_count": null,
   "metadata": {},
   "outputs": [],
   "source": []
  },
  {
   "cell_type": "code",
   "execution_count": 30,
   "metadata": {},
   "outputs": [
    {
     "name": "stdout",
     "output_type": "stream",
     "text": [
      "4200.0\n",
      "10500\n",
      "14700.0\n"
     ]
    }
   ],
   "source": [
    "vol_1=3500\n",
    "vol_2=9000\n",
    "\n",
    "#Increase vol_1 by 20%\n",
    "vol_1*=1.2\n",
    "print(vol_1)\n",
    "\n",
    "#Add 1500 to vol_2 \n",
    "vol_2+=1500\n",
    "print(vol_2)\n",
    "#Find the sum of modified vol_1 and vol_2 values\n",
    "\n",
    "vol_1+=vol_2\n",
    "print(vol_1)\n"
   ]
  },
  {
   "cell_type": "markdown",
   "metadata": {},
   "source": [
    "# String Data Type\n",
    "\n",
    " **Using escape sequence**\n",
    "\n",
    "1) store_name= \"Simon's store\"\n",
    "\n",
    "or\n",
    "\n",
    "2) store_name = 'Simon\\'s store'\n",
    "\n",
    "\n"
   ]
  },
  {
   "cell_type": "markdown",
   "metadata": {},
   "source": [
    "# Exercise # 3\n",
    "\n",
    "Which of the given cities is denser?"
   ]
  },
  {
   "cell_type": "code",
   "execution_count": 32,
   "metadata": {},
   "outputs": [
    {
     "name": "stdout",
     "output_type": "stream",
     "text": [
      "True\n"
     ]
    }
   ],
   "source": [
    "city_a_pop, a_area=45785, 423\n",
    "city_b_pop, b_area=84752, 832\n",
    "\n",
    "pop_density_a= city_a_pop/a_area\n",
    "pop_density_b= city_b_pop/b_area\n",
    "\n",
    "print(pop_density_a>pop_density_b)"
   ]
  },
  {
   "cell_type": "markdown",
   "metadata": {},
   "source": [
    "# Exercise # 4\n",
    "\n",
    "Fix the below string"
   ]
  },
  {
   "cell_type": "code",
   "execution_count": 35,
   "metadata": {},
   "outputs": [
    {
     "name": "stdout",
     "output_type": "stream",
     "text": [
      "Whether you think you can or can't you're right\n"
     ]
    },
    {
     "data": {
      "text/plain": [
       "str"
      ]
     },
     "execution_count": 35,
     "metadata": {},
     "output_type": "execute_result"
    }
   ],
   "source": [
    "string = 'Whether you think you can or can\\'t you\\'re right'\n",
    "print(string)\n",
    "type(string)"
   ]
  },
  {
   "cell_type": "code",
   "execution_count": 39,
   "metadata": {},
   "outputs": [
    {
     "data": {
      "text/plain": [
       "'d'"
      ]
     },
     "execution_count": 39,
     "metadata": {},
     "output_type": "execute_result"
    }
   ],
   "source": [
    "str_a='dfsdfsdf'\n",
    "str_b='something'\n",
    "str_a[0]"
   ]
  },
  {
   "cell_type": "code",
   "execution_count": 46,
   "metadata": {},
   "outputs": [
    {
     "data": {
      "text/plain": [
       "'My_string'"
      ]
     },
     "execution_count": 46,
     "metadata": {},
     "output_type": "execute_result"
    }
   ],
   "source": [
    "txt='my_string'\n",
    "txt.capitalize()"
   ]
  },
  {
   "cell_type": "markdown",
   "metadata": {},
   "source": [
    "# Exercise # 5\n",
    "\n",
    "Write a server log message based on the given information\n",
    "\n",
    "'username' accessed the website 'website' at 'timestamp'"
   ]
  },
  {
   "cell_type": "code",
   "execution_count": 48,
   "metadata": {},
   "outputs": [
    {
     "name": "stdout",
     "output_type": "stream",
     "text": [
      "Rohit accessed the website www.google.com at 05:15\n"
     ]
    }
   ],
   "source": [
    "username = 'Rohit'\n",
    "timestamp = '05:15'\n",
    "website = 'www.google.com'\n",
    "\n",
    "print('{} accessed the website {} at {}'.format(username, website, timestamp))"
   ]
  },
  {
   "cell_type": "markdown",
   "metadata": {},
   "source": [
    "# Exercise # 6\n",
    "\n",
    "1) Use string concatenation and function len() to find the lenght of full names of indivduals.\n",
    "\n",
    "2) If the number of characters limit is 20, then find whether the given name fits the condition."
   ]
  },
  {
   "cell_type": "code",
   "execution_count": 53,
   "metadata": {},
   "outputs": [
    {
     "name": "stdout",
     "output_type": "stream",
     "text": [
      "True\n"
     ]
    }
   ],
   "source": [
    "first_name='John'\n",
    "middle_name= \"Bradley\"\n",
    "family_name='Pitt'\n",
    "\n",
    "full_name = first_name+' '+middle_name+' '+family_name\n",
    "\n",
    "char_limit=20\n",
    "\n",
    "print(len(full_name)<=char_limit)\n"
   ]
  },
  {
   "cell_type": "markdown",
   "metadata": {},
   "source": [
    "# Exercise # 7\n",
    "\n",
    "Find the total amount of the sales for the given weekdays.\n"
   ]
  },
  {
   "cell_type": "code",
   "execution_count": 54,
   "metadata": {},
   "outputs": [
    {
     "name": "stdout",
     "output_type": "stream",
     "text": [
      "The total sales for this week is: 175\n"
     ]
    }
   ],
   "source": [
    "mon_sales='25'\n",
    "tue_sales='55'\n",
    "wed_sales='95'\n",
    "\n",
    "total_sales= int(mon_sales)+int(tue_sales)+int(wed_sales)\n",
    "\n",
    "print('The total sales for this week is:', total_sales)"
   ]
  },
  {
   "cell_type": "markdown",
   "metadata": {},
   "source": [
    "# String Methods\n",
    "\n",
    "Methods are like some of the functions you have already seen:\n",
    "\n",
    "1) len(\"this\")\n",
    "\n",
    "2) type(12)\n",
    "\n",
    "3) print(\"Hello world\")\n",
    "\n",
    "These three above are functions - notice they use parentheses, and accept one or more arguments. We have a complete session on this subject of functions.\n",
    "\n",
    "A method in Python behaves similarly to a function. Methods actually are functions that are called using dot notation. For example, lower() is a string method that can be used like this, on a string called \"sample string\": sample_string.lower().\n",
    "\n",
    "Methods are specific to the data type for a particular variable. So there are some built-in methods that are available for all strings, different methods that are available for all integers, etc.\n",
    "\n",
    "**List of String Methods**\n",
    "https://www.w3schools.com/python/python_ref_string.asp"
   ]
  },
  {
   "cell_type": "code",
   "execution_count": 56,
   "metadata": {},
   "outputs": [
    {
     "data": {
      "text/plain": [
       "'johnson'"
      ]
     },
     "execution_count": 56,
     "metadata": {},
     "output_type": "execute_result"
    }
   ],
   "source": [
    "string='Johnson'\n",
    "string.lower()"
   ]
  },
  {
   "cell_type": "markdown",
   "metadata": {},
   "source": [
    "# Usage of String method .format()\n",
    "\n",
    "We will be using the format() string method a good bit in our future work in Python, and you will find it very valuable in your coding, especially with your print statements.\n",
    "\n",
    "We can best illustrate how to use format() by looking at some examples:\n"
   ]
  },
  {
   "cell_type": "code",
   "execution_count": 57,
   "metadata": {},
   "outputs": [
    {
     "name": "stdout",
     "output_type": "stream",
     "text": [
      "The sum of 45, 38 is 83\n"
     ]
    }
   ],
   "source": [
    "#Example 1\n",
    "name='Edward'\n",
    "\n",
    "\n",
    "#Example 2\n",
    "a=45\n",
    "b=38\n",
    "c=a+b\n",
    "\n",
    "print('The sum of {}, {} is {}'.format(a,b,c))"
   ]
  },
  {
   "cell_type": "markdown",
   "metadata": {},
   "source": [
    "# Exercise 8\n",
    "\n",
    "Use .format() string method to print \"Does your 'animal' 'action'?\"\n",
    "\n",
    "In the below case the output should be \" Does your dog bite?\""
   ]
  },
  {
   "cell_type": "code",
   "execution_count": null,
   "metadata": {},
   "outputs": [],
   "source": [
    "animal = \"dog\"\n",
    "action = \"bite\"\n",
    "print()"
   ]
  },
  {
   "cell_type": "markdown",
   "metadata": {},
   "source": [
    "# Usage of String method .split()\n",
    "\n",
    "Another important string method: split()\n",
    "A helpful string method when working with strings is the .split method. This function or method returns a data container called a list that contains the words from the input string. \n",
    "\n",
    "The split method has two additional arguments (sep and maxsplit). The sep argument stands for \"separator\". It can be used to identify how the string should be split up (e.g., whitespace characters like space, tab, return, newline; specific punctuation (e.g., comma, dashes)). If the sep argument is not provided, the default separator is whitespace.\n",
    "\n",
    "True to its name, the maxsplit argument provides the maximum number of splits. The argument gives maxsplit + 1 number of elements in the new list, with the remaining string being returned as the last element in the list. You can read more about these methods in the Python documentation too.\n",
    "\n",
    "Here are some examples for the .split() method.\n",
    ".split(separator, max_split)"
   ]
  },
  {
   "cell_type": "code",
   "execution_count": 64,
   "metadata": {},
   "outputs": [
    {
     "data": {
      "text/plain": [
       "['The', 'cow', 'jumped', 'over', 'the', 'moon. this is something. to know']"
      ]
     },
     "execution_count": 64,
     "metadata": {},
     "output_type": "execute_result"
    }
   ],
   "source": [
    "new_str = \"The cow jumped over the moon. this is something. to know\"\n",
    "\n",
    "#Case 1: A basic split method:\n",
    "new_str.split(None,5)\n",
    "\n",
    "\n"
   ]
  },
  {
   "cell_type": "code",
   "execution_count": null,
   "metadata": {},
   "outputs": [],
   "source": [
    "#Case 2: Using '.' as a separator and maxsplit of 3\n",
    "new_str.split('.', 3)\n",
    "\n",
    "#Case 3: Using no separators but having a maxsplit argument of 3.\n",
    "new_str.split(None, 3)"
   ]
  },
  {
   "cell_type": "markdown",
   "metadata": {},
   "source": [
    "# Lists\n",
    "\n",
    "Data structures are containers that organize and group data types together in different ways. A list is one of the most common and basic data structures in Python.\n",
    "\n",
    "You saw here that you can create a list with square brackets. Lists can contain any mix and match of the data types you have seen so far.\n",
    "\n",
    "list_of_random_things = [1, 3.4, 'a string', True]\n",
    "\n",
    "This is a list of 4 elements. All ordered containers (like lists) are indexed in python using a starting index of 0. Therefore, to pull the first value from the above list, we can write:\n",
    "\n",
    ">>> list_of_random_things[0]\n",
    "1\n",
    "\n"
   ]
  },
  {
   "cell_type": "code",
   "execution_count": 70,
   "metadata": {},
   "outputs": [
    {
     "data": {
      "text/plain": [
       "[12, 8.3]"
      ]
     },
     "execution_count": 70,
     "metadata": {},
     "output_type": "execute_result"
    }
   ],
   "source": [
    "#Example\n",
    "List = ['daniel', 'smith', '8', 12, 8.3]\n",
    "\n",
    "List[-2:]"
   ]
  },
  {
   "cell_type": "markdown",
   "metadata": {},
   "source": [
    "# List Slicing\n",
    "\n",
    "When using slicing, it is important to remember that the lower index is inclusive and the upper index is exclusive.\n"
   ]
  },
  {
   "cell_type": "code",
   "execution_count": null,
   "metadata": {},
   "outputs": [],
   "source": [
    "lst[0:6]"
   ]
  },
  {
   "cell_type": "markdown",
   "metadata": {},
   "source": [
    "# Are you in OR not in?\n",
    "\n",
    "You saw that we can also use in and not in to return a bool of whether an element exists within our list, or if one string is a substring of another.\n",
    "\n",
    "Ex:5 not in [1, 2, 3, 4, 6]"
   ]
  },
  {
   "cell_type": "code",
   "execution_count": 75,
   "metadata": {},
   "outputs": [
    {
     "data": {
      "text/plain": [
       "False"
      ]
     },
     "execution_count": 75,
     "metadata": {},
     "output_type": "execute_result"
    }
   ],
   "source": [
    "1 not in [1,2,3]"
   ]
  },
  {
   "cell_type": "markdown",
   "metadata": {},
   "source": [
    "# Exercise 9\n",
    "\n",
    "Uselist indexing to determine number of days in a month"
   ]
  },
  {
   "cell_type": "code",
   "execution_count": 76,
   "metadata": {},
   "outputs": [
    {
     "name": "stdout",
     "output_type": "stream",
     "text": [
      "31\n"
     ]
    }
   ],
   "source": [
    "month = 8\n",
    "days_in_month=[31, 28, 31, 30, 31, 30, 31, 31, 30, 31, 30, 31]\n",
    "\n",
    "num_days= days_in_month[7]\n",
    "\n",
    "print(num_days)"
   ]
  },
  {
   "cell_type": "markdown",
   "metadata": {},
   "source": [
    "# Exercise 10\n",
    "\n",
    "Use list slicing to obtain the three recent eclipse dates."
   ]
  },
  {
   "cell_type": "code",
   "execution_count": 77,
   "metadata": {},
   "outputs": [
    {
     "data": {
      "text/plain": [
       "['Aug 5, 2004', 'Jan 20, 2005', 'Feb 17, 2006']"
      ]
     },
     "execution_count": 77,
     "metadata": {},
     "output_type": "execute_result"
    }
   ],
   "source": [
    "eclipse_dates=['Jun 21, 2000', 'Mar 21,2002', 'June 3, 2003', 'Aug 5, 2004', 'Jan 20, 2005', 'Feb 17, 2006']\n",
    "\n",
    "eclipse_dates[-3:]"
   ]
  },
  {
   "cell_type": "markdown",
   "metadata": {},
   "source": [
    "# List - Functions and Methods\n",
    "\n",
    "len() returns how many elements are in a list.\n",
    "\n",
    "max() returns the greatest element of the list. \n",
    "\n",
    "min() returns the smallest element in a list. \n",
    "\n",
    "sorted() returns a copy of a list in order from smallest to largest, leaving the list unchanged.\n",
    "\n",
    "join - Join is a string method that takes a list of strings as an argument, and returns a string consisting of the list elements joined by a separator string.\n",
    "\n",
    "append - helpful method called append adds an element to the end of a list.\n",
    "\n",
    "https://www.w3schools.com/python/python_ref_list.asp"
   ]
  },
  {
   "cell_type": "code",
   "execution_count": 89,
   "metadata": {},
   "outputs": [
    {
     "ename": "AttributeError",
     "evalue": "'list' object has no attribute 'split'",
     "output_type": "error",
     "traceback": [
      "\u001b[1;31m---------------------------------------------------------------------------\u001b[0m",
      "\u001b[1;31mAttributeError\u001b[0m                            Traceback (most recent call last)",
      "\u001b[1;32m<ipython-input-89-97e387c77435>\u001b[0m in \u001b[0;36m<module>\u001b[1;34m\u001b[0m\n\u001b[0;32m      1\u001b[0m \u001b[0ma\u001b[0m\u001b[1;33m=\u001b[0m\u001b[1;33m[\u001b[0m\u001b[1;34m'jason'\u001b[0m\u001b[1;33m,\u001b[0m\u001b[1;34m'jack'\u001b[0m\u001b[1;33m,\u001b[0m\u001b[1;34m'adam'\u001b[0m\u001b[1;33m]\u001b[0m\u001b[1;33m\u001b[0m\u001b[1;33m\u001b[0m\u001b[0m\n\u001b[1;32m----> 2\u001b[1;33m \u001b[0ma\u001b[0m\u001b[1;33m.\u001b[0m\u001b[0msplit\u001b[0m\u001b[1;33m(\u001b[0m\u001b[1;33m)\u001b[0m\u001b[1;33m\u001b[0m\u001b[1;33m\u001b[0m\u001b[0m\n\u001b[0m",
      "\u001b[1;31mAttributeError\u001b[0m: 'list' object has no attribute 'split'"
     ]
    }
   ],
   "source": [
    "a=['jason','jack','adam']\n"
   ]
  },
  {
   "cell_type": "code",
   "execution_count": 91,
   "metadata": {},
   "outputs": [
    {
     "data": {
      "text/plain": [
       "['this', 'is', 'a', 'data']"
      ]
     },
     "execution_count": 91,
     "metadata": {},
     "output_type": "execute_result"
    }
   ],
   "source": [
    "len(sample)\n",
    "\n",
    "samp=['this', 'is', 'a']\n",
    "samp.append('data')\n",
    "sampsample= [32,45,98,12]\n"
   ]
  },
  {
   "cell_type": "markdown",
   "metadata": {},
   "source": [
    "# Tuples\n",
    "\n",
    "Ordered immutable collection of objects\n"
   ]
  },
  {
   "cell_type": "code",
   "execution_count": 104,
   "metadata": {},
   "outputs": [
    {
     "name": "stdout",
     "output_type": "stream",
     "text": [
      "The dimensions are (45, 65, 71)\n"
     ]
    }
   ],
   "source": [
    "dimensions=(45,65,71)\n",
    "dimensions[1]\n",
    "\n",
    "print(\"The dimensions are {}\".format(dimensions))"
   ]
  },
  {
   "cell_type": "markdown",
   "metadata": {},
   "source": [
    "# Sets\n",
    "\n",
    "Mutable unordered collection of unique elements\n",
    "\n",
    "1) List to set\n",
    "\n",
    "2) Add and pop methods\n",
    "\n",
    "https://www.w3schools.com/python/python_ref_set.asp"
   ]
  },
  {
   "cell_type": "code",
   "execution_count": 125,
   "metadata": {},
   "outputs": [
    {
     "data": {
      "text/plain": [
       "6"
      ]
     },
     "execution_count": 125,
     "metadata": {},
     "output_type": "execute_result"
    }
   ],
   "source": [
    "set([8,8,9,1,3])\n",
    "a={1,4,4,4,6}\n",
    "\n",
    "a\n",
    "4 in a\n",
    "a.add(9)\n",
    "a.pop()\n",
    "a.pop()\n",
    "a.pop()\n"
   ]
  },
  {
   "attachments": {
    "image.png": {
     "image/png": "[encoded data removed]"
    }
   },
   "cell_type": "markdown",
   "metadata": {},
   "source": [
    "# Dictionaries\n",
    "\n",
    "A dictionary is a mutable data type that stores mappings of unique keys to values.\n",
    "\n",
    "Elements={‘hydrogen’:1, ‘helium’:2, ‘carbon’:3}\n",
    "\n",
    "Define a dictionary that contain the following data:\n",
    "\n",
    "![image.png](attachment:image.png)"
   ]
  },
  {
   "cell_type": "code",
   "execution_count": 129,
   "metadata": {},
   "outputs": [
    {
     "data": {
      "text/plain": [
       "17.8"
      ]
     },
     "execution_count": 129,
     "metadata": {},
     "output_type": "execute_result"
    }
   ],
   "source": [
    "Cities={\n",
    "    'Shanghai':17.8,\n",
    "    'Istanbul': 13.3,\n",
    "    'Karachi': 13,\n",
    "    'Mumbai':12.5\n",
    "       }\n",
    "Cities['Shanghai']"
   ]
  },
  {
   "cell_type": "markdown",
   "metadata": {},
   "source": [
    "# Dictionary Methods and Identity Operators\n",
    "\n",
    "1) Retrieve any value using .get() method\n",
    "\n",
    "2) Add new key,value pairs\n",
    "\n",
    "3) Identity Operators - 'is' and 'is not' operators : To evaluate both sides have the same identity or not\n",
    "\n",
    "4) Difference between Equality and Identity\n",
    "\n"
   ]
  },
  {
   "cell_type": "code",
   "execution_count": 142,
   "metadata": {},
   "outputs": [
    {
     "data": {
      "text/plain": [
       "{'Shanghai': 17.8,\n",
       " 'Istanbul': 13.3,\n",
       " 'Karachi': 13,\n",
       " 'Mumbai': 12.5,\n",
       " 'Shangha': 90}"
      ]
     },
     "execution_count": 142,
     "metadata": {},
     "output_type": "execute_result"
    }
   ],
   "source": [
    "Cities['Shanghai']\n",
    "Cities.get('Shangha','Not found in dictioary')\n",
    "\n",
    "Cities['Shangha']=90\n",
    "Cities"
   ]
  },
  {
   "cell_type": "markdown",
   "metadata": {},
   "source": [
    "# More about Key-Values in Dictionaries\n",
    "\n",
    "1) Data types of Key - int, float, string\n",
    "\n",
    "2) Data types of Values - int, float, string, list, sets, tuple, dictionary"
   ]
  },
  {
   "cell_type": "code",
   "execution_count": 148,
   "metadata": {},
   "outputs": [
    {
     "data": {
      "text/plain": [
       "{'a': {1, 2}, 'b': 2}"
      ]
     },
     "execution_count": 148,
     "metadata": {},
     "output_type": "execute_result"
    }
   ],
   "source": [
    "{'a':{1,2},'b':2}"
   ]
  },
  {
   "cell_type": "markdown",
   "metadata": {},
   "source": [
    "# Compound Data Structures\n",
    "\n",
    "**Dictionary of Dictionaries**\n",
    "\n",
    "elements = {\"hydrogen\": {\"number\": 1,\n",
    "                         \"weight\": 1.00794,\n",
    "                         \"symbol\": \"H\"},\n",
    "              \"helium\": {\"number\": 2,\n",
    "                         \"weight\": 4.002602,\n",
    "                         \"symbol\": \"He\"}}"
   ]
  },
  {
   "cell_type": "code",
   "execution_count": 90,
   "metadata": {},
   "outputs": [],
   "source": [
    "elements = {\"hydrogen\": {\"number\": 1,\n",
    "                         \"weight\": 1.00794,\n",
    "                         \"symbol\": \"H\"},\n",
    "              \"helium\": {\"number\": 2,\n",
    "                         \"weight\": 4.002602,\n",
    "                         \"symbol\": \"He\"}}"
   ]
  },
  {
   "cell_type": "code",
   "execution_count": 94,
   "metadata": {},
   "outputs": [
    {
     "data": {
      "text/plain": [
       "'this value is not in the dictionary'"
      ]
     },
     "execution_count": 94,
     "metadata": {},
     "output_type": "execute_result"
    }
   ],
   "source": [
    "elements.get('carbon','this value is not in the dictionary')"
   ]
  },
  {
   "cell_type": "markdown",
   "metadata": {},
   "source": [
    "# Exercise 11\n",
    "\n",
    "Add an extra entry 'is_noble_gas' to the above 'elements' dictionary.\n",
    "\n",
    "Hydrogen - True\n",
    "\n",
    "Helium - False"
   ]
  },
  {
   "cell_type": "code",
   "execution_count": 36,
   "metadata": {},
   "outputs": [
    {
     "ename": "TypeError",
     "evalue": "object of type 'int' has no len()",
     "output_type": "error",
     "traceback": [
      "\u001b[1;31m---------------------------------------------------------------------------\u001b[0m",
      "\u001b[1;31mTypeError\u001b[0m                                 Traceback (most recent call last)",
      "\u001b[1;32m<ipython-input-36-428100f03869>\u001b[0m in \u001b[0;36m<module>\u001b[1;34m\u001b[0m\n\u001b[1;32m----> 1\u001b[1;33m \u001b[0mlen\u001b[0m\u001b[1;33m(\u001b[0m\u001b[1;36m453\u001b[0m\u001b[1;33m)\u001b[0m\u001b[1;33m\u001b[0m\u001b[1;33m\u001b[0m\u001b[0m\n\u001b[0m",
      "\u001b[1;31mTypeError\u001b[0m: object of type 'int' has no len()"
     ]
    }
   ],
   "source": [
    "len(453)"
   ]
  },
  {
   "cell_type": "code",
   "execution_count": 38,
   "metadata": {},
   "outputs": [
    {
     "name": "stdout",
     "output_type": "stream",
     "text": [
      "3\n"
     ]
    }
   ],
   "source": [
    "Sentence = [‘I’, ‘want’, ‘to’, ‘register’, ‘a’, ‘complaint’]      \n",
    "Sentence[1:4]"
   ]
  }
 ],
 "metadata": {
  "kernelspec": {
   "display_name": "Python 3",
   "language": "python",
   "name": "python3"
  },
  "language_info": {
   "codemirror_mode": {
    "name": "ipython",
    "version": 3
   },
   "file_extension": ".py",
   "mimetype": "text/x-python",
   "name": "python",
   "nbconvert_exporter": "python",
   "pygments_lexer": "ipython3",
   "version": "3.7.4"
  }
 },
 "nbformat": 4,
 "nbformat_minor": 2
}
