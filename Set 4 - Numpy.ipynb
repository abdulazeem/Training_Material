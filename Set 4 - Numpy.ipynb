{
 "cells": [
  {
   "cell_type": "markdown",
   "metadata": {},
   "source": [
    "# Exercise 1: Creating Numpy Arrays\n",
    "\n",
    "At the core of NumPy is the ndarray, where nd stands for n-dimensional. An ndarray is a multidimensional array of elements all of the same type. \n",
    "\n",
    "Check size, shape, type and dtype for all the below:\n",
    "\n",
    "1) Create 1D array containing integers\n",
    "\n",
    "2) Create 1D array containing strings\n",
    "\n",
    "3) Create 2D array containing integers\n",
    "\n",
    "4) Create 1D array containing float and integers - Understand Upcasting\n",
    "\n",
    "5) Create an array and fix the dtype to int64\n",
    "\n",
    "6) Save and load numpy array using np.save() and np.load()\n",
    "\n",
    "https://docs.scipy.org/doc/numpy/user/basics.creation.html"
   ]
  },
  {
   "cell_type": "code",
   "execution_count": 163,
   "metadata": {},
   "outputs": [],
   "source": [
    "import numpy as np"
   ]
  },
  {
   "cell_type": "code",
   "execution_count": 177,
   "metadata": {},
   "outputs": [
    {
     "data": {
      "text/plain": [
       "dtype('float64')"
      ]
     },
     "execution_count": 177,
     "metadata": {},
     "output_type": "execute_result"
    }
   ],
   "source": [
    "x=np.array([5,6,8,9.54])\n",
    "np.save('new',x)\n",
    "\n",
    "x.dtype"
   ]
  },
  {
   "cell_type": "code",
   "execution_count": 178,
   "metadata": {},
   "outputs": [
    {
     "data": {
      "text/plain": [
       "array([5.  , 6.  , 8.  , 9.54])"
      ]
     },
     "execution_count": 178,
     "metadata": {},
     "output_type": "execute_result"
    }
   ],
   "source": [
    "np.load('new.npy')"
   ]
  },
  {
   "cell_type": "markdown",
   "metadata": {},
   "source": [
    "# Exercise 2: Using Built-in functions to Create ndarrays\n",
    "\n",
    "shape in the form (rows, columns)\n",
    "\n",
    "1) Zero array or matrix - Use np.zeros(shape) \n",
    "\n",
    "2) array or matrix of ones - Use np.ones(shape)\n",
    "\n",
    "3) array or matrix of specific number - Use np.full(shape, number) \n",
    "\n",
    "4) identity matrix - Use np.eye(matrix-size)\n",
    "\n",
    "5) diagonal matrix - Use np.diag([list])\n"
   ]
  },
  {
   "cell_type": "code",
   "execution_count": 186,
   "metadata": {},
   "outputs": [
    {
     "name": "stdout",
     "output_type": "stream",
     "text": [
      "[[4 0 0 0]\n",
      " [0 5 0 0]\n",
      " [0 0 6 0]\n",
      " [0 0 0 6]]\n"
     ]
    },
    {
     "data": {
      "text/plain": [
       "dtype('int32')"
      ]
     },
     "execution_count": 186,
     "metadata": {},
     "output_type": "execute_result"
    }
   ],
   "source": [
    "x=np.diag([4,5,6,6])\n",
    "print(x)\n",
    "x.dtype"
   ]
  },
  {
   "cell_type": "markdown",
   "metadata": {},
   "source": [
    "# Exercise 3:\n",
    "\n",
    "Create a 4x5 matrix with first column as ones, second as only 2's, third as 3's .. and so on. \n",
    "\n",
    "Sample Output: \n",
    "([[1., 2., 3., 4., 5.],\n",
    "  [1., 2., 3., 4., 5.],\n",
    "  [1., 2., 3., 4., 5.],\n",
    "  [1., 2., 3., 4., 5.]])"
   ]
  },
  {
   "cell_type": "code",
   "execution_count": 188,
   "metadata": {},
   "outputs": [
    {
     "data": {
      "text/plain": [
       "array([[1., 2., 3., 4., 5.],\n",
       "       [1., 2., 3., 4., 5.],\n",
       "       [1., 2., 3., 4., 5.],\n",
       "       [1., 2., 3., 4., 5.]])"
      ]
     },
     "execution_count": 188,
     "metadata": {},
     "output_type": "execute_result"
    }
   ],
   "source": [
    "np.ones((4,5))*np.arange(1,6)"
   ]
  },
  {
   "cell_type": "markdown",
   "metadata": {},
   "source": [
    "# Exercise 4: Using Built-in function - arange, linspace : To create one dimensional array\n",
    "\n",
    "**np.arange**\n",
    "\n",
    "np.arange() allows you to create ndarrays that have evenly spaced values within a given interval.This function is very versatile and can be used with either one, two, or three arguments. \n",
    "\n",
    "a) np.arange(N)\n",
    "\n",
    "b) np.arange(start,stop)\n",
    "\n",
    "c) np.arange(start,stop,step)\n",
    "\n",
    "**np.linspace()**\n",
    "\n",
    "np.linspace(start, stop, N) function returns N evenly spaced numbers over the closed interval [start, stop]. This means that both the start and thestop values are included. We should also note the np.linspace() function needs to be called with at least two arguments in the form np.linspace(start,stop). In this case, the default number of elements in the specified interval will be N= 50. The reason np.linspace() works better than the np.arange() function, is that np.linspace() uses the number of elements we want in a particular interval, instead of the step between values.\n",
    "\n",
    "np.linspace(start, stop, spacing, endpoint=True/False)"
   ]
  },
  {
   "cell_type": "code",
   "execution_count": 193,
   "metadata": {},
   "outputs": [
    {
     "data": {
      "text/plain": [
       "array([2.        , 2.53333333, 3.06666667, 3.6       , 4.13333333,\n",
       "       4.66666667, 5.2       , 5.73333333, 6.26666667, 6.8       ,\n",
       "       7.33333333, 7.86666667, 8.4       , 8.93333333, 9.46666667])"
      ]
     },
     "execution_count": 193,
     "metadata": {},
     "output_type": "execute_result"
    }
   ],
   "source": [
    "np.linspace(2,10,15,endpoint=False)"
   ]
  },
  {
   "cell_type": "markdown",
   "metadata": {},
   "source": [
    "# Exercise 4: Using Built-in function - reshape : To create Two dimensional array\n",
    "\n",
    "\n",
    "**np.arange**\n",
    "\n",
    "np.arange(10).reshape(2,5)\n",
    "\n",
    "or\n",
    "\n",
    "np.reshape(x, (row,columns))\n",
    "\n"
   ]
  },
  {
   "cell_type": "code",
   "execution_count": 197,
   "metadata": {},
   "outputs": [
    {
     "data": {
      "text/plain": [
       "array([[ 1.        ,  1.3877551 ,  1.7755102 ,  2.16326531,  2.55102041],\n",
       "       [ 2.93877551,  3.32653061,  3.71428571,  4.10204082,  4.48979592],\n",
       "       [ 4.87755102,  5.26530612,  5.65306122,  6.04081633,  6.42857143],\n",
       "       [ 6.81632653,  7.20408163,  7.59183673,  7.97959184,  8.36734694],\n",
       "       [ 8.75510204,  9.14285714,  9.53061224,  9.91836735, 10.30612245],\n",
       "       [10.69387755, 11.08163265, 11.46938776, 11.85714286, 12.24489796],\n",
       "       [12.63265306, 13.02040816, 13.40816327, 13.79591837, 14.18367347],\n",
       "       [14.57142857, 14.95918367, 15.34693878, 15.73469388, 16.12244898],\n",
       "       [16.51020408, 16.89795918, 17.28571429, 17.67346939, 18.06122449],\n",
       "       [18.44897959, 18.83673469, 19.2244898 , 19.6122449 , 20.        ]])"
      ]
     },
     "execution_count": 197,
     "metadata": {},
     "output_type": "execute_result"
    }
   ],
   "source": [
    "np.linspace(1,20,50).reshape(10,5)"
   ]
  },
  {
   "cell_type": "markdown",
   "metadata": {},
   "source": [
    "# Exercise 5: \n",
    "\n",
    "Create a matrix of 6 x 4 dimensions, with each element as a multiple of 3.\n",
    "\n",
    "sample output:\n",
    "\n",
    "array([[ 3,  6,  9, 12],\n",
    "       [15, 18, 21, 24],\n",
    "       [27, 30, 33, 36],\n",
    "       [39, 42, 45, 48],\n",
    "       [51, 54, 57, 60],\n",
    "       [63, 66, 69, 72]])"
   ]
  },
  {
   "cell_type": "code",
   "execution_count": 199,
   "metadata": {},
   "outputs": [
    {
     "data": {
      "text/plain": [
       "array([[ 3.,  6.,  9., 12.],\n",
       "       [15., 18., 21., 24.],\n",
       "       [27., 30., 33., 36.],\n",
       "       [39., 42., 45., 48.],\n",
       "       [51., 54., 57., 60.],\n",
       "       [63., 66., 69., 72.]])"
      ]
     },
     "execution_count": 199,
     "metadata": {},
     "output_type": "execute_result"
    }
   ],
   "source": [
    "np.linspace(3,72,24).reshape(6,4)"
   ]
  },
  {
   "cell_type": "markdown",
   "metadata": {},
   "source": [
    "# Exercise 6: Random Arrays\n",
    "\n",
    "1) Random matrix with values between 0 and 1: np.random.random(shape)\n",
    "    \n",
    "2) Random matrix with integer values ranging between two given fixed values: np.random.randint(start, stop, size=shape)\n",
    "    \n",
    "3) Random matrix with numbers draws from normal distribution: np.random.normal(mean, standard deviation, size=shape)"
   ]
  },
  {
   "cell_type": "code",
   "execution_count": 205,
   "metadata": {},
   "outputs": [],
   "source": [
    "x=np.random.normal(5,2,(4,5))"
   ]
  },
  {
   "cell_type": "code",
   "execution_count": 206,
   "metadata": {},
   "outputs": [
    {
     "data": {
      "text/plain": [
       "5.581396359241524"
      ]
     },
     "execution_count": 206,
     "metadata": {},
     "output_type": "execute_result"
    }
   ],
   "source": [
    "np.mean(x)"
   ]
  },
  {
   "cell_type": "markdown",
   "metadata": {},
   "source": [
    "# Exercise 7: Create an ndarray\n",
    "    \n",
    "Create a 7x4 array that only contain random numbers between 10 and 20 inclusive."
   ]
  },
  {
   "cell_type": "code",
   "execution_count": 207,
   "metadata": {},
   "outputs": [
    {
     "data": {
      "text/plain": [
       "array([[17, 18, 12, 13],\n",
       "       [11, 14, 10, 17],\n",
       "       [15, 16, 15, 19],\n",
       "       [20, 11, 14, 14],\n",
       "       [19, 15, 16, 14],\n",
       "       [12, 18, 19, 15],\n",
       "       [12, 11, 18, 11]])"
      ]
     },
     "execution_count": 207,
     "metadata": {},
     "output_type": "execute_result"
    }
   ],
   "source": [
    "np.random.randint(10,21,(7,4))"
   ]
  },
  {
   "cell_type": "markdown",
   "metadata": {},
   "source": [
    "# Exercise 8: Accessing, Deleting, and Inserting Elements into ndarrays\n",
    "\n",
    "1) Accessing an element in 1-D Array\n",
    "\n",
    "2) Accessing an element in 2-D Array\n",
    "\n",
    "3) Appending: np.append(ndarray, elements, axis)\n",
    "\n",
    "4) Deleting: np.delete(ndarray, elements, axis)\n",
    "\n",
    "5) Inserting: np.insert(ndarray, index, elements, axis)\n",
    "\n",
    "6) Stacking: Horizontal - np.hstack(), Vertical - np.vstack()\n",
    "\n",
    "7) Slicing: \n",
    "    ndarray[start:end]\n",
    "    nadarray[start:]\n",
    "    nadarray[:end]\n",
    "\n",
    "axis= 0 : Rows\n",
    "axis= 1 : Columns"
   ]
  },
  {
   "cell_type": "code",
   "execution_count": 224,
   "metadata": {},
   "outputs": [
    {
     "name": "stdout",
     "output_type": "stream",
     "text": [
      "This is 2D \n",
      "  [[10 16 11 12]\n",
      " [18 10 13 18]\n",
      " [17 15  9 12]\n",
      " [17 17  6  6]]\n",
      "\n",
      "This is 1D Array [6 7 4 1]\n",
      "\n"
     ]
    }
   ],
   "source": [
    "x=np.random.randint(1,20,(4,4))\n",
    "y=np.random.randint(1,8,4)\n",
    "print('This is 2D \\n ',x)\n",
    "print()\n",
    "print('This is 1D Array', y)\n",
    "print()"
   ]
  },
  {
   "cell_type": "code",
   "execution_count": 310,
   "metadata": {},
   "outputs": [
    {
     "name": "stdout",
     "output_type": "stream",
     "text": [
      "78\n"
     ]
    }
   ],
   "source": [
    "x=np.array([[4,8,9,21,82,22,31]])\n",
    "range=np.max(x)-np.min(x)\n",
    "std=np.std(x)\n",
    "int(range-std)\n",
    "print(int(range))"
   ]
  },
  {
   "cell_type": "markdown",
   "metadata": {},
   "source": [
    "# Exercise 9: Data Extraction and Copying\n",
    "\n",
    "1) Extracting diagonal elements of a matrix: np.diag(ndarray)\n",
    "\n",
    "2) Extracting elements above and below main diagonal: np.diag(ndarray, k=value) - \n",
    "    value = positive - above main diagonal\n",
    "    value = negative - below main diagonal\n",
    "\n",
    "3) Extract unique array of values from an array or matrix: np.unique()\n",
    "\n",
    "4) Copying: np.copy(ndarray)"
   ]
  },
  {
   "cell_type": "code",
   "execution_count": 313,
   "metadata": {},
   "outputs": [
    {
     "data": {
      "text/plain": [
       "15"
      ]
     },
     "execution_count": 313,
     "metadata": {},
     "output_type": "execute_result"
    }
   ],
   "source": [
    "len(np.unique(np.array([4,2,5,6,7,8,9,10,12,21,21,23,42,76,51,31,21,12,6,7,4,8,2])))"
   ]
  },
  {
   "cell_type": "markdown",
   "metadata": {},
   "source": [
    "# Exercise 10: Boolean and Set Operations\n",
    "\n",
    "1) Finding elements for a given boolean condition: x[x>value]\n",
    "\n",
    "2) Use boolean indexing to assign new values to an existing array or matrix.\n",
    "\n",
    "3) Create and sort an array: np.sort(ndarray)\n",
    "\n",
    "4) Create and sort a rank 2 array: np.sort(ndarray, axis= 0/1)\n",
    "\n",
    "5) Use of set operations on 1-d array: np.union1d(x,y), np.intersect1d(x,y), np.setdiff1d(x,y)\n"
   ]
  },
  {
   "cell_type": "code",
   "execution_count": 271,
   "metadata": {},
   "outputs": [
    {
     "name": "stdout",
     "output_type": "stream",
     "text": [
      "original matrix, \n",
      "  [[29 35  4 16 28]\n",
      " [29 20 16 12 40]\n",
      " [21 35 31  2 12]\n",
      " [26 24 33 29 27]\n",
      " [ 1 43 22 41 43]]\n"
     ]
    }
   ],
   "source": [
    "x=np.random.randint(1,50,(5,5))\n",
    "print('original matrix, \\n ',x)"
   ]
  },
  {
   "cell_type": "code",
   "execution_count": 277,
   "metadata": {},
   "outputs": [
    {
     "data": {
      "text/plain": [
       "array([11])"
      ]
     },
     "execution_count": 277,
     "metadata": {},
     "output_type": "execute_result"
    }
   ],
   "source": [
    "\n",
    "\n",
    "np.setdiff1d(y,x)"
   ]
  },
  {
   "cell_type": "markdown",
   "metadata": {},
   "source": [
    "# Exercise 11: Artihmetic and Statistics Operations\n",
    "\n",
    "1) Use the basic arithmetic operations on 1-D arrays: np.add(x,y), np.subtract(x,y), np.multiply(x,y), np.divide(x,y)\n",
    "\n",
    "2) Use the basic mathematical operations: np.exp(x), np.sqrt(x), np.pow(x,value)\n",
    "\n",
    "3) Use the statistical operations: np.max(), np.min(), np.mean(), np.std(), np.median()"
   ]
  },
  {
   "cell_type": "code",
   "execution_count": 284,
   "metadata": {},
   "outputs": [
    {
     "data": {
      "text/plain": [
       "array([[ 4,  9],\n",
       "       [13, 30]])"
      ]
     },
     "execution_count": 284,
     "metadata": {},
     "output_type": "execute_result"
    }
   ],
   "source": [
    "x=np.array([[1,2],[4,5]])\n",
    "y=np.array([[2,5],[1,2]])\n",
    "\n",
    "x.dot(y)"
   ]
  },
  {
   "cell_type": "code",
   "execution_count": 296,
   "metadata": {},
   "outputs": [
    {
     "name": "stdout",
     "output_type": "stream",
     "text": [
      "Median 9.5\n",
      "Mean 1019.0\n",
      "Standard Deviation 2995.426580639225\n",
      "Range 10000\n"
     ]
    }
   ],
   "source": [
    "a=np.array([5,6,7,8,9,10,21,87,32,10005])\n",
    "\n",
    "print('Median',np.median(a))\n",
    "print('Mean',np.mean(a))\n",
    "print('Standard Deviation',np.std(a))\n",
    "print('Range', np.max(a)-np.min(a))"
   ]
  },
  {
   "cell_type": "markdown",
   "metadata": {},
   "source": [
    "# Exercise - 12: \n",
    "\n",
    "Create a 5x5 ndarray with consecutive integers from 1 to 25 inclusive. Afterwards use Boolean indexing to pick out only the odd numbers in an array.\n"
   ]
  },
  {
   "cell_type": "code",
   "execution_count": 302,
   "metadata": {},
   "outputs": [
    {
     "name": "stdout",
     "output_type": "stream",
     "text": [
      "[[ 1  2  3  4  5]\n",
      " [ 6  7  8  9 10]\n",
      " [11 12 13 14 15]\n",
      " [16 17 18 19 20]\n",
      " [21 22 23 24 25]]\n"
     ]
    },
    {
     "data": {
      "text/plain": [
       "array([ 1,  3,  5,  7,  9, 11, 13, 15, 17, 19, 21, 23, 25])"
      ]
     },
     "execution_count": 302,
     "metadata": {},
     "output_type": "execute_result"
    }
   ],
   "source": [
    "X=np.arange(1,26).reshape(5,5)\n",
    "print(X)\n",
    "\n",
    "X[X%2!=0]"
   ]
  },
  {
   "cell_type": "code",
   "execution_count": 315,
   "metadata": {},
   "outputs": [
    {
     "name": "stdout",
     "output_type": "stream",
     "text": [
      "Matrix X \n",
      " \n",
      "  [[7 8]\n",
      " [9 2]]\n",
      "\n",
      "\n",
      "Matrix Y \n",
      " \n",
      "  [[3 4]\n",
      " [7 1]]\n"
     ]
    }
   ],
   "source": [
    "x=np.array([[7,8],[9,2]])\n",
    "y=np.array([[3,4],[7,1]])\n",
    "\n",
    "print('Matrix X \\n \\n ', x )\n",
    "print()\n",
    "print()\n",
    "\n",
    "print('Matrix Y \\n \\n ',y)"
   ]
  },
  {
   "cell_type": "code",
   "execution_count": 319,
   "metadata": {},
   "outputs": [
    {
     "data": {
      "text/plain": [
       "192"
      ]
     },
     "execution_count": 319,
     "metadata": {},
     "output_type": "execute_result"
    }
   ],
   "source": [
    "np.sum((x.dot(y)))"
   ]
  },
  {
   "cell_type": "code",
   "execution_count": 325,
   "metadata": {},
   "outputs": [
    {
     "name": "stdout",
     "output_type": "stream",
     "text": [
      "[5 6 7 8]\n"
     ]
    }
   ],
   "source": [
    "v=np.array([5,6,7,8])\n",
    "np.tile(v,(4,2))\n",
    "print(np.empty_like(v))"
   ]
  }
 ],
 "metadata": {
  "kernelspec": {
   "display_name": "Python 3",
   "language": "python",
   "name": "python3"
  },
  "language_info": {
   "codemirror_mode": {
    "name": "ipython",
    "version": 3
   },
   "file_extension": ".py",
   "mimetype": "text/x-python",
   "name": "python",
   "nbconvert_exporter": "python",
   "pygments_lexer": "ipython3",
   "version": "3.7.4"
  }
 },
 "nbformat": 4,
 "nbformat_minor": 2
}
