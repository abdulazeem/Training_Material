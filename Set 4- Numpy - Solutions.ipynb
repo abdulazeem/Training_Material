{
 "cells": [
  {
   "cell_type": "markdown",
   "metadata": {},
   "source": [
    "# Exercise 1: Creating Numpy Arrays\n",
    "\n",
    "At the core of NumPy is the ndarray, where nd stands for n-dimensional. An ndarray is a multidimensional array of elements all of the same type. \n",
    "\n",
    "Check size, shape, type and dtype for all the below:\n",
    "\n",
    "1) Create 1D array containing integers\n",
    "\n",
    "2) Create 1D array containing strings\n",
    "\n",
    "3) Create 2D array containing integers\n",
    "\n",
    "4) Create 1D array containing float and integers - Understand Upcasting\n",
    "\n",
    "5) Create an array and fix the dtype to int64\n",
    "\n",
    "6) Save and load numpy array using np.save() and np.load()\n",
    "\n",
    "https://docs.scipy.org/doc/numpy/user/basics.creation.html"
   ]
  },
  {
   "cell_type": "code",
   "execution_count": 32,
   "metadata": {},
   "outputs": [],
   "source": [
    "import numpy as np\n",
    "\n",
    "x=np.array([[2,3,4], [4,5,6], [5,6,7,9]])"
   ]
  },
  {
   "cell_type": "code",
   "execution_count": 37,
   "metadata": {},
   "outputs": [],
   "source": [
    "x=np.array([3,4,5], dtype=float)"
   ]
  },
  {
   "cell_type": "code",
   "execution_count": 38,
   "metadata": {},
   "outputs": [
    {
     "data": {
      "text/plain": [
       "array([3., 4., 5.])"
      ]
     },
     "execution_count": 38,
     "metadata": {},
     "output_type": "execute_result"
    }
   ],
   "source": []
  },
  {
   "cell_type": "code",
   "execution_count": 2,
   "metadata": {},
   "outputs": [
    {
     "name": "stdout",
     "output_type": "stream",
     "text": [
      "[6 4 7 4 2 0]\n",
      "int32\n",
      "(6,)\n",
      "<class 'numpy.ndarray'>\n",
      "6\n",
      "\n",
      "\n",
      "['this' 'is' 'a' 'string']\n",
      "<U6\n",
      "(4,)\n",
      "<class 'numpy.ndarray'>\n",
      "4\n",
      "\n",
      "\n",
      "[[4 7 8]\n",
      " [8 9 2]\n",
      " [1 2 4]]\n",
      "int32\n",
      "(3, 3)\n",
      "<class 'numpy.ndarray'>\n",
      "9\n",
      "\n",
      "\n",
      "[6.  4.5 6.4 3.  9. ]\n",
      "float64\n",
      "(5,)\n",
      "<class 'numpy.ndarray'>\n",
      "5\n",
      "\n",
      "\n",
      "['6' '4.5' '6.4' '3' '9']\n",
      "<U3\n",
      "(5,)\n",
      "<class 'numpy.ndarray'>\n",
      "5\n",
      "\n",
      "\n",
      "[2.  3.  4.  5.  9.7]\n"
     ]
    }
   ],
   "source": [
    "import numpy as np\n",
    "#1-D Array containing Integers\n",
    "\n",
    "x= np.array([6,4,7,4,2,0])\n",
    "print(x)\n",
    "print(x.dtype)\n",
    "print(x.shape)\n",
    "print(type(x))\n",
    "print(x.size)\n",
    "print()\n",
    "print()\n",
    "\n",
    "#1-D Array containing Strings\n",
    "x= np.array(['this', 'is','a','string'])\n",
    "print(x)\n",
    "print(x.dtype)\n",
    "print(x.shape)\n",
    "print(type(x))\n",
    "print(x.size)\n",
    "print()\n",
    "print()\n",
    "\n",
    "#2-D Array containing Integers\n",
    "x=np.array([[4,7,8],[8,9,2],[1,2,4]])\n",
    "print(x)\n",
    "print(x.dtype)\n",
    "print(x.shape)\n",
    "print(type(x))\n",
    "print(x.size)\n",
    "print()\n",
    "print()\n",
    "\n",
    "#1-D Array of Integers and Floats - Upcasting\n",
    "x= np.array([6,4.5, 6.4,3,9])\n",
    "print(x)\n",
    "print(x.dtype)\n",
    "print(x.shape)\n",
    "print(type(x))\n",
    "print(x.size)\n",
    "print()\n",
    "print()\n",
    "\n",
    "#1-D Array of Integers and Floats - Upcasting\n",
    "x= np.array([6,4.5, 6.4,3,9],dtype=str)\n",
    "print(x)\n",
    "print(x.dtype)\n",
    "print(x.shape)\n",
    "print(type(x))\n",
    "print(x.size)\n",
    "print()\n",
    "print()\n",
    "\n",
    "#Save and Load a numpy file\n",
    "a=np.array([2,3,4,5,9.7])\n",
    "np.save('xyz',a)\n",
    "b=np.load('xyz.npy')\n",
    "print(b)"
   ]
  },
  {
   "cell_type": "code",
   "execution_count": 39,
   "metadata": {},
   "outputs": [],
   "source": [
    "a=np.array([2,3,4,5,9.7])\n",
    "\n",
    "#np.save('xyz',a)\n",
    "#b=np.load('xyz.npy')\n",
    "#print(b)"
   ]
  },
  {
   "cell_type": "code",
   "execution_count": 41,
   "metadata": {},
   "outputs": [
    {
     "name": "stdout",
     "output_type": "stream",
     "text": [
      "[2.  3.  4.  5.  9.7]\n"
     ]
    }
   ],
   "source": [
    "np.save('file', a)\n",
    "\n",
    "b=np.load('file.npy')\n",
    "print(b)"
   ]
  },
  {
   "cell_type": "code",
   "execution_count": 42,
   "metadata": {},
   "outputs": [
    {
     "data": {
      "text/plain": [
       "'C:\\\\Users\\\\user\\\\DS Training'"
      ]
     },
     "execution_count": 42,
     "metadata": {},
     "output_type": "execute_result"
    }
   ],
   "source": [
    "import os\n",
    "os.getcwd()"
   ]
  },
  {
   "cell_type": "markdown",
   "metadata": {},
   "source": [
    "# Exercise 2: Using Built-in functions to Create ndarrays\n",
    "\n",
    "shape in the form (rows, columns)\n",
    "\n",
    "1) Zero array or matrix - Use np.zeros(shape) \n",
    "\n",
    "2) array or matrix of ones - Use np.ones(shape)\n",
    "\n",
    "3) array or matrix of specific number - Use np.full(shape, number) \n",
    "\n",
    "4) identity matrix - Use np.eye(matrix-size)\n",
    "\n",
    "5) diagonal matrix - Use np.diag([list])"
   ]
  },
  {
   "cell_type": "code",
   "execution_count": 3,
   "metadata": {},
   "outputs": [
    {
     "name": "stdout",
     "output_type": "stream",
     "text": [
      "[[0. 0. 0.]\n",
      " [0. 0. 0.]\n",
      " [0. 0. 0.]\n",
      " [0. 0. 0.]]\n",
      "\n",
      "[[1. 1. 1.]\n",
      " [1. 1. 1.]]\n",
      "\n",
      "[[4 4 4]\n",
      " [4 4 4]\n",
      " [4 4 4]]\n",
      "\n",
      "[[1. 0. 0. 0. 0.]\n",
      " [0. 1. 0. 0. 0.]\n",
      " [0. 0. 1. 0. 0.]\n",
      " [0. 0. 0. 1. 0.]\n",
      " [0. 0. 0. 0. 1.]]\n",
      "[[4 0 0]\n",
      " [0 5 0]\n",
      " [0 0 6]]\n"
     ]
    }
   ],
   "source": [
    "#Zero matrix\n",
    "z= np.zeros((4,3))\n",
    "print(z)\n",
    "print()\n",
    "\n",
    "#Matrix of ones\n",
    "z=np.ones((2,3))\n",
    "print(z)\n",
    "print()\n",
    "\n",
    "#Matrix of specific number\n",
    "z=np.full((3,3),4)\n",
    "print(z)\n",
    "print()\n",
    "\n",
    "#Identity Matrix\n",
    "z=np.eye(5)\n",
    "print(z)\n",
    "\n",
    "#Diagonal Matrix\n",
    "z=np.diag([4,5,6])\n",
    "print(z)"
   ]
  },
  {
   "cell_type": "markdown",
   "metadata": {},
   "source": [
    "# Exercise 3:\n",
    "\n",
    "Create a 4x5 matrix with first column as ones, second as only 2's, third as 3's .. and so on. \n",
    "\n",
    "Sample Output: \n",
    "([[1., 2., 3., 4., 5.],\n",
    "  [1., 2., 3., 4., 5.],\n",
    "  [1., 2., 3., 4., 5.],\n",
    "  [1., 2., 3., 4., 5.]])"
   ]
  },
  {
   "cell_type": "code",
   "execution_count": 5,
   "metadata": {},
   "outputs": [
    {
     "data": {
      "text/plain": [
       "array([[1., 2., 3., 4., 5.],\n",
       "       [1., 2., 3., 4., 5.],\n",
       "       [1., 2., 3., 4., 5.],\n",
       "       [1., 2., 3., 4., 5.]])"
      ]
     },
     "execution_count": 5,
     "metadata": {},
     "output_type": "execute_result"
    }
   ],
   "source": [
    "np.ones((4,5))*np.array([1,2,3,4,5])"
   ]
  },
  {
   "cell_type": "markdown",
   "metadata": {},
   "source": [
    "# Exercise 4: Using Built-in function - arange, linspace : To create one dimensional array\n",
    "\n",
    "**np.arange**\n",
    "\n",
    "np.arange() allows you to create ndarrays that have evenly spaced values within a given interval.This function is very versatile and can be used with either one, two, or three arguments. \n",
    "\n",
    "a) np.arange(N)\n",
    "\n",
    "b) np.arange(start,stop)\n",
    "\n",
    "c) np.arange(start,stop,step)\n",
    "\n",
    "**np.linspace()**\n",
    "\n",
    "np.linspace(start, stop, N) function returns N evenly spaced numbers over the closed interval [start, stop]. This means that both the start and thestop values are included. We should also note the np.linspace() function needs to be called with at least two arguments in the form np.linspace(start,stop). In this case, the default number of elements in the specified interval will be N= 50. The reason np.linspace() works better than the np.arange() function, is that np.linspace() uses the number of elements we want in a particular interval, instead of the step between values.\n",
    "\n",
    "np.linspace(start, stop, spacing, endpoint=True/False)"
   ]
  },
  {
   "cell_type": "code",
   "execution_count": 7,
   "metadata": {},
   "outputs": [
    {
     "name": "stdout",
     "output_type": "stream",
     "text": [
      "[ 1  3  5  7  9 11 13 15 17 19 21 23 25]\n",
      "\n",
      "[ 2.          2.48979592  2.97959184  3.46938776  3.95918367  4.44897959\n",
      "  4.93877551  5.42857143  5.91836735  6.40816327  6.89795918  7.3877551\n",
      "  7.87755102  8.36734694  8.85714286  9.34693878  9.83673469 10.32653061\n",
      " 10.81632653 11.30612245 11.79591837 12.28571429 12.7755102  13.26530612\n",
      " 13.75510204 14.24489796 14.73469388 15.2244898  15.71428571 16.20408163\n",
      " 16.69387755 17.18367347 17.67346939 18.16326531 18.65306122 19.14285714\n",
      " 19.63265306 20.12244898 20.6122449  21.10204082 21.59183673 22.08163265\n",
      " 22.57142857 23.06122449 23.55102041 24.04081633 24.53061224 25.02040816\n",
      " 25.51020408 26.        ]\n",
      "\n"
     ]
    }
   ],
   "source": [
    "# Using np.arange\n",
    "x=np.arange(1,26,2)\n",
    "print(x)\n",
    "print()\n",
    "\n",
    "#Using np.linspace\n",
    "x=np.linspace(2,26,50)\n",
    "print(x)\n",
    "print()"
   ]
  },
  {
   "cell_type": "markdown",
   "metadata": {},
   "source": [
    "# Exercise 4: Using Built-in function - reshape : To create Two dimensional array"
   ]
  },
  {
   "cell_type": "code",
   "execution_count": 9,
   "metadata": {},
   "outputs": [
    {
     "data": {
      "text/plain": [
       "array([[0, 1, 2, 3, 4],\n",
       "       [5, 6, 7, 8, 9]])"
      ]
     },
     "execution_count": 9,
     "metadata": {},
     "output_type": "execute_result"
    }
   ],
   "source": [
    "np.arange(0,10).reshape(2,5)"
   ]
  },
  {
   "cell_type": "markdown",
   "metadata": {},
   "source": [
    "# Exercise 5: \n",
    "\n",
    "Create a matrix of 6 x 4 dimensions, with each element as a multiple of 3.\n",
    "\n",
    "sample output:\n",
    "\n",
    "array([[ 3,  6,  9, 12],\n",
    "       [15, 18, 21, 24],\n",
    "       [27, 30, 33, 36],\n",
    "       [39, 42, 45, 48],\n",
    "       [51, 54, 57, 60],\n",
    "       [63, 66, 69, 72]])"
   ]
  },
  {
   "cell_type": "code",
   "execution_count": 11,
   "metadata": {},
   "outputs": [
    {
     "data": {
      "text/plain": [
       "array([[ 3,  6,  9, 12],\n",
       "       [15, 18, 21, 24],\n",
       "       [27, 30, 33, 36],\n",
       "       [39, 42, 45, 48],\n",
       "       [51, 54, 57, 60],\n",
       "       [63, 66, 69, 72]])"
      ]
     },
     "execution_count": 11,
     "metadata": {},
     "output_type": "execute_result"
    }
   ],
   "source": [
    "np.arange(3,73,3).reshape(6,4)"
   ]
  },
  {
   "cell_type": "markdown",
   "metadata": {},
   "source": [
    "# Exercise 6: Random Arrays\n",
    "\n",
    "1) Random matrix with values between 0 and 1: np.random.random(shape)\n",
    "    \n",
    "2) Random matrix with integer values ranging between two given fixed values: np.random.randint(start, stop, size=shape)\n",
    "    \n",
    "3) Random matrix with numbers draws from normal distribution: np.random.normal(mean, standard deviation, size=shape)"
   ]
  },
  {
   "cell_type": "code",
   "execution_count": 19,
   "metadata": {},
   "outputs": [
    {
     "name": "stdout",
     "output_type": "stream",
     "text": [
      "[0.76998966 0.94761889 0.5029533  0.03398888]\n",
      "\n",
      "[[0.5738655  0.7928016  0.55325703]\n",
      " [0.20498115 0.22780049 0.01620576]\n",
      " [0.21919281 0.81529144 0.88749774]]\n",
      "\n",
      "[5 6 5 4 3]\n",
      "\n",
      "[[5 3 3 3]\n",
      " [4 6 6 4]\n",
      " [3 3 6 5]\n",
      " [6 6 6 5]]\n",
      "\n",
      "[[10.18543473 10.45258131  9.42279675]\n",
      " [10.91415754 13.67045066 10.44324803]\n",
      " [ 9.36196163 11.34603442 11.91479973]]\n",
      "\n"
     ]
    }
   ],
   "source": [
    "# Random array of 1D - Values between 0 and 1\n",
    "x=np.random.random(4)\n",
    "print(x)\n",
    "print()\n",
    "\n",
    "# Random Matrix 2d - Values between 0 and 1\n",
    "x=np.random.random((3,3))\n",
    "print(x)\n",
    "print()\n",
    "\n",
    "# Random array 1D - values between given two integers\n",
    "x=np.random.randint(3,7, size=5)\n",
    "print(x)\n",
    "print()\n",
    "\n",
    "# Random Matrix 2D - values between given two integers\n",
    "x=np.random.randint(3,7, size=(4,4))\n",
    "print(x)\n",
    "print()\n",
    "\n",
    "# Random Matrix 2D - values distributed normally\n",
    "x=np.random.normal(11, 1.72,size=(3,3))\n",
    "print(x)\n",
    "print()"
   ]
  },
  {
   "cell_type": "markdown",
   "metadata": {},
   "source": [
    "# Exercise 7: Create an ndarray\n",
    "    \n",
    "Create a 7x4 array that only contain random numbers between 10 and 20 inclusive."
   ]
  },
  {
   "cell_type": "code",
   "execution_count": 23,
   "metadata": {},
   "outputs": [
    {
     "data": {
      "text/plain": [
       "array([[11, 14, 19, 16],\n",
       "       [19, 15, 15, 11],\n",
       "       [12, 10, 13, 13],\n",
       "       [16, 10, 19, 14],\n",
       "       [12, 12, 16, 17],\n",
       "       [17, 10, 18, 17],\n",
       "       [14, 13, 13, 16]])"
      ]
     },
     "execution_count": 23,
     "metadata": {},
     "output_type": "execute_result"
    }
   ],
   "source": [
    "np.random.randint(10,20,size=(7,4))"
   ]
  },
  {
   "cell_type": "markdown",
   "metadata": {},
   "source": [
    "# Exercise 8: Accessing, Deleting, and Inserting Elements into ndarrays\n",
    "\n",
    "1) Accessing an element in 1-D Array\n",
    "\n",
    "2) Accessing an element in 2-D Array\n",
    "\n",
    "3) Appending: np.append(ndarray, elements, axis)\n",
    "\n",
    "4) Deleting: np.delete(ndarray, elements, axis)\n",
    "\n",
    "5) Inserting: np.insert(ndarray, index, elements, axis)\n",
    "\n",
    "6) Stacking: Horizontal - np.hstack(), Vertical - np.vstack()\n",
    "\n",
    "7) Slicing: \n",
    "    ndarray[start:end]\n",
    "    nadarray[start:]\n",
    "    nadarray[:end]\n",
    "\n",
    "axis= 0 : Rows\n",
    "axis= 1 : Columns"
   ]
  },
  {
   "cell_type": "code",
   "execution_count": 63,
   "metadata": {},
   "outputs": [
    {
     "name": "stdout",
     "output_type": "stream",
     "text": [
      "[3 2]\n",
      "\n",
      "[[4 7]\n",
      " [2 1]]\n",
      "deleted 5th element [4 3 2 1 7 5 4 2 1 9]\n",
      "Deleted [[1 2 1 1]]\n",
      "\n",
      "Deleted [[1 2 1 1]]\n",
      "\n",
      "Deleted Column [[4 7 9]\n",
      " [2 1 1]\n",
      " [2 5 6]]\n",
      "\n",
      "[4 3 2 1 5 7 5 4 2 1 9 0]\n",
      "[[3 4 7 9]\n",
      " [1 2 1 1]\n",
      " [3 2 5 6]\n",
      " [4 3 3 3]]\n",
      "\n",
      "[[3 4 7 9 4]\n",
      " [1 2 1 1 2]\n",
      " [3 2 5 6 2]]\n",
      "\n",
      "[ 4  3 20  2  1  5  7  5  4  2  1  9]\n",
      "Insert a row \n",
      "  [[3 4 7 9]\n",
      " [1 2 1 1]\n",
      " [1 2 1 1]\n",
      " [3 2 5 6]]\n",
      "Insert a column \n",
      "  [[3 1 4 7 9]\n",
      " [1 1 2 1 1]\n",
      " [3 1 2 5 6]]\n",
      "Horizontal Stack \n",
      "  [3 4 5 5 5 5]\n",
      "Vertical Stack \n",
      "  [[3 4 5]\n",
      " [5 5 5]]\n",
      "[[1 1]\n",
      " [5 6]]\n"
     ]
    }
   ],
   "source": [
    "a=np.array([4,3,2,1,5,7,5,4,2,1,9])\n",
    "b=np.array([[3,4,7,9],[1,2,1,1],[3,2,5,6]])\n",
    "\n",
    "#Accessing an element in 1D array\n",
    "c=a[1:3]\n",
    "print(c)\n",
    "print()\n",
    "\n",
    "#Accessing an element in 2D array\n",
    "c=b[0:2,1:3]\n",
    "print(c)\n",
    "\n",
    "# Delete 5th element of array a\n",
    "c=np.delete(a,4)\n",
    "print('deleted 5th element',c)\n",
    "\n",
    "# Delete first and last row of matrix b\n",
    "c=np.delete(b, [0,2], axis=0)\n",
    "print('Deleted',c)\n",
    "print()\n",
    "\n",
    "# Delete first and last row of matrix b\n",
    "c=np.delete(b, [0,2], axis=0)\n",
    "print('Deleted',c)\n",
    "print()\n",
    "\n",
    "# Delete first column of matrix b\n",
    "c=np.delete(b, 0, axis=1)\n",
    "print('Deleted Column', c)\n",
    "print()\n",
    "\n",
    "#Appending a value in array a\n",
    "c=np.append(a, 0)\n",
    "print(c)\n",
    "\n",
    "#Appending a row in matrix b\n",
    "c=np.append(b, [[4,3,3,3]], axis=0)\n",
    "print(c)\n",
    "print()\n",
    "\n",
    "#Appending a column in matrix b\n",
    "d=np.append(b, [[4],[2],[2]],axis=1)\n",
    "print(d)\n",
    "print()\n",
    "\n",
    "#Inserting a value in array a\n",
    "d=np.insert(a, 2, 20)\n",
    "print(d)\n",
    "\n",
    "#Inserting a row in matrix b\n",
    "d=np.insert(b, 1, [1,2,1,1],axis=0)\n",
    "print('Insert a row \\n ', d)\n",
    "\n",
    "#Inserting a column in matrix b\n",
    "d=np.insert(b, 1, [1,1,1],axis=1)\n",
    "print('Insert a column \\n ', d)\n",
    "\n",
    "#Stacking : Hstack\n",
    "x=np.array([3,4,5])\n",
    "y=np.array([5,5,5])\n",
    "z=np.hstack((x,y))\n",
    "print('Horizontal Stack \\n ', z)\n",
    "\n",
    "#Stacking : vstack\n",
    "x=np.array([3,4,5])\n",
    "y=np.array([5,5,5])\n",
    "z=np.vstack((x,y))\n",
    "print('Vertical Stack \\n ', z)\n",
    "\n",
    "#Slicing\n",
    "a=b[1:3,2:4]\n",
    "print(a)"
   ]
  },
  {
   "cell_type": "markdown",
   "metadata": {},
   "source": [
    "# Exercise 9: Data Extraction and Copying\n",
    "\n",
    "1) Extracting diagonal elements of a matrix: np.diag(ndarray)\n",
    "\n",
    "2) Extracting elements above and below main diagonal: np.diag(ndarray, k=value) - \n",
    "    value = positive - above main diagonal\n",
    "    value = negative - below main diagonal\n",
    "\n",
    "3) Extract unique array of values from an array or matrix: np.unique()\n",
    "\n",
    "4) Copying: np.copy(ndarray)"
   ]
  },
  {
   "cell_type": "code",
   "execution_count": 69,
   "metadata": {},
   "outputs": [
    {
     "name": "stdout",
     "output_type": "stream",
     "text": [
      "[3 2 5 1]\n",
      "\n",
      "[4 1 6]\n",
      "\n",
      "[1 2 1]\n",
      "\n",
      "[1 2 3 4 5 6 7 9]\n",
      "\n",
      "[1 2 3 4 5 6 7 9]\n",
      "\n",
      "[[3 4 7 9]\n",
      " [1 2 1 1]\n",
      " [3 2 5 6]\n",
      " [1 1 1 1]]\n"
     ]
    }
   ],
   "source": [
    "b=np.array([[3,4,7,9],[1,2,1,1],[3,2,5,6],[1,1,1,1]])\n",
    "\n",
    "# Extract Diagonal\n",
    "x=np.diag(b)\n",
    "print(x)\n",
    "print()\n",
    "\n",
    "# Extract Upper Diagonal\n",
    "x=np.diag(b,1)\n",
    "print(x)\n",
    "print()\n",
    "\n",
    "# Extract Lower Diagonal\n",
    "x=np.diag(b,-1)\n",
    "print(x)\n",
    "print()\n",
    "\n",
    "# Extract Unique Element\n",
    "x=np.unique(b)\n",
    "print(x)\n",
    "print()\n",
    "\n",
    "# Extract Unique Element\n",
    "x=np.unique(b)\n",
    "print(x)\n",
    "print()\n",
    "\n",
    "#Copy \n",
    "\n",
    "x=np.copy(b)\n",
    "print(x)"
   ]
  },
  {
   "cell_type": "markdown",
   "metadata": {},
   "source": [
    "# Exercise 10: Boolean and Set Operations\n",
    "\n",
    "1) Finding elements for a given boolean condition: x[x>value]\n",
    "\n",
    "2) Use boolean indexing to assign new values to an existing array or matrix.\n",
    "\n",
    "3) Create and sort an array: np.sort(ndarray)\n",
    "\n",
    "4) Create and sort a rank 2 array: np.sort(ndarray, axis= 0/1)\n",
    "\n",
    "5) Use of set operations on 1-d array: np.union1d((x,y))"
   ]
  },
  {
   "cell_type": "code",
   "execution_count": 73,
   "metadata": {},
   "outputs": [
    {
     "name": "stdout",
     "output_type": "stream",
     "text": [
      "[21 22 23 24 25 26 27 28 29 30 31 32 33 34 35 36 37 38 39 40 41 42 43 44\n",
      " 45 46 47 48 49]\n",
      "\n",
      "[21 22 23 24 25 26 27 28 29 30 31 32 33 34 35]\n",
      "\n",
      "[[ 0  1  2  3  4]\n",
      " [ 5 -1 -1 -1 -1]\n",
      " [-1 11 12 13 14]\n",
      " [15 16 17 18 19]\n",
      " [20 21 22 23 24]\n",
      " [25 26 27 28 29]\n",
      " [30 31 32 33 34]\n",
      " [35 36 37 38 39]\n",
      " [40 41 42 43 44]\n",
      " [45 46 47 48 49]]\n",
      "\n",
      "[98 91 76 49 45 32 12]\n",
      "[[ 6  4  4  8  3]\n",
      " [ 9  9  3  2  4]\n",
      " [ 6  9  2  1  2]\n",
      " [ 7  7  5  8  8]\n",
      " [ 1  3  5  7 10]]\n",
      "\n",
      "[[ 1  3  2  1  2]\n",
      " [ 6  4  3  2  3]\n",
      " [ 6  7  4  7  4]\n",
      " [ 7  9  5  8  8]\n",
      " [ 9  9  5  8 10]]\n",
      "\n",
      "[[ 3  4  4  6  8]\n",
      " [ 2  3  4  9  9]\n",
      " [ 1  2  2  6  9]\n",
      " [ 5  7  7  8  8]\n",
      " [ 1  3  5  7 10]]\n",
      "\n"
     ]
    }
   ],
   "source": [
    "import numpy as np\n",
    "x=np.arange(50).reshape(10,5)\n",
    "\n",
    "# Find all elements greater than 20 in the given matrix\n",
    "y=x[(x>20)]\n",
    "print(y)\n",
    "print()\n",
    "\n",
    "# Find all elements greater than 20 but less than or equal to 45in the given matrix\n",
    "z=x[(x>20) & (x<=35)]\n",
    "print(z)\n",
    "print()\n",
    "\n",
    "# Assign value -1 to elements with value greater than 5 but less than or equal to 10\n",
    "x[(x>5) & (x<=10)]=-1\n",
    "print(x)\n",
    "print()\n",
    "\n",
    "#Create and sort an array -Descending Order\n",
    "new_array=[91,45,76,98,32,12,49]\n",
    "print(np.sort(new_array)[::-1])\n",
    "\n",
    "# Create a rank 2 array\n",
    "mat=np.random.randint(1,11, size=[5,5])\n",
    "print(mat)\n",
    "print()\n",
    "\n",
    "# Sort columns of mat and print\n",
    "print(np.sort(mat, axis=0))\n",
    "print()\n",
    "\n",
    "# Sort rows of mat and print \n",
    "print(np.sort(mat, axis=1))\n",
    "print()"
   ]
  },
  {
   "cell_type": "code",
   "execution_count": 72,
   "metadata": {},
   "outputs": [
    {
     "name": "stdout",
     "output_type": "stream",
     "text": [
      "[ 1  2  3  4  5  6  7  9 10]\n",
      "[3 5]\n",
      "[1 7]\n"
     ]
    }
   ],
   "source": [
    "x=np.array([1,3,5,7])\n",
    "y=np.array([2,3,4,5,6,9,10])\n",
    "\n",
    "# Union of sets\n",
    "print(np.union1d(x,y))\n",
    "\n",
    "# Intersection of sets\n",
    "print(np.intersect1d(x,y))\n",
    "\n",
    "# Difference of sets\n",
    "print(np.setdiff1d(x,y))"
   ]
  },
  {
   "cell_type": "markdown",
   "metadata": {},
   "source": [
    "# Exercise 11: Artihmetic and Statistics Operations\n",
    "\n",
    "1) Use the basic arithmetic operations on 1-D arrays: np.add(x,y), np.subtract(x,y), np.multiply(x,y), np.divide(x,y)\n",
    "\n",
    "2) Use the basic mathematical operations: np.exp(x), np.sqrt(x), np.pow(x,value)\n",
    "\n",
    "3) Use the statistical operations: np.max(), np.min(), np.mean(), np.std(), np.median()"
   ]
  },
  {
   "cell_type": "code",
   "execution_count": 74,
   "metadata": {},
   "outputs": [
    {
     "name": "stdout",
     "output_type": "stream",
     "text": [
      "\n",
      "x =  [1 2 3 4]\n",
      "\n",
      "y =  [5.5 6.5 7.5 8.5]\n",
      "\n",
      "x + y =  [ 6.5  8.5 10.5 12.5]\n",
      "add(x,y) =  [ 6.5  8.5 10.5 12.5]\n",
      "\n",
      "x - y =  [-4.5 -4.5 -4.5 -4.5]\n",
      "subtract(x,y) =  [-4.5 -4.5 -4.5 -4.5]\n",
      "\n",
      "x * y =  [ 5.5 13.  22.5 34. ]\n",
      "multiply(x,y) =  [ 5.5 13.  22.5 34. ]\n",
      "\n",
      "x / y =  [0.18181818 0.30769231 0.4        0.47058824]\n",
      "divide(x,y) =  [0.18181818 0.30769231 0.4        0.47058824]\n",
      "\n",
      "EXP(x) = [ 2.71828183  7.3890561  20.08553692 54.59815003]\n",
      "\n",
      "SQRT(x) = [1.         1.41421356 1.73205081 2.        ]\n",
      "\n",
      "POW(x,2) = [ 1  4  9 16]\n"
     ]
    }
   ],
   "source": [
    "# We create two rank 1 ndarrays\n",
    "x = np.array([1,2,3,4])\n",
    "y = np.array([5.5,6.5,7.5,8.5])\n",
    "\n",
    "# We print x\n",
    "print()\n",
    "print('x = ', x)\n",
    "\n",
    "# We print y\n",
    "print()\n",
    "print('y = ', y)\n",
    "print()\n",
    "\n",
    "# We perfrom basic element-wise operations using arithmetic symbols and functions\n",
    "print('x + y = ', x + y)\n",
    "print('add(x,y) = ', np.add(x,y))\n",
    "print()\n",
    "print('x - y = ', x - y)\n",
    "print('subtract(x,y) = ', np.subtract(x,y))\n",
    "print()\n",
    "print('x * y = ', x * y)\n",
    "print('multiply(x,y) = ', np.multiply(x,y))\n",
    "print()\n",
    "print('x / y = ', x / y)\n",
    "print('divide(x,y) = ', np.divide(x,y))\n",
    "\n",
    "# We apply different mathematical functions to all elements of x\n",
    "print()\n",
    "print('EXP(x) =', np.exp(x))\n",
    "print()\n",
    "print('SQRT(x) =',np.sqrt(x))\n",
    "print()\n",
    "print('POW(x,2) =',np.power(x,2)) # We raise all elements to the power of 2"
   ]
  },
  {
   "cell_type": "code",
   "execution_count": 75,
   "metadata": {},
   "outputs": [
    {
     "name": "stdout",
     "output_type": "stream",
     "text": [
      "\n",
      "X = \n",
      " [[1 2]\n",
      " [3 4]]\n",
      "\n",
      "Average of all elements in X: 2.5\n",
      "Average of all elements in the columns of X: [2. 3.]\n",
      "Average of all elements in the rows of X: [1.5 3.5]\n",
      "\n",
      "Sum of all elements in X: 10\n",
      "Sum of all elements in the columns of X: [4 6]\n",
      "Sum of all elements in the rows of X: [3 7]\n",
      "\n",
      "Standard Deviation of all elements in X: 1.118033988749895\n",
      "Standard Deviation of all elements in the columns of X: [1. 1.]\n",
      "Standard Deviation of all elements in the rows of X: [0.5 0.5]\n",
      "\n",
      "Median of all elements in X: 2.5\n",
      "Median of all elements in the columns of X: [2. 3.]\n",
      "Median of all elements in the rows of X: [1.5 3.5]\n",
      "\n",
      "Maximum value of all elements in X: 4\n",
      "Maximum value of all elements in the columns of X: [3 4]\n",
      "Maximum value of all elements in the rows of X: [2 4]\n",
      "\n",
      "Minimum value of all elements in X: 1\n",
      "Minimum value of all elements in the columns of X: [1 2]\n",
      "Minimum value of all elements in the rows of X: [1 3]\n"
     ]
    }
   ],
   "source": [
    "# We create a 2 x 2 ndarray\n",
    "X = np.array([[1,2], [3,4]])\n",
    "\n",
    "# We print x\n",
    "print()\n",
    "print('X = \\n', X)\n",
    "print()\n",
    "\n",
    "print('Average of all elements in X:', X.mean())\n",
    "print('Average of all elements in the columns of X:', X.mean(axis=0))\n",
    "print('Average of all elements in the rows of X:', X.mean(axis=1))\n",
    "print()\n",
    "print('Sum of all elements in X:', X.sum())\n",
    "print('Sum of all elements in the columns of X:', X.sum(axis=0))\n",
    "print('Sum of all elements in the rows of X:', X.sum(axis=1))\n",
    "print()\n",
    "print('Standard Deviation of all elements in X:', X.std())\n",
    "print('Standard Deviation of all elements in the columns of X:', X.std(axis=0))\n",
    "print('Standard Deviation of all elements in the rows of X:', X.std(axis=1))\n",
    "print()\n",
    "print('Median of all elements in X:', np.median(X))\n",
    "print('Median of all elements in the columns of X:', np.median(X,axis=0))\n",
    "print('Median of all elements in the rows of X:', np.median(X,axis=1))\n",
    "print()\n",
    "print('Maximum value of all elements in X:', X.max())\n",
    "print('Maximum value of all elements in the columns of X:', X.max(axis=0))\n",
    "print('Maximum value of all elements in the rows of X:', X.max(axis=1))\n",
    "print()\n",
    "print('Minimum value of all elements in X:', X.min())\n",
    "print('Minimum value of all elements in the columns of X:', X.min(axis=0))\n",
    "print('Minimum value of all elements in the rows of X:', X.min(axis=1))"
   ]
  },
  {
   "cell_type": "markdown",
   "metadata": {},
   "source": [
    "# Exercise - 12: \n",
    "\n",
    "Create a 5x5 ndarray with consecutive integers from 1 to 25 inclusive. Afterwards use Boolean indexing to pick out only the odd numbers in an array.\n",
    "\n"
   ]
  },
  {
   "cell_type": "code",
   "execution_count": 78,
   "metadata": {},
   "outputs": [
    {
     "name": "stdout",
     "output_type": "stream",
     "text": [
      "[ 1  3  5  7  9 11 13 15 17 19 21 23 25]\n"
     ]
    }
   ],
   "source": [
    "# Create a 5x5 array\n",
    "\n",
    "X =np.arange(1,26).reshape(5,5) \n",
    "\n",
    "# Use boolean indexing to pick only odd numbers in the array\n",
    "\n",
    "Y = X[X%2!=0]\n",
    "\n",
    "print(Y)"
   ]
  }
 ],
 "metadata": {
  "kernelspec": {
   "display_name": "Python 3",
   "language": "python",
   "name": "python3"
  },
  "language_info": {
   "codemirror_mode": {
    "name": "ipython",
    "version": 3
   },
   "file_extension": ".py",
   "mimetype": "text/x-python",
   "name": "python",
   "nbconvert_exporter": "python",
   "pygments_lexer": "ipython3",
   "version": "3.7.4"
  }
 },
 "nbformat": 4,
 "nbformat_minor": 2
}
