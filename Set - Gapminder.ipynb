{
 "cells": [
  {
   "cell_type": "markdown",
   "metadata": {},
   "source": [
    "# Gapminder DataSet\n",
    "\n",
    "The given data set is obtained from the gapminder website, which includes the statistics round the globe. The dataset is for the 19 century life expectancy acroos different countries.\n",
    "\n",
    "The goal of the exercise is to have a clean data set, with\n",
    "\n",
    "### - Drop the unneccessary columns with all NaNs adding no value to our project.\n",
    "### - Drop the duplicate information\n",
    "### - Prepare the data in tidy format, with no missing values.\n",
    "### - Appropriate data types should be used for each column\n",
    "### - Assert the assumptions and save the clean file\n",
    "\n",
    "\n",
    "#### Step 1:\n",
    "\n",
    "1) Import the dataset using pd.read_csv(filename)\n",
    "\n",
    "2) Drop the 'Unnamed: 0' column using df.drop(columns=column_name, inplace=True)"
   ]
  },
  {
   "cell_type": "code",
   "execution_count": 220,
   "metadata": {},
   "outputs": [
    {
     "data": {
      "text/html": [
       "<div>\n",
       "<style scoped>\n",
       "    .dataframe tbody tr th:only-of-type {\n",
       "        vertical-align: middle;\n",
       "    }\n",
       "\n",
       "    .dataframe tbody tr th {\n",
       "        vertical-align: top;\n",
       "    }\n",
       "\n",
       "    .dataframe thead th {\n",
       "        text-align: right;\n",
       "    }\n",
       "</style>\n",
       "<table border=\"1\" class=\"dataframe\">\n",
       "  <thead>\n",
       "    <tr style=\"text-align: right;\">\n",
       "      <th></th>\n",
       "      <th>Unnamed: 0</th>\n",
       "      <th>1800</th>\n",
       "      <th>1801</th>\n",
       "      <th>1802</th>\n",
       "      <th>1803</th>\n",
       "      <th>1804</th>\n",
       "      <th>1805</th>\n",
       "      <th>1806</th>\n",
       "      <th>1807</th>\n",
       "      <th>1808</th>\n",
       "      <th>...</th>\n",
       "      <th>2008</th>\n",
       "      <th>2009</th>\n",
       "      <th>2010</th>\n",
       "      <th>2011</th>\n",
       "      <th>2012</th>\n",
       "      <th>2013</th>\n",
       "      <th>2014</th>\n",
       "      <th>2015</th>\n",
       "      <th>2016</th>\n",
       "      <th>Life expectancy</th>\n",
       "    </tr>\n",
       "  </thead>\n",
       "  <tbody>\n",
       "    <tr>\n",
       "      <td>778</td>\n",
       "      <td>258</td>\n",
       "      <td>NaN</td>\n",
       "      <td>NaN</td>\n",
       "      <td>NaN</td>\n",
       "      <td>NaN</td>\n",
       "      <td>NaN</td>\n",
       "      <td>NaN</td>\n",
       "      <td>NaN</td>\n",
       "      <td>NaN</td>\n",
       "      <td>NaN</td>\n",
       "      <td>...</td>\n",
       "      <td>NaN</td>\n",
       "      <td>NaN</td>\n",
       "      <td>NaN</td>\n",
       "      <td>NaN</td>\n",
       "      <td>NaN</td>\n",
       "      <td>NaN</td>\n",
       "      <td>NaN</td>\n",
       "      <td>NaN</td>\n",
       "      <td>NaN</td>\n",
       "      <td>Åland</td>\n",
       "    </tr>\n",
       "    <tr>\n",
       "      <td>779</td>\n",
       "      <td>259</td>\n",
       "      <td>NaN</td>\n",
       "      <td>NaN</td>\n",
       "      <td>NaN</td>\n",
       "      <td>NaN</td>\n",
       "      <td>NaN</td>\n",
       "      <td>NaN</td>\n",
       "      <td>NaN</td>\n",
       "      <td>NaN</td>\n",
       "      <td>NaN</td>\n",
       "      <td>...</td>\n",
       "      <td>55.6</td>\n",
       "      <td>55.8</td>\n",
       "      <td>56.0</td>\n",
       "      <td>55.9</td>\n",
       "      <td>56.0</td>\n",
       "      <td>56.0</td>\n",
       "      <td>56.1</td>\n",
       "      <td>56.1</td>\n",
       "      <td>56.1</td>\n",
       "      <td>South Sudan</td>\n",
       "    </tr>\n",
       "  </tbody>\n",
       "</table>\n",
       "<p>2 rows × 219 columns</p>\n",
       "</div>"
      ],
      "text/plain": [
       "     Unnamed: 0  1800  1801  1802  1803  1804  1805  1806  1807  1808  ...  \\\n",
       "778         258   NaN   NaN   NaN   NaN   NaN   NaN   NaN   NaN   NaN  ...   \n",
       "779         259   NaN   NaN   NaN   NaN   NaN   NaN   NaN   NaN   NaN  ...   \n",
       "\n",
       "     2008  2009  2010  2011  2012  2013  2014  2015  2016  Life expectancy  \n",
       "778   NaN   NaN   NaN   NaN   NaN   NaN   NaN   NaN   NaN            Åland  \n",
       "779  55.6  55.8  56.0  55.9  56.0  56.0  56.1  56.1  56.1      South Sudan  \n",
       "\n",
       "[2 rows x 219 columns]"
      ]
     },
     "execution_count": 220,
     "metadata": {},
     "output_type": "execute_result"
    }
   ],
   "source": [
    "# 1) Import the dataset using pd.read_csv(filename)\n",
    "\n",
    "import pandas as pd\n",
    "\n",
    "data=pd.read_csv('gapminder.csv')\n",
    "data.tail(2)\n"
   ]
  },
  {
   "cell_type": "code",
   "execution_count": 221,
   "metadata": {},
   "outputs": [
    {
     "data": {
      "text/html": [
       "<div>\n",
       "<style scoped>\n",
       "    .dataframe tbody tr th:only-of-type {\n",
       "        vertical-align: middle;\n",
       "    }\n",
       "\n",
       "    .dataframe tbody tr th {\n",
       "        vertical-align: top;\n",
       "    }\n",
       "\n",
       "    .dataframe thead th {\n",
       "        text-align: right;\n",
       "    }\n",
       "</style>\n",
       "<table border=\"1\" class=\"dataframe\">\n",
       "  <thead>\n",
       "    <tr style=\"text-align: right;\">\n",
       "      <th></th>\n",
       "      <th>1800</th>\n",
       "      <th>1801</th>\n",
       "      <th>1802</th>\n",
       "      <th>1803</th>\n",
       "      <th>1804</th>\n",
       "      <th>1805</th>\n",
       "      <th>1806</th>\n",
       "      <th>1807</th>\n",
       "      <th>1808</th>\n",
       "      <th>1809</th>\n",
       "      <th>...</th>\n",
       "      <th>2008</th>\n",
       "      <th>2009</th>\n",
       "      <th>2010</th>\n",
       "      <th>2011</th>\n",
       "      <th>2012</th>\n",
       "      <th>2013</th>\n",
       "      <th>2014</th>\n",
       "      <th>2015</th>\n",
       "      <th>2016</th>\n",
       "      <th>Life expectancy</th>\n",
       "    </tr>\n",
       "  </thead>\n",
       "  <tbody>\n",
       "    <tr>\n",
       "      <td>0</td>\n",
       "      <td>NaN</td>\n",
       "      <td>NaN</td>\n",
       "      <td>NaN</td>\n",
       "      <td>NaN</td>\n",
       "      <td>NaN</td>\n",
       "      <td>NaN</td>\n",
       "      <td>NaN</td>\n",
       "      <td>NaN</td>\n",
       "      <td>NaN</td>\n",
       "      <td>NaN</td>\n",
       "      <td>...</td>\n",
       "      <td>NaN</td>\n",
       "      <td>NaN</td>\n",
       "      <td>NaN</td>\n",
       "      <td>NaN</td>\n",
       "      <td>NaN</td>\n",
       "      <td>NaN</td>\n",
       "      <td>NaN</td>\n",
       "      <td>NaN</td>\n",
       "      <td>NaN</td>\n",
       "      <td>Abkhazia</td>\n",
       "    </tr>\n",
       "    <tr>\n",
       "      <td>1</td>\n",
       "      <td>28.21</td>\n",
       "      <td>28.2</td>\n",
       "      <td>28.19</td>\n",
       "      <td>28.18</td>\n",
       "      <td>28.17</td>\n",
       "      <td>28.16</td>\n",
       "      <td>28.15</td>\n",
       "      <td>28.14</td>\n",
       "      <td>28.13</td>\n",
       "      <td>28.12</td>\n",
       "      <td>...</td>\n",
       "      <td>NaN</td>\n",
       "      <td>NaN</td>\n",
       "      <td>NaN</td>\n",
       "      <td>NaN</td>\n",
       "      <td>NaN</td>\n",
       "      <td>NaN</td>\n",
       "      <td>NaN</td>\n",
       "      <td>NaN</td>\n",
       "      <td>NaN</td>\n",
       "      <td>Afghanistan</td>\n",
       "    </tr>\n",
       "  </tbody>\n",
       "</table>\n",
       "<p>2 rows × 218 columns</p>\n",
       "</div>"
      ],
      "text/plain": [
       "    1800  1801   1802   1803   1804   1805   1806   1807   1808   1809  ...  \\\n",
       "0    NaN   NaN    NaN    NaN    NaN    NaN    NaN    NaN    NaN    NaN  ...   \n",
       "1  28.21  28.2  28.19  28.18  28.17  28.16  28.15  28.14  28.13  28.12  ...   \n",
       "\n",
       "   2008  2009  2010  2011  2012  2013  2014  2015  2016  Life expectancy  \n",
       "0   NaN   NaN   NaN   NaN   NaN   NaN   NaN   NaN   NaN         Abkhazia  \n",
       "1   NaN   NaN   NaN   NaN   NaN   NaN   NaN   NaN   NaN      Afghanistan  \n",
       "\n",
       "[2 rows x 218 columns]"
      ]
     },
     "execution_count": 221,
     "metadata": {},
     "output_type": "execute_result"
    }
   ],
   "source": [
    "# 2) Drop the 'Unnamed: 0' column using df.drop(columns=column_name, inplace=True)\n",
    "\n",
    "data.drop(columns='Unnamed: 0', inplace=True)\n",
    "data.head(2)"
   ]
  },
  {
   "cell_type": "markdown",
   "metadata": {},
   "source": [
    "# Step 2: Exploratory analysis\n",
    "\n",
    "Whenever you obtain a new dataset, your first task should always be to do some exploratory analysis to get a better understanding of the data and diagnose it for any potential issues.\n",
    "\n",
    "The Gapminder data for the 19th century has been loaded into a DataFrame called data. \n",
    "\n",
    "1) Check the header and footer information about the data using .head(), .tail()\n",
    "\n",
    "2) Check the column names, index, and shape of the data using .columns, .index, .shape\n",
    "\n",
    "3) Find the descriptive statistics of the data using .describe() method. \n",
    "\n",
    "4) Also, find the information about columntypes, memory usage etc. using .info() method.\n",
    "\n",
    "5)  Create two dimensional scatter plot comparing life expectancy in 1800 and 1900\n"
   ]
  },
  {
   "cell_type": "code",
   "execution_count": 12,
   "metadata": {},
   "outputs": [
    {
     "name": "stdout",
     "output_type": "stream",
     "text": [
      "<class 'pandas.core.frame.DataFrame'>\n",
      "RangeIndex: 780 entries, 0 to 779\n",
      "Columns: 219 entries, Unnamed: 0 to Life expectancy\n",
      "dtypes: float64(217), int64(1), object(1)\n",
      "memory usage: 1.3+ MB\n"
     ]
    }
   ],
   "source": [
    "data.head(2)\n",
    "data.tail(2)\n",
    "data.columns\n",
    "data.index\n",
    "data.shape\n",
    "data.describe()\n",
    "data.info()"
   ]
  },
  {
   "cell_type": "code",
   "execution_count": 222,
   "metadata": {},
   "outputs": [
    {
     "data": {
      "image/png": "[encoded data removed]",
      "text/plain": [
       "<Figure size 432x288 with 1 Axes>"
      ]
     },
     "metadata": {
      "needs_background": "light"
     },
     "output_type": "display_data"
    }
   ],
   "source": [
    "# 5)  Create two dimensional scatter plot comparing life expectancy in 1800 and 1900\n",
    "\n",
    "import matplotlib.pyplot as plt\n",
    "\n",
    "# 1)\n",
    "\n",
    "data.plot(kind='scatter', x='1800', y='1899')\n",
    "\n",
    "plt.xlabel('Life expectancy in 1800')\n",
    "plt.ylabel('Life expectancy in 1899')\n",
    "plt.show()"
   ]
  },
  {
   "cell_type": "markdown",
   "metadata": {},
   "source": [
    "# Step 3: Drop the duplicate information\n",
    "\n",
    "1) Make Life expectancy as the first column of the dataframe\n",
    "\n",
    "2) Drop duplicate rows using df.drop_duplicates() method.\n",
    "\n",
    "3) The country name is supposed to occur only once, so remove the multiple entries.\n",
    "    \n",
    "    a) Check the .value_counts() for the categorical variable 'Life expectancy'\n",
    "    \n",
    "    b) Drop the extra rows containing the same country information. Use .drop_duplicate(subset='column', keep='first')\n",
    "\n",
    "4) Drop the columns containing all NaN values. Use .dropna(how='all', axis=1)"
   ]
  },
  {
   "cell_type": "code",
   "execution_count": 223,
   "metadata": {},
   "outputs": [],
   "source": [
    "# 1) Life expectancy as the first column\n",
    "\n",
    "a=data.columns.to_list()\n",
    "imp = a.pop()\n",
    "a.insert(0,imp)"
   ]
  },
  {
   "cell_type": "code",
   "execution_count": 224,
   "metadata": {},
   "outputs": [
    {
     "data": {
      "text/plain": [
       "Index(['Life expectancy', '1800', '1801', '1802', '1803', '1804', '1805',\n",
       "       '1806', '1807', '1808',\n",
       "       ...\n",
       "       '2007', '2008', '2009', '2010', '2011', '2012', '2013', '2014', '2015',\n",
       "       '2016'],\n",
       "      dtype='object', length=218)"
      ]
     },
     "execution_count": 224,
     "metadata": {},
     "output_type": "execute_result"
    }
   ],
   "source": [
    "new_list=a\n",
    "data=data[new_list]\n",
    "data.columns"
   ]
  },
  {
   "cell_type": "code",
   "execution_count": 235,
   "metadata": {},
   "outputs": [
    {
     "name": "stdout",
     "output_type": "stream",
     "text": [
      "(780, 218)\n",
      "(679, 218)\n"
     ]
    }
   ],
   "source": [
    "# 2) Drop duplicate rows\n",
    "\n",
    "data1=data.drop_duplicates()\n",
    "\n",
    "data1['Life expectancy'].value_counts()\n",
    "\n",
    "print(data.shape)\n",
    "print(data1.shape)"
   ]
  },
  {
   "cell_type": "code",
   "execution_count": 234,
   "metadata": {},
   "outputs": [
    {
     "data": {
      "text/plain": [
       "(260, 218)"
      ]
     },
     "execution_count": 234,
     "metadata": {},
     "output_type": "execute_result"
    }
   ],
   "source": [
    "# 3) Drop duplicate country rows\n",
    "\n",
    "data2=data1.drop_duplicates(subset='Life expectancy', keep='first')\n",
    "data2.shape"
   ]
  },
  {
   "cell_type": "code",
   "execution_count": 243,
   "metadata": {},
   "outputs": [
    {
     "name": "stdout",
     "output_type": "stream",
     "text": [
      "(260, 218)\n",
      "(260, 101)\n"
     ]
    },
    {
     "data": {
      "text/html": [
       "<div>\n",
       "<style scoped>\n",
       "    .dataframe tbody tr th:only-of-type {\n",
       "        vertical-align: middle;\n",
       "    }\n",
       "\n",
       "    .dataframe tbody tr th {\n",
       "        vertical-align: top;\n",
       "    }\n",
       "\n",
       "    .dataframe thead th {\n",
       "        text-align: right;\n",
       "    }\n",
       "</style>\n",
       "<table border=\"1\" class=\"dataframe\">\n",
       "  <thead>\n",
       "    <tr style=\"text-align: right;\">\n",
       "      <th></th>\n",
       "      <th>Life expectancy</th>\n",
       "      <th>1800</th>\n",
       "      <th>1801</th>\n",
       "      <th>1802</th>\n",
       "      <th>1803</th>\n",
       "      <th>1804</th>\n",
       "      <th>1805</th>\n",
       "      <th>1806</th>\n",
       "      <th>1807</th>\n",
       "      <th>1808</th>\n",
       "      <th>...</th>\n",
       "      <th>1890</th>\n",
       "      <th>1891</th>\n",
       "      <th>1892</th>\n",
       "      <th>1893</th>\n",
       "      <th>1894</th>\n",
       "      <th>1895</th>\n",
       "      <th>1896</th>\n",
       "      <th>1897</th>\n",
       "      <th>1898</th>\n",
       "      <th>1899</th>\n",
       "    </tr>\n",
       "  </thead>\n",
       "  <tbody>\n",
       "    <tr>\n",
       "      <td>0</td>\n",
       "      <td>Abkhazia</td>\n",
       "      <td>NaN</td>\n",
       "      <td>NaN</td>\n",
       "      <td>NaN</td>\n",
       "      <td>NaN</td>\n",
       "      <td>NaN</td>\n",
       "      <td>NaN</td>\n",
       "      <td>NaN</td>\n",
       "      <td>NaN</td>\n",
       "      <td>NaN</td>\n",
       "      <td>...</td>\n",
       "      <td>NaN</td>\n",
       "      <td>NaN</td>\n",
       "      <td>NaN</td>\n",
       "      <td>NaN</td>\n",
       "      <td>NaN</td>\n",
       "      <td>NaN</td>\n",
       "      <td>NaN</td>\n",
       "      <td>NaN</td>\n",
       "      <td>NaN</td>\n",
       "      <td>NaN</td>\n",
       "    </tr>\n",
       "    <tr>\n",
       "      <td>1</td>\n",
       "      <td>Afghanistan</td>\n",
       "      <td>28.21</td>\n",
       "      <td>28.20</td>\n",
       "      <td>28.19</td>\n",
       "      <td>28.18</td>\n",
       "      <td>28.17</td>\n",
       "      <td>28.16</td>\n",
       "      <td>28.15</td>\n",
       "      <td>28.14</td>\n",
       "      <td>28.13</td>\n",
       "      <td>...</td>\n",
       "      <td>27.29</td>\n",
       "      <td>27.28</td>\n",
       "      <td>27.27</td>\n",
       "      <td>27.26</td>\n",
       "      <td>27.25</td>\n",
       "      <td>27.24</td>\n",
       "      <td>27.23</td>\n",
       "      <td>27.22</td>\n",
       "      <td>27.21</td>\n",
       "      <td>27.20</td>\n",
       "    </tr>\n",
       "    <tr>\n",
       "      <td>2</td>\n",
       "      <td>Akrotiri and Dhekelia</td>\n",
       "      <td>NaN</td>\n",
       "      <td>NaN</td>\n",
       "      <td>NaN</td>\n",
       "      <td>NaN</td>\n",
       "      <td>NaN</td>\n",
       "      <td>NaN</td>\n",
       "      <td>NaN</td>\n",
       "      <td>NaN</td>\n",
       "      <td>NaN</td>\n",
       "      <td>...</td>\n",
       "      <td>NaN</td>\n",
       "      <td>NaN</td>\n",
       "      <td>NaN</td>\n",
       "      <td>NaN</td>\n",
       "      <td>NaN</td>\n",
       "      <td>NaN</td>\n",
       "      <td>NaN</td>\n",
       "      <td>NaN</td>\n",
       "      <td>NaN</td>\n",
       "      <td>NaN</td>\n",
       "    </tr>\n",
       "    <tr>\n",
       "      <td>3</td>\n",
       "      <td>Albania</td>\n",
       "      <td>35.40</td>\n",
       "      <td>35.40</td>\n",
       "      <td>35.40</td>\n",
       "      <td>35.40</td>\n",
       "      <td>35.40</td>\n",
       "      <td>35.40</td>\n",
       "      <td>35.40</td>\n",
       "      <td>35.40</td>\n",
       "      <td>35.40</td>\n",
       "      <td>...</td>\n",
       "      <td>35.40</td>\n",
       "      <td>35.40</td>\n",
       "      <td>35.40</td>\n",
       "      <td>35.40</td>\n",
       "      <td>35.40</td>\n",
       "      <td>35.40</td>\n",
       "      <td>35.40</td>\n",
       "      <td>35.40</td>\n",
       "      <td>35.40</td>\n",
       "      <td>35.40</td>\n",
       "    </tr>\n",
       "    <tr>\n",
       "      <td>4</td>\n",
       "      <td>Algeria</td>\n",
       "      <td>28.82</td>\n",
       "      <td>28.82</td>\n",
       "      <td>28.82</td>\n",
       "      <td>28.82</td>\n",
       "      <td>28.82</td>\n",
       "      <td>28.82</td>\n",
       "      <td>28.82</td>\n",
       "      <td>28.82</td>\n",
       "      <td>28.82</td>\n",
       "      <td>...</td>\n",
       "      <td>28.82</td>\n",
       "      <td>28.82</td>\n",
       "      <td>28.82</td>\n",
       "      <td>28.82</td>\n",
       "      <td>28.82</td>\n",
       "      <td>28.82</td>\n",
       "      <td>28.82</td>\n",
       "      <td>28.82</td>\n",
       "      <td>28.82</td>\n",
       "      <td>28.82</td>\n",
       "    </tr>\n",
       "  </tbody>\n",
       "</table>\n",
       "<p>5 rows × 101 columns</p>\n",
       "</div>"
      ],
      "text/plain": [
       "         Life expectancy   1800   1801   1802   1803   1804   1805   1806  \\\n",
       "0               Abkhazia    NaN    NaN    NaN    NaN    NaN    NaN    NaN   \n",
       "1            Afghanistan  28.21  28.20  28.19  28.18  28.17  28.16  28.15   \n",
       "2  Akrotiri and Dhekelia    NaN    NaN    NaN    NaN    NaN    NaN    NaN   \n",
       "3                Albania  35.40  35.40  35.40  35.40  35.40  35.40  35.40   \n",
       "4                Algeria  28.82  28.82  28.82  28.82  28.82  28.82  28.82   \n",
       "\n",
       "    1807   1808  ...   1890   1891   1892   1893   1894   1895   1896   1897  \\\n",
       "0    NaN    NaN  ...    NaN    NaN    NaN    NaN    NaN    NaN    NaN    NaN   \n",
       "1  28.14  28.13  ...  27.29  27.28  27.27  27.26  27.25  27.24  27.23  27.22   \n",
       "2    NaN    NaN  ...    NaN    NaN    NaN    NaN    NaN    NaN    NaN    NaN   \n",
       "3  35.40  35.40  ...  35.40  35.40  35.40  35.40  35.40  35.40  35.40  35.40   \n",
       "4  28.82  28.82  ...  28.82  28.82  28.82  28.82  28.82  28.82  28.82  28.82   \n",
       "\n",
       "    1898   1899  \n",
       "0    NaN    NaN  \n",
       "1  27.21  27.20  \n",
       "2    NaN    NaN  \n",
       "3  35.40  35.40  \n",
       "4  28.82  28.82  \n",
       "\n",
       "[5 rows x 101 columns]"
      ]
     },
     "execution_count": 243,
     "metadata": {},
     "output_type": "execute_result"
    }
   ],
   "source": [
    "# 4) Drop columns containing all NaN values\n",
    "\n",
    "data3=data2.dropna(how='all', axis=1)\n",
    "\n",
    "print(data2.shape)\n",
    "print(data3.shape)\n",
    "\n",
    "data3.head(5)"
   ]
  },
  {
   "cell_type": "markdown",
   "metadata": {},
   "source": [
    "# Step 4: Prepare the data in tidy format\n",
    "\n",
    "1) Convert the data in tidy format. Reshape the data using pd.melt\n",
    "\n",
    "2) Check data types of columns using df.dtypes\n",
    "\n",
    "3) Convert the columns into appropriate datatypes using .astype or pd.to_numeric methods."
   ]
  },
  {
   "cell_type": "code",
   "execution_count": 244,
   "metadata": {},
   "outputs": [
    {
     "data": {
      "text/html": [
       "<div>\n",
       "<style scoped>\n",
       "    .dataframe tbody tr th:only-of-type {\n",
       "        vertical-align: middle;\n",
       "    }\n",
       "\n",
       "    .dataframe tbody tr th {\n",
       "        vertical-align: top;\n",
       "    }\n",
       "\n",
       "    .dataframe thead th {\n",
       "        text-align: right;\n",
       "    }\n",
       "</style>\n",
       "<table border=\"1\" class=\"dataframe\">\n",
       "  <thead>\n",
       "    <tr style=\"text-align: right;\">\n",
       "      <th></th>\n",
       "      <th>Country</th>\n",
       "      <th>Year</th>\n",
       "      <th>Life expectancy</th>\n",
       "    </tr>\n",
       "  </thead>\n",
       "  <tbody>\n",
       "    <tr>\n",
       "      <td>0</td>\n",
       "      <td>Abkhazia</td>\n",
       "      <td>1800</td>\n",
       "      <td>NaN</td>\n",
       "    </tr>\n",
       "    <tr>\n",
       "      <td>1</td>\n",
       "      <td>Afghanistan</td>\n",
       "      <td>1800</td>\n",
       "      <td>28.21</td>\n",
       "    </tr>\n",
       "    <tr>\n",
       "      <td>2</td>\n",
       "      <td>Akrotiri and Dhekelia</td>\n",
       "      <td>1800</td>\n",
       "      <td>NaN</td>\n",
       "    </tr>\n",
       "    <tr>\n",
       "      <td>3</td>\n",
       "      <td>Albania</td>\n",
       "      <td>1800</td>\n",
       "      <td>35.40</td>\n",
       "    </tr>\n",
       "    <tr>\n",
       "      <td>4</td>\n",
       "      <td>Algeria</td>\n",
       "      <td>1800</td>\n",
       "      <td>28.82</td>\n",
       "    </tr>\n",
       "  </tbody>\n",
       "</table>\n",
       "</div>"
      ],
      "text/plain": [
       "                 Country  Year  Life expectancy\n",
       "0               Abkhazia  1800              NaN\n",
       "1            Afghanistan  1800            28.21\n",
       "2  Akrotiri and Dhekelia  1800              NaN\n",
       "3                Albania  1800            35.40\n",
       "4                Algeria  1800            28.82"
      ]
     },
     "execution_count": 244,
     "metadata": {},
     "output_type": "execute_result"
    }
   ],
   "source": [
    "# 1) Reshaping dataset using pd.melt\n",
    "\n",
    "gap_melt=pd.melt(frame=data3, id_vars='Life expectancy')\n",
    "\n",
    "gap_melt.columns=['Country', 'Year', 'Life expectancy']\n",
    "\n",
    "gap_melt.head()"
   ]
  },
  {
   "cell_type": "code",
   "execution_count": 246,
   "metadata": {},
   "outputs": [
    {
     "name": "stdout",
     "output_type": "stream",
     "text": [
      "<class 'pandas.core.frame.DataFrame'>\n",
      "RangeIndex: 26000 entries, 0 to 25999\n",
      "Data columns (total 3 columns):\n",
      "Country            26000 non-null object\n",
      "Year               26000 non-null object\n",
      "Life expectancy    20100 non-null float64\n",
      "dtypes: float64(1), object(2)\n",
      "memory usage: 609.5+ KB\n"
     ]
    }
   ],
   "source": [
    "# 2) Check data types of columns using df.dtypes\n",
    "\n",
    "gap_melt.dtypes\n",
    "\n",
    "gap_melt.info()"
   ]
  },
  {
   "cell_type": "code",
   "execution_count": 247,
   "metadata": {},
   "outputs": [
    {
     "name": "stdout",
     "output_type": "stream",
     "text": [
      "<class 'pandas.core.frame.DataFrame'>\n",
      "RangeIndex: 26000 entries, 0 to 25999\n",
      "Data columns (total 3 columns):\n",
      "Country            26000 non-null category\n",
      "Year               26000 non-null int64\n",
      "Life expectancy    20100 non-null float64\n",
      "dtypes: category(1), float64(1), int64(1)\n",
      "memory usage: 469.2 KB\n"
     ]
    }
   ],
   "source": [
    "# 3) Convert the columns into appropriate datatypes using .astype or pd.to_numeric methods.\n",
    "\n",
    "gap_melt['Country'] = gap_melt.Country.astype('category')\n",
    "\n",
    "gap_melt['Year'] = gap_melt.Year.astype('int64')\n",
    "\n",
    "gap_melt.info()"
   ]
  },
  {
   "cell_type": "markdown",
   "metadata": {},
   "source": [
    "# Step 5: Asserting the assumptions and saving the file\n",
    "\n",
    "1) Assert that there are no nulls in each column. Use assert statement\n",
    "\n",
    "2) Drop any NaN values if there is an assertion error\n",
    "\n",
    "3) Check the shape, .info() of the final data set\n",
    "\n",
    "4) Save the file with name 'clean_gapminder.csv'. Use to_csv() method."
   ]
  },
  {
   "cell_type": "code",
   "execution_count": 253,
   "metadata": {},
   "outputs": [
    {
     "ename": "AssertionError",
     "evalue": "",
     "output_type": "error",
     "traceback": [
      "\u001b[1;31m---------------------------------------------------------------------------\u001b[0m",
      "\u001b[1;31mAssertionError\u001b[0m                            Traceback (most recent call last)",
      "\u001b[1;32m<ipython-input-253-6f6a840943a6>\u001b[0m in \u001b[0;36m<module>\u001b[1;34m\u001b[0m\n\u001b[0;32m      3\u001b[0m \u001b[1;32massert\u001b[0m \u001b[0mgap_melt\u001b[0m\u001b[1;33m[\u001b[0m\u001b[1;34m'Year'\u001b[0m\u001b[1;33m]\u001b[0m\u001b[1;33m.\u001b[0m\u001b[0mnotnull\u001b[0m\u001b[1;33m(\u001b[0m\u001b[1;33m)\u001b[0m\u001b[1;33m.\u001b[0m\u001b[0mall\u001b[0m\u001b[1;33m(\u001b[0m\u001b[1;33m)\u001b[0m\u001b[1;33m\u001b[0m\u001b[1;33m\u001b[0m\u001b[0m\n\u001b[0;32m      4\u001b[0m \u001b[1;33m\u001b[0m\u001b[0m\n\u001b[1;32m----> 5\u001b[1;33m \u001b[1;32massert\u001b[0m \u001b[0mgap_melt\u001b[0m\u001b[1;33m[\u001b[0m\u001b[1;34m'Life expectancy'\u001b[0m\u001b[1;33m]\u001b[0m\u001b[1;33m.\u001b[0m\u001b[0mnotnull\u001b[0m\u001b[1;33m(\u001b[0m\u001b[1;33m)\u001b[0m\u001b[1;33m.\u001b[0m\u001b[0mall\u001b[0m\u001b[1;33m(\u001b[0m\u001b[1;33m)\u001b[0m\u001b[1;33m\u001b[0m\u001b[1;33m\u001b[0m\u001b[0m\n\u001b[0m",
      "\u001b[1;31mAssertionError\u001b[0m: "
     ]
    }
   ],
   "source": [
    "assert gap_melt['Country'].notnull().all()\n",
    "\n",
    "assert gap_melt['Year'].notnull().all()\n",
    "\n",
    "assert gap_melt['Life expectancy'].notnull().all()"
   ]
  },
  {
   "cell_type": "code",
   "execution_count": 256,
   "metadata": {},
   "outputs": [],
   "source": [
    "# Drop the rows containing any null value in the \n",
    "\n",
    "gap_melt.dropna(how='any', axis=0, inplace=True)"
   ]
  },
  {
   "cell_type": "code",
   "execution_count": 258,
   "metadata": {},
   "outputs": [
    {
     "name": "stdout",
     "output_type": "stream",
     "text": [
      "<class 'pandas.core.frame.DataFrame'>\n",
      "Int64Index: 20100 entries, 1 to 25999\n",
      "Data columns (total 3 columns):\n",
      "Country            20100 non-null category\n",
      "Year               20100 non-null int64\n",
      "Life expectancy    20100 non-null float64\n",
      "dtypes: category(1), float64(1), int64(1)\n",
      "memory usage: 522.4 KB\n"
     ]
    }
   ],
   "source": [
    "gap_melt.shape\n",
    "gap_melt.info()"
   ]
  },
  {
   "cell_type": "code",
   "execution_count": 259,
   "metadata": {},
   "outputs": [],
   "source": [
    "# 4) Save the file with name 'clean_gapminder.csv'. Use to_csv() method.\n",
    "\n",
    "gap_melt.to_csv('clean_gapminder.csv')"
   ]
  },
  {
   "cell_type": "code",
   "execution_count": 50,
   "metadata": {},
   "outputs": [],
   "source": [
    "import os\n",
    "os.chdir(r'C:\\Users\\user\\Desktop\\DS - Course\\File - 6')"
   ]
  }
 ],
 "metadata": {
  "kernelspec": {
   "display_name": "Python 3",
   "language": "python",
   "name": "python3"
  },
  "language_info": {
   "codemirror_mode": {
    "name": "ipython",
    "version": 3
   },
   "file_extension": ".py",
   "mimetype": "text/x-python",
   "name": "python",
   "nbconvert_exporter": "python",
   "pygments_lexer": "ipython3",
   "version": "3.7.4"
  }
 },
 "nbformat": 4,
 "nbformat_minor": 2
}
