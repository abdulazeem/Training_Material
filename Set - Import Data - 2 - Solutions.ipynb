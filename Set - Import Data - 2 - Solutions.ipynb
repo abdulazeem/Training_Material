{
 "cells": [
  {
   "cell_type": "markdown",
   "metadata": {},
   "source": [
    "# Exercise 1: Import a flat file from the Web\n",
    "\n",
    "Download the given flat file (.csv) from the web using urllib package, and display the content using Pandas library.\n",
    "\n",
    "https://s3.amazonaws.com/assets.datacamp.com/production/course_1606/datasets/winequality-red.csv"
   ]
  },
  {
   "cell_type": "code",
   "execution_count": null,
   "metadata": {},
   "outputs": [],
   "source": []
  },
  {
   "cell_type": "markdown",
   "metadata": {},
   "source": [
    "# Exercise 2: Import Excel Data\n",
    "\n",
    "Dowload the excel data from the given link.\n",
    "\n",
    "http://s3.amazonaws.com/assets.datacamp.com/course/importing_data_into_r/latitude.xls"
   ]
  },
  {
   "cell_type": "code",
   "execution_count": 5,
   "metadata": {},
   "outputs": [
    {
     "data": {
      "text/html": [
       "<div>\n",
       "<style scoped>\n",
       "    .dataframe tbody tr th:only-of-type {\n",
       "        vertical-align: middle;\n",
       "    }\n",
       "\n",
       "    .dataframe tbody tr th {\n",
       "        vertical-align: top;\n",
       "    }\n",
       "\n",
       "    .dataframe thead th {\n",
       "        text-align: right;\n",
       "    }\n",
       "</style>\n",
       "<table border=\"1\" class=\"dataframe\">\n",
       "  <thead>\n",
       "    <tr style=\"text-align: right;\">\n",
       "      <th></th>\n",
       "      <th>country</th>\n",
       "      <th>1700</th>\n",
       "    </tr>\n",
       "  </thead>\n",
       "  <tbody>\n",
       "    <tr>\n",
       "      <td>0</td>\n",
       "      <td>Afghanistan</td>\n",
       "      <td>34.565000</td>\n",
       "    </tr>\n",
       "    <tr>\n",
       "      <td>1</td>\n",
       "      <td>Akrotiri and Dhekelia</td>\n",
       "      <td>34.616667</td>\n",
       "    </tr>\n",
       "    <tr>\n",
       "      <td>2</td>\n",
       "      <td>Albania</td>\n",
       "      <td>41.312000</td>\n",
       "    </tr>\n",
       "    <tr>\n",
       "      <td>3</td>\n",
       "      <td>Algeria</td>\n",
       "      <td>36.720000</td>\n",
       "    </tr>\n",
       "    <tr>\n",
       "      <td>4</td>\n",
       "      <td>American Samoa</td>\n",
       "      <td>-14.307000</td>\n",
       "    </tr>\n",
       "    <tr>\n",
       "      <td>...</td>\n",
       "      <td>...</td>\n",
       "      <td>...</td>\n",
       "    </tr>\n",
       "    <tr>\n",
       "      <td>241</td>\n",
       "      <td>Yemen, Rep.</td>\n",
       "      <td>15.228000</td>\n",
       "    </tr>\n",
       "    <tr>\n",
       "      <td>242</td>\n",
       "      <td>Yugoslavia</td>\n",
       "      <td>NaN</td>\n",
       "    </tr>\n",
       "    <tr>\n",
       "      <td>243</td>\n",
       "      <td>Zambia</td>\n",
       "      <td>-12.942000</td>\n",
       "    </tr>\n",
       "    <tr>\n",
       "      <td>244</td>\n",
       "      <td>Zimbabwe</td>\n",
       "      <td>-17.876000</td>\n",
       "    </tr>\n",
       "    <tr>\n",
       "      <td>245</td>\n",
       "      <td>Åland</td>\n",
       "      <td>60.000000</td>\n",
       "    </tr>\n",
       "  </tbody>\n",
       "</table>\n",
       "<p>246 rows × 2 columns</p>\n",
       "</div>"
      ],
      "text/plain": [
       "                   country       1700\n",
       "0              Afghanistan  34.565000\n",
       "1    Akrotiri and Dhekelia  34.616667\n",
       "2                  Albania  41.312000\n",
       "3                  Algeria  36.720000\n",
       "4           American Samoa -14.307000\n",
       "..                     ...        ...\n",
       "241            Yemen, Rep.  15.228000\n",
       "242             Yugoslavia        NaN\n",
       "243                 Zambia -12.942000\n",
       "244               Zimbabwe -17.876000\n",
       "245                  Åland  60.000000\n",
       "\n",
       "[246 rows x 2 columns]"
      ]
     },
     "execution_count": 5,
     "metadata": {},
     "output_type": "execute_result"
    }
   ],
   "source": [
    "import pandas as pd\n",
    "\n",
    "url = 'http://s3.amazonaws.com/assets.datacamp.com/course/importing_data_into_r/latitude.xls'\n",
    "pd.read_excel(url)"
   ]
  },
  {
   "cell_type": "markdown",
   "metadata": {},
   "source": [
    "# Exercise 3: Import a Webpage using Urllib\n",
    "\n",
    "Import a webpage using urlopen and Request from urllib.request package.\n",
    "\n",
    "https://en.wikipedia.org/wiki/List_of_deepest_caves "
   ]
  },
  {
   "cell_type": "code",
   "execution_count": null,
   "metadata": {},
   "outputs": [],
   "source": []
  },
  {
   "cell_type": "markdown",
   "metadata": {},
   "source": [
    "# Exercise 4: Import a Webpage using Requests Package\n",
    "\n",
    "Import a webpage using Requests package.\n",
    "\n",
    "https://en.wikipedia.org/wiki/List_of_deepest_caves "
   ]
  },
  {
   "cell_type": "code",
   "execution_count": null,
   "metadata": {},
   "outputs": [],
   "source": []
  },
  {
   "cell_type": "markdown",
   "metadata": {},
   "source": [
    "# Exercise 5: Parsing HTML with BeautifulSoup\n",
    "\n",
    "\n",
    "1) Import https://en.wikipedia.org/wiki/List_of_deepest_caves and parse using BeautifulSoup\n",
    "\n",
    "2) Prettify the raw data using .prettify() method\n",
    "\n",
    "3) Find the structure of webpage.\n",
    "\n",
    "4) Extract title of the document from the data using .title() method\n",
    "\n",
    "5) Extract text from the data using get_text() method\n",
    "\n",
    "6) Using .find and .findall on the html tags\n",
    "\n",
    "7) Use .select to extract the tags"
   ]
  },
  {
   "cell_type": "code",
   "execution_count": null,
   "metadata": {},
   "outputs": [],
   "source": []
  },
  {
   "cell_type": "markdown",
   "metadata": {},
   "source": [
    "# Exercise 6: Parsing HTML with BeautifulSoup - Getting all hyperlinks using tags\n",
    "\n",
    "Scrape the website to extract all Hyperlinks\n",
    "\n",
    "https://en.wikipedia.org/wiki/Isaac_Newton "
   ]
  },
  {
   "cell_type": "code",
   "execution_count": null,
   "metadata": {},
   "outputs": [],
   "source": []
  },
  {
   "cell_type": "markdown",
   "metadata": {},
   "source": [
    "# Exercise 7: Import Table from Webpage\n",
    "\n",
    "Import the titles of all the Asian countries from the given webpage\n",
    "\n",
    "'https://en.wikipedia.org/wiki/List_of_Asian_countries_by_area'"
   ]
  },
  {
   "cell_type": "code",
   "execution_count": null,
   "metadata": {},
   "outputs": [],
   "source": []
  },
  {
   "cell_type": "markdown",
   "metadata": {},
   "source": [
    "# Exercise 8: Extract the Complete Table\n",
    "\n",
    "\n",
    "'https://en.wikipedia.org/wiki/List_of_countries_and_dependencies_by_area'"
   ]
  },
  {
   "cell_type": "code",
   "execution_count": null,
   "metadata": {},
   "outputs": [],
   "source": [
    "    "
   ]
  },
  {
   "cell_type": "code",
   "execution_count": null,
   "metadata": {},
   "outputs": [],
   "source": []
  }
 ],
 "metadata": {
  "kernelspec": {
   "display_name": "Python 3",
   "language": "python",
   "name": "python3"
  },
  "language_info": {
   "codemirror_mode": {
    "name": "ipython",
    "version": 3
   },
   "file_extension": ".py",
   "mimetype": "text/x-python",
   "name": "python",
   "nbconvert_exporter": "python",
   "pygments_lexer": "ipython3",
   "version": "3.7.4"
  }
 },
 "nbformat": 4,
 "nbformat_minor": 2
}
