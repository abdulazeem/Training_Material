{
 "cells": [
  {
   "cell_type": "markdown",
   "metadata": {},
   "source": [
    "# Exercise 1: Loading and Viewing Data\n",
    "    \n",
    "Visualize the properties of the given data frame.\n",
    "\n",
    "'sample_business.csv'\n",
    "\n",
    "1) print the header and footer using .head() and .tail()\n",
    "\n",
    "2) view the column labels and index labels of the data frame using .columns and .index method\n",
    "\n",
    "3) view the number of total rows and columns using .shape method\n",
    "\n",
    "4) Find the data type of each column, summary of missing data, total number of rows and columns, memory usage using .info() method"
   ]
  },
  {
   "cell_type": "code",
   "execution_count": null,
   "metadata": {},
   "outputs": [],
   "source": []
  },
  {
   "cell_type": "markdown",
   "metadata": {},
   "source": [
    "# Exercise 2: Exploratory Data Analysis (Mathematical)\n",
    "\n",
    "1) **Categorical Data**: Find the value counts of each categorical data type using .value_counts\n",
    "    \n",
    "    a) use for Region, Item, orderdata columns\n",
    "\n",
    "2) **Quantitative**: Find the descriptive statistics of quantitative columns using .describe() method\n",
    "\n",
    "3) Use .info() method to find unique values.\n",
    "\n",
    "Use sales_orders.xlsx"
   ]
  },
  {
   "cell_type": "code",
   "execution_count": null,
   "metadata": {},
   "outputs": [],
   "source": []
  },
  {
   "cell_type": "markdown",
   "metadata": {},
   "source": [
    "# Exercise 3: Visual Exploratory Data Analysis\n",
    "\n",
    "Histograms are great ways of visualizing single variables. \n",
    "\n",
    "To visualize multiple variables, boxplots are useful, especially when one of the variables is categorical. Boxplots are great when you have a numeric column that you want to compare across different categories. \n",
    "\n",
    "When you want to visualize two numeric columns, scatter plots are ideal.\n",
    "\n",
    "\n",
    "1) Visualizing Single Variable with Histogram Plot\n",
    "\n",
    "2) Visualizing Single Varaible with Boxplot\n",
    "\n",
    "3) Visualizing Multiple Varaibles with Boxplot\n",
    "\n",
    "4) Visualizing Multiple Variables with Scatterplot\n",
    "\n",
    "Use sales_orders.xlsx"
   ]
  },
  {
   "cell_type": "code",
   "execution_count": null,
   "metadata": {},
   "outputs": [],
   "source": []
  },
  {
   "cell_type": "markdown",
   "metadata": {},
   "source": [
    "# Exercise - 4\n",
    "\n",
    "1) Use pd.melt() to turn columns to rows\n",
    "\n",
    "    a) Use only id_vars\n",
    "    \n",
    "    b) Use both id_vars and value_vars\n",
    "    \n",
    "    c) Name the new columns using var_name and value_name\n",
    "    \n",
    "pd.melt(frame= df, id_vars=[], value_vars=[], var_name = '', value_name = '')\n",
    "\n",
    "2) Find the shape of the outcoming table each time\n",
    "\n",
    "https://pandas.pydata.org/pandas-docs/stable/reference/api/pandas.melt.html\n",
    "\n",
    "Use data_untidy.xlsx"
   ]
  },
  {
   "cell_type": "code",
   "execution_count": null,
   "metadata": {},
   "outputs": [],
   "source": []
  },
  {
   "cell_type": "markdown",
   "metadata": {},
   "source": [
    "# Exercise - 5\n",
    "\n",
    "1) Use pivoting to unmelt the data or turn the column into row data. Use df.pivot\n",
    "\n",
    "df.pivot(index , columns, values)\n",
    "\n",
    "https://pandas.pydata.org/pandas-docs/stable/reference/api/pandas.DataFrame.pivot.html\n",
    "\n",
    "Use data_pivot.xlsx\n",
    "\n",
    "2) For table with duplicate entries, use pd.pivot_table(data, index, values, columns, aggfunc)\n",
    "\n",
    "\n",
    "https://pandas.pydata.org/pandas-docs/stable/reference/api/pandas.pivot_table.html#pandas.pivot_table\n",
    "\n",
    "Use data_pivot2.xlsx\n",
    "\n",
    "3) Use .reset_index() to remove the hierarchichal indexing\n"
   ]
  },
  {
   "cell_type": "code",
   "execution_count": null,
   "metadata": {},
   "outputs": [],
   "source": []
  },
  {
   "cell_type": "markdown",
   "metadata": {},
   "source": [
    "# Exercise 6: Ebola Death Cases by Country\n",
    "\n",
    "For the given ebola data, find the number of confirmed, probable, and suspected people and total as a summary for each country. \n",
    "\n",
    "\n",
    "Use ebola_death.xls"
   ]
  },
  {
   "cell_type": "code",
   "execution_count": null,
   "metadata": {},
   "outputs": [],
   "source": []
  },
  {
   "cell_type": "markdown",
   "metadata": {},
   "source": [
    "# Exercise 7: Usage .str and .get in extracting elements of a column data\n",
    "    \n",
    "1) Import the 'data3.xlsx' file\n",
    "\n",
    "2) Create a column called Gender by extracting data from gender_age column\n",
    "\n",
    "3) Create a column called Age by extracting data from gender_age column\n",
    "\n",
    "4) Create a Category column specifying the state of infected individual by extracting data from type_country column\n",
    "\n",
    "5) Createa Country column specifying the country of the individual by extracting data from type_country column\n",
    "\n",
    "6) Find the total number of suspected, normal or infected individuals\n",
    "\n",
    "7) Find the total number of males and females\n",
    "\n",
    "8) Drop unused columns\n",
    "\n",
    "9) Re-index columns\n",
    "\n",
    "10) Find the total number of individuals from each country"
   ]
  },
  {
   "cell_type": "code",
   "execution_count": null,
   "metadata": {},
   "outputs": [],
   "source": []
  }
 ],
 "metadata": {
  "kernelspec": {
   "display_name": "Python 3",
   "language": "python",
   "name": "python3"
  },
  "language_info": {
   "codemirror_mode": {
    "name": "ipython",
    "version": 3
   },
   "file_extension": ".py",
   "mimetype": "text/x-python",
   "name": "python",
   "nbconvert_exporter": "python",
   "pygments_lexer": "ipython3",
   "version": "3.7.4"
  }
 },
 "nbformat": 4,
 "nbformat_minor": 2
}
