{
 "cells": [
  {
   "cell_type": "code",
   "execution_count": 0,
   "metadata": {
    "colab": {},
    "colab_type": "code",
    "id": "YaYEZ3BYozfQ"
   },
   "outputs": [],
   "source": [
    "import pandas as pd\n",
    "import numpy as np"
   ]
  },
  {
   "cell_type": "code",
   "execution_count": 4,
   "metadata": {
    "colab": {
     "base_uri": "https://localhost:8080/",
     "height": 34
    },
    "colab_type": "code",
    "id": "GmMXwnOr-z3I",
    "outputId": "994f1b2d-e7b1-4dca-a201-91994ddc78dd"
   },
   "outputs": [
    {
     "data": {
      "text/plain": [
       "'/content'"
      ]
     },
     "execution_count": 4,
     "metadata": {
      "tags": []
     },
     "output_type": "execute_result"
    }
   ],
   "source": [
    "import os\n",
    "os.getcwd()"
   ]
  },
  {
   "cell_type": "code",
   "execution_count": 5,
   "metadata": {
    "colab": {
     "base_uri": "https://localhost:8080/",
     "height": 204
    },
    "colab_type": "code",
    "id": "Slr5EWrwpG0P",
    "outputId": "5bdf8a88-a59f-4118-9ffd-a399d0728f26"
   },
   "outputs": [
    {
     "data": {
      "text/html": [
       "<div>\n",
       "<style scoped>\n",
       "    .dataframe tbody tr th:only-of-type {\n",
       "        vertical-align: middle;\n",
       "    }\n",
       "\n",
       "    .dataframe tbody tr th {\n",
       "        vertical-align: top;\n",
       "    }\n",
       "\n",
       "    .dataframe thead th {\n",
       "        text-align: right;\n",
       "    }\n",
       "</style>\n",
       "<table border=\"1\" class=\"dataframe\">\n",
       "  <thead>\n",
       "    <tr style=\"text-align: right;\">\n",
       "      <th></th>\n",
       "      <th>Person</th>\n",
       "      <th>Age</th>\n",
       "      <th>Gender</th>\n",
       "      <th>State</th>\n",
       "      <th>Children</th>\n",
       "      <th>Salary</th>\n",
       "      <th>Opinion</th>\n",
       "    </tr>\n",
       "  </thead>\n",
       "  <tbody>\n",
       "    <tr>\n",
       "      <th>0</th>\n",
       "      <td>1</td>\n",
       "      <td>Middle-aged</td>\n",
       "      <td>2</td>\n",
       "      <td>Texas</td>\n",
       "      <td>2</td>\n",
       "      <td>63017</td>\n",
       "      <td>Strongly agree</td>\n",
       "    </tr>\n",
       "    <tr>\n",
       "      <th>1</th>\n",
       "      <td>2</td>\n",
       "      <td>Middle-aged</td>\n",
       "      <td>2</td>\n",
       "      <td>Virginia</td>\n",
       "      <td>3</td>\n",
       "      <td>100302</td>\n",
       "      <td>Strongly disagree</td>\n",
       "    </tr>\n",
       "    <tr>\n",
       "      <th>2</th>\n",
       "      <td>3</td>\n",
       "      <td>Middle-aged</td>\n",
       "      <td>2</td>\n",
       "      <td>California</td>\n",
       "      <td>0</td>\n",
       "      <td>144043</td>\n",
       "      <td>Strongly agree</td>\n",
       "    </tr>\n",
       "    <tr>\n",
       "      <th>3</th>\n",
       "      <td>4</td>\n",
       "      <td>Young</td>\n",
       "      <td>2</td>\n",
       "      <td>California</td>\n",
       "      <td>0</td>\n",
       "      <td>36025</td>\n",
       "      <td>Agree</td>\n",
       "    </tr>\n",
       "    <tr>\n",
       "      <th>4</th>\n",
       "      <td>5</td>\n",
       "      <td>Middle-aged</td>\n",
       "      <td>1</td>\n",
       "      <td>Texas</td>\n",
       "      <td>0</td>\n",
       "      <td>97543</td>\n",
       "      <td>Neutral</td>\n",
       "    </tr>\n",
       "  </tbody>\n",
       "</table>\n",
       "</div>"
      ],
      "text/plain": [
       "   Person          Age  Gender       State  Children  Salary            Opinion\n",
       "0       1  Middle-aged       2       Texas         2   63017     Strongly agree\n",
       "1       2  Middle-aged       2    Virginia         3  100302  Strongly disagree\n",
       "2       3  Middle-aged       2  California         0  144043     Strongly agree\n",
       "3       4        Young       2  California         0   36025              Agree\n",
       "4       5  Middle-aged       1       Texas         0   97543            Neutral"
      ]
     },
     "execution_count": 5,
     "metadata": {
      "tags": []
     },
     "output_type": "execute_result"
    }
   ],
   "source": [
    "survey_data=pd.read_excel(\"P02_03.xlsx\")\n",
    "survey_data.head()"
   ]
  },
  {
   "cell_type": "code",
   "execution_count": 6,
   "metadata": {
    "colab": {
     "base_uri": "https://localhost:8080/",
     "height": 204
    },
    "colab_type": "code",
    "id": "aY59DcLmp8nh",
    "outputId": "02e215a6-47bd-4bd9-9c60-d4193296a7dc"
   },
   "outputs": [
    {
     "data": {
      "text/html": [
       "<div>\n",
       "<style scoped>\n",
       "    .dataframe tbody tr th:only-of-type {\n",
       "        vertical-align: middle;\n",
       "    }\n",
       "\n",
       "    .dataframe tbody tr th {\n",
       "        vertical-align: top;\n",
       "    }\n",
       "\n",
       "    .dataframe thead th {\n",
       "        text-align: right;\n",
       "    }\n",
       "</style>\n",
       "<table border=\"1\" class=\"dataframe\">\n",
       "  <thead>\n",
       "    <tr style=\"text-align: right;\">\n",
       "      <th></th>\n",
       "      <th>Person</th>\n",
       "      <th>Age</th>\n",
       "      <th>Gender</th>\n",
       "      <th>State</th>\n",
       "      <th>Children</th>\n",
       "      <th>Salary</th>\n",
       "      <th>Opinion</th>\n",
       "    </tr>\n",
       "  </thead>\n",
       "  <tbody>\n",
       "    <tr>\n",
       "      <th>394</th>\n",
       "      <td>395</td>\n",
       "      <td>Middle-aged</td>\n",
       "      <td>2</td>\n",
       "      <td>California</td>\n",
       "      <td>0</td>\n",
       "      <td>60715</td>\n",
       "      <td>Neutral</td>\n",
       "    </tr>\n",
       "    <tr>\n",
       "      <th>395</th>\n",
       "      <td>396</td>\n",
       "      <td>Middle-aged</td>\n",
       "      <td>1</td>\n",
       "      <td>Virginia</td>\n",
       "      <td>2</td>\n",
       "      <td>91760</td>\n",
       "      <td>Disagree</td>\n",
       "    </tr>\n",
       "    <tr>\n",
       "      <th>396</th>\n",
       "      <td>397</td>\n",
       "      <td>Middle-aged</td>\n",
       "      <td>2</td>\n",
       "      <td>Arizona</td>\n",
       "      <td>1</td>\n",
       "      <td>82558</td>\n",
       "      <td>Strongly disagree</td>\n",
       "    </tr>\n",
       "    <tr>\n",
       "      <th>397</th>\n",
       "      <td>398</td>\n",
       "      <td>Middle-aged</td>\n",
       "      <td>1</td>\n",
       "      <td>New York</td>\n",
       "      <td>1</td>\n",
       "      <td>84880</td>\n",
       "      <td>Strongly agree</td>\n",
       "    </tr>\n",
       "    <tr>\n",
       "      <th>398</th>\n",
       "      <td>399</td>\n",
       "      <td>Middle-aged</td>\n",
       "      <td>2</td>\n",
       "      <td>Illinois</td>\n",
       "      <td>2</td>\n",
       "      <td>76933</td>\n",
       "      <td>Strongly agree</td>\n",
       "    </tr>\n",
       "  </tbody>\n",
       "</table>\n",
       "</div>"
      ],
      "text/plain": [
       "     Person          Age  Gender  ... Children  Salary            Opinion\n",
       "394     395  Middle-aged       2  ...        0   60715            Neutral\n",
       "395     396  Middle-aged       1  ...        2   91760           Disagree\n",
       "396     397  Middle-aged       2  ...        1   82558  Strongly disagree\n",
       "397     398  Middle-aged       1  ...        1   84880     Strongly agree\n",
       "398     399  Middle-aged       2  ...        2   76933     Strongly agree\n",
       "\n",
       "[5 rows x 7 columns]"
      ]
     },
     "execution_count": 6,
     "metadata": {
      "tags": []
     },
     "output_type": "execute_result"
    }
   ],
   "source": [
    "survey_data.tail()"
   ]
  },
  {
   "cell_type": "code",
   "execution_count": 7,
   "metadata": {
    "colab": {
     "base_uri": "https://localhost:8080/",
     "height": 34
    },
    "colab_type": "code",
    "id": "EAWL1FLnqEEB",
    "outputId": "994faad8-fa06-4dc4-c765-63677d934946"
   },
   "outputs": [
    {
     "data": {
      "text/plain": [
       "Index(['Person', 'Age', 'Gender', 'State', 'Children', 'Salary', 'Opinion'], dtype='object')"
      ]
     },
     "execution_count": 7,
     "metadata": {
      "tags": []
     },
     "output_type": "execute_result"
    }
   ],
   "source": [
    "survey_data.columns"
   ]
  },
  {
   "cell_type": "code",
   "execution_count": 8,
   "metadata": {
    "colab": {
     "base_uri": "https://localhost:8080/",
     "height": 34
    },
    "colab_type": "code",
    "id": "-ld3xo6vqIHy",
    "outputId": "0e1feff5-94e2-42c6-ed5c-fae9121407c0"
   },
   "outputs": [
    {
     "data": {
      "text/plain": [
       "RangeIndex(start=0, stop=399, step=1)"
      ]
     },
     "execution_count": 8,
     "metadata": {
      "tags": []
     },
     "output_type": "execute_result"
    }
   ],
   "source": [
    "survey_data.index"
   ]
  },
  {
   "cell_type": "code",
   "execution_count": 9,
   "metadata": {
    "colab": {
     "base_uri": "https://localhost:8080/",
     "height": 221
    },
    "colab_type": "code",
    "id": "wqWr4n10qMrp",
    "outputId": "f78b13c2-4dfc-4e6c-eb15-43614c3ee454"
   },
   "outputs": [
    {
     "name": "stdout",
     "output_type": "stream",
     "text": [
      "<class 'pandas.core.frame.DataFrame'>\n",
      "RangeIndex: 399 entries, 0 to 398\n",
      "Data columns (total 7 columns):\n",
      "Person      399 non-null int64\n",
      "Age         399 non-null object\n",
      "Gender      399 non-null int64\n",
      "State       399 non-null object\n",
      "Children    399 non-null int64\n",
      "Salary      399 non-null int64\n",
      "Opinion     399 non-null object\n",
      "dtypes: int64(4), object(3)\n",
      "memory usage: 21.9+ KB\n"
     ]
    }
   ],
   "source": [
    "survey_data.info()"
   ]
  },
  {
   "cell_type": "code",
   "execution_count": 10,
   "metadata": {
    "colab": {
     "base_uri": "https://localhost:8080/",
     "height": 297
    },
    "colab_type": "code",
    "id": "TlvFu_AyqRWQ",
    "outputId": "678fd716-0e57-45c4-d451-6e32113a0d6f"
   },
   "outputs": [
    {
     "data": {
      "text/html": [
       "<div>\n",
       "<style scoped>\n",
       "    .dataframe tbody tr th:only-of-type {\n",
       "        vertical-align: middle;\n",
       "    }\n",
       "\n",
       "    .dataframe tbody tr th {\n",
       "        vertical-align: top;\n",
       "    }\n",
       "\n",
       "    .dataframe thead th {\n",
       "        text-align: right;\n",
       "    }\n",
       "</style>\n",
       "<table border=\"1\" class=\"dataframe\">\n",
       "  <thead>\n",
       "    <tr style=\"text-align: right;\">\n",
       "      <th></th>\n",
       "      <th>Person</th>\n",
       "      <th>Gender</th>\n",
       "      <th>Children</th>\n",
       "      <th>Salary</th>\n",
       "    </tr>\n",
       "  </thead>\n",
       "  <tbody>\n",
       "    <tr>\n",
       "      <th>count</th>\n",
       "      <td>399.000000</td>\n",
       "      <td>399.000000</td>\n",
       "      <td>399.000000</td>\n",
       "      <td>399.000000</td>\n",
       "    </tr>\n",
       "    <tr>\n",
       "      <th>mean</th>\n",
       "      <td>200.000000</td>\n",
       "      <td>1.586466</td>\n",
       "      <td>1.313283</td>\n",
       "      <td>78942.471178</td>\n",
       "    </tr>\n",
       "    <tr>\n",
       "      <th>std</th>\n",
       "      <td>115.325626</td>\n",
       "      <td>0.493085</td>\n",
       "      <td>1.022166</td>\n",
       "      <td>27236.865152</td>\n",
       "    </tr>\n",
       "    <tr>\n",
       "      <th>min</th>\n",
       "      <td>1.000000</td>\n",
       "      <td>1.000000</td>\n",
       "      <td>0.000000</td>\n",
       "      <td>20687.000000</td>\n",
       "    </tr>\n",
       "    <tr>\n",
       "      <th>25%</th>\n",
       "      <td>100.500000</td>\n",
       "      <td>1.000000</td>\n",
       "      <td>0.000000</td>\n",
       "      <td>58128.500000</td>\n",
       "    </tr>\n",
       "    <tr>\n",
       "      <th>50%</th>\n",
       "      <td>200.000000</td>\n",
       "      <td>2.000000</td>\n",
       "      <td>2.000000</td>\n",
       "      <td>79212.000000</td>\n",
       "    </tr>\n",
       "    <tr>\n",
       "      <th>75%</th>\n",
       "      <td>299.500000</td>\n",
       "      <td>2.000000</td>\n",
       "      <td>2.000000</td>\n",
       "      <td>95796.500000</td>\n",
       "    </tr>\n",
       "    <tr>\n",
       "      <th>max</th>\n",
       "      <td>399.000000</td>\n",
       "      <td>2.000000</td>\n",
       "      <td>3.000000</td>\n",
       "      <td>160134.000000</td>\n",
       "    </tr>\n",
       "  </tbody>\n",
       "</table>\n",
       "</div>"
      ],
      "text/plain": [
       "           Person      Gender    Children         Salary\n",
       "count  399.000000  399.000000  399.000000     399.000000\n",
       "mean   200.000000    1.586466    1.313283   78942.471178\n",
       "std    115.325626    0.493085    1.022166   27236.865152\n",
       "min      1.000000    1.000000    0.000000   20687.000000\n",
       "25%    100.500000    1.000000    0.000000   58128.500000\n",
       "50%    200.000000    2.000000    2.000000   79212.000000\n",
       "75%    299.500000    2.000000    2.000000   95796.500000\n",
       "max    399.000000    2.000000    3.000000  160134.000000"
      ]
     },
     "execution_count": 10,
     "metadata": {
      "tags": []
     },
     "output_type": "execute_result"
    }
   ],
   "source": [
    "survey_data.describe()"
   ]
  },
  {
   "cell_type": "markdown",
   "metadata": {
    "colab_type": "text",
    "id": "qmdbABiorDaf"
   },
   "source": [
    "**a.\tWhat is the average salary of all respondents based on their gender**"
   ]
  },
  {
   "cell_type": "code",
   "execution_count": 11,
   "metadata": {
    "colab": {
     "base_uri": "https://localhost:8080/",
     "height": 85
    },
    "colab_type": "code",
    "id": "1zKgjB_jq-5L",
    "outputId": "fbada535-9986-4c2e-87af-ad5bd98108f8"
   },
   "outputs": [
    {
     "data": {
      "text/plain": [
       "Gender\n",
       "1    80733.200000\n",
       "2    77679.777778\n",
       "Name: Salary, dtype: float64"
      ]
     },
     "execution_count": 11,
     "metadata": {
      "tags": []
     },
     "output_type": "execute_result"
    }
   ],
   "source": [
    "a=survey_data.groupby('Gender')\n",
    "a['Salary'].mean()\n"
   ]
  },
  {
   "cell_type": "markdown",
   "metadata": {
    "colab_type": "text",
    "id": "VOJtsk8Mvuwt"
   },
   "source": [
    "**b.\tWhat is the average salary of respondents of those who are female and have two childrens.**"
   ]
  },
  {
   "cell_type": "code",
   "execution_count": 19,
   "metadata": {
    "colab": {
     "base_uri": "https://localhost:8080/",
     "height": 204
    },
    "colab_type": "code",
    "id": "g7inCv4cPpNs",
    "outputId": "8abf376d-0581-4ae6-88a7-9c74952e9eb1"
   },
   "outputs": [
    {
     "data": {
      "text/html": [
       "<div>\n",
       "<style scoped>\n",
       "    .dataframe tbody tr th:only-of-type {\n",
       "        vertical-align: middle;\n",
       "    }\n",
       "\n",
       "    .dataframe tbody tr th {\n",
       "        vertical-align: top;\n",
       "    }\n",
       "\n",
       "    .dataframe thead th {\n",
       "        text-align: right;\n",
       "    }\n",
       "</style>\n",
       "<table border=\"1\" class=\"dataframe\">\n",
       "  <thead>\n",
       "    <tr style=\"text-align: right;\">\n",
       "      <th></th>\n",
       "      <th>Person</th>\n",
       "      <th>Age</th>\n",
       "      <th>Gender</th>\n",
       "      <th>State</th>\n",
       "      <th>Children</th>\n",
       "      <th>Salary</th>\n",
       "      <th>Opinion</th>\n",
       "    </tr>\n",
       "  </thead>\n",
       "  <tbody>\n",
       "    <tr>\n",
       "      <th>0</th>\n",
       "      <td>1</td>\n",
       "      <td>Middle-aged</td>\n",
       "      <td>2</td>\n",
       "      <td>Texas</td>\n",
       "      <td>2</td>\n",
       "      <td>63017</td>\n",
       "      <td>Strongly agree</td>\n",
       "    </tr>\n",
       "    <tr>\n",
       "      <th>1</th>\n",
       "      <td>2</td>\n",
       "      <td>Middle-aged</td>\n",
       "      <td>2</td>\n",
       "      <td>Virginia</td>\n",
       "      <td>3</td>\n",
       "      <td>100302</td>\n",
       "      <td>Strongly disagree</td>\n",
       "    </tr>\n",
       "    <tr>\n",
       "      <th>2</th>\n",
       "      <td>3</td>\n",
       "      <td>Middle-aged</td>\n",
       "      <td>2</td>\n",
       "      <td>California</td>\n",
       "      <td>0</td>\n",
       "      <td>144043</td>\n",
       "      <td>Strongly agree</td>\n",
       "    </tr>\n",
       "    <tr>\n",
       "      <th>3</th>\n",
       "      <td>4</td>\n",
       "      <td>Young</td>\n",
       "      <td>2</td>\n",
       "      <td>California</td>\n",
       "      <td>0</td>\n",
       "      <td>36025</td>\n",
       "      <td>Agree</td>\n",
       "    </tr>\n",
       "    <tr>\n",
       "      <th>6</th>\n",
       "      <td>7</td>\n",
       "      <td>Middle-aged</td>\n",
       "      <td>2</td>\n",
       "      <td>Michigan</td>\n",
       "      <td>2</td>\n",
       "      <td>81799</td>\n",
       "      <td>Disagree</td>\n",
       "    </tr>\n",
       "  </tbody>\n",
       "</table>\n",
       "</div>"
      ],
      "text/plain": [
       "   Person          Age  Gender       State  Children  Salary            Opinion\n",
       "0       1  Middle-aged       2       Texas         2   63017     Strongly agree\n",
       "1       2  Middle-aged       2    Virginia         3  100302  Strongly disagree\n",
       "2       3  Middle-aged       2  California         0  144043     Strongly agree\n",
       "3       4        Young       2  California         0   36025              Agree\n",
       "6       7  Middle-aged       2    Michigan         2   81799           Disagree"
      ]
     },
     "execution_count": 19,
     "metadata": {
      "tags": []
     },
     "output_type": "execute_result"
    }
   ],
   "source": [
    "female_data=survey_data[survey_data['Gender']==2]\n",
    "female_data.head()"
   ]
  },
  {
   "cell_type": "code",
   "execution_count": 21,
   "metadata": {
    "colab": {
     "base_uri": "https://localhost:8080/",
     "height": 204
    },
    "colab_type": "code",
    "id": "Kz8VrefjQok7",
    "outputId": "f6f82601-63d0-4803-963f-37a20178cbd3"
   },
   "outputs": [
    {
     "data": {
      "text/html": [
       "<div>\n",
       "<style scoped>\n",
       "    .dataframe tbody tr th:only-of-type {\n",
       "        vertical-align: middle;\n",
       "    }\n",
       "\n",
       "    .dataframe tbody tr th {\n",
       "        vertical-align: top;\n",
       "    }\n",
       "\n",
       "    .dataframe thead th {\n",
       "        text-align: right;\n",
       "    }\n",
       "</style>\n",
       "<table border=\"1\" class=\"dataframe\">\n",
       "  <thead>\n",
       "    <tr style=\"text-align: right;\">\n",
       "      <th></th>\n",
       "      <th>Person</th>\n",
       "      <th>Age</th>\n",
       "      <th>Gender</th>\n",
       "      <th>State</th>\n",
       "      <th>Children</th>\n",
       "      <th>Salary</th>\n",
       "      <th>Opinion</th>\n",
       "    </tr>\n",
       "  </thead>\n",
       "  <tbody>\n",
       "    <tr>\n",
       "      <th>0</th>\n",
       "      <td>1</td>\n",
       "      <td>Middle-aged</td>\n",
       "      <td>2</td>\n",
       "      <td>Texas</td>\n",
       "      <td>2</td>\n",
       "      <td>63017</td>\n",
       "      <td>Strongly agree</td>\n",
       "    </tr>\n",
       "    <tr>\n",
       "      <th>6</th>\n",
       "      <td>7</td>\n",
       "      <td>Middle-aged</td>\n",
       "      <td>2</td>\n",
       "      <td>Michigan</td>\n",
       "      <td>2</td>\n",
       "      <td>81799</td>\n",
       "      <td>Disagree</td>\n",
       "    </tr>\n",
       "    <tr>\n",
       "      <th>13</th>\n",
       "      <td>14</td>\n",
       "      <td>Elderly</td>\n",
       "      <td>2</td>\n",
       "      <td>Texas</td>\n",
       "      <td>2</td>\n",
       "      <td>67748</td>\n",
       "      <td>Neutral</td>\n",
       "    </tr>\n",
       "    <tr>\n",
       "      <th>14</th>\n",
       "      <td>15</td>\n",
       "      <td>Young</td>\n",
       "      <td>2</td>\n",
       "      <td>Texas</td>\n",
       "      <td>2</td>\n",
       "      <td>47172</td>\n",
       "      <td>Neutral</td>\n",
       "    </tr>\n",
       "    <tr>\n",
       "      <th>17</th>\n",
       "      <td>18</td>\n",
       "      <td>Elderly</td>\n",
       "      <td>2</td>\n",
       "      <td>California</td>\n",
       "      <td>2</td>\n",
       "      <td>66001</td>\n",
       "      <td>Neutral</td>\n",
       "    </tr>\n",
       "  </tbody>\n",
       "</table>\n",
       "</div>"
      ],
      "text/plain": [
       "    Person          Age  Gender       State  Children  Salary         Opinion\n",
       "0        1  Middle-aged       2       Texas         2   63017  Strongly agree\n",
       "6        7  Middle-aged       2    Michigan         2   81799        Disagree\n",
       "13      14      Elderly       2       Texas         2   67748         Neutral\n",
       "14      15        Young       2       Texas         2   47172         Neutral\n",
       "17      18      Elderly       2  California         2   66001         Neutral"
      ]
     },
     "execution_count": 21,
     "metadata": {
      "tags": []
     },
     "output_type": "execute_result"
    }
   ],
   "source": [
    "two_childrens=female_data[female_data['Children']==2]\n",
    "two_childrens.head()"
   ]
  },
  {
   "cell_type": "code",
   "execution_count": 0,
   "metadata": {
    "colab": {},
    "colab_type": "code",
    "id": "vOAG04DYQNf_"
   },
   "outputs": [],
   "source": [
    "avg_salary=two_childrens.Salary.mean()"
   ]
  },
  {
   "cell_type": "code",
   "execution_count": 27,
   "metadata": {
    "colab": {
     "base_uri": "https://localhost:8080/",
     "height": 34
    },
    "colab_type": "code",
    "id": "FCh3ZGsGRQ3O",
    "outputId": "c3dec514-ec3c-468a-c1db-66ffd552b1e0"
   },
   "outputs": [
    {
     "name": "stdout",
     "output_type": "stream",
     "text": [
      "the avg salary of female who are having two children is  77805.29629629629\n"
     ]
    }
   ],
   "source": [
    "print(\"the avg salary of female who are having two children is  {}\".format(avg_salary))"
   ]
  },
  {
   "cell_type": "markdown",
   "metadata": {
    "colab_type": "text",
    "id": "38OkX54jRp4K"
   },
   "source": [
    "***c.\tIdentify all respondents who strongly agree with the environmental policy***"
   ]
  },
  {
   "cell_type": "code",
   "execution_count": 44,
   "metadata": {
    "colab": {
     "base_uri": "https://localhost:8080/",
     "height": 204
    },
    "colab_type": "code",
    "id": "LkdqXRgeTHlQ",
    "outputId": "b3d5e944-623d-4f7a-b91b-ba5ab5ed9f20"
   },
   "outputs": [
    {
     "data": {
      "text/html": [
       "<div>\n",
       "<style scoped>\n",
       "    .dataframe tbody tr th:only-of-type {\n",
       "        vertical-align: middle;\n",
       "    }\n",
       "\n",
       "    .dataframe tbody tr th {\n",
       "        vertical-align: top;\n",
       "    }\n",
       "\n",
       "    .dataframe thead th {\n",
       "        text-align: right;\n",
       "    }\n",
       "</style>\n",
       "<table border=\"1\" class=\"dataframe\">\n",
       "  <thead>\n",
       "    <tr style=\"text-align: right;\">\n",
       "      <th></th>\n",
       "      <th>Person</th>\n",
       "      <th>Age</th>\n",
       "      <th>Gender</th>\n",
       "      <th>State</th>\n",
       "      <th>Children</th>\n",
       "      <th>Salary</th>\n",
       "      <th>Opinion</th>\n",
       "    </tr>\n",
       "  </thead>\n",
       "  <tbody>\n",
       "    <tr>\n",
       "      <th>0</th>\n",
       "      <td>1</td>\n",
       "      <td>Middle-aged</td>\n",
       "      <td>2</td>\n",
       "      <td>Texas</td>\n",
       "      <td>2</td>\n",
       "      <td>63017</td>\n",
       "      <td>Strongly agree</td>\n",
       "    </tr>\n",
       "    <tr>\n",
       "      <th>2</th>\n",
       "      <td>3</td>\n",
       "      <td>Middle-aged</td>\n",
       "      <td>2</td>\n",
       "      <td>California</td>\n",
       "      <td>0</td>\n",
       "      <td>144043</td>\n",
       "      <td>Strongly agree</td>\n",
       "    </tr>\n",
       "    <tr>\n",
       "      <th>12</th>\n",
       "      <td>13</td>\n",
       "      <td>Middle-aged</td>\n",
       "      <td>1</td>\n",
       "      <td>Minnesota</td>\n",
       "      <td>1</td>\n",
       "      <td>115138</td>\n",
       "      <td>Strongly agree</td>\n",
       "    </tr>\n",
       "    <tr>\n",
       "      <th>24</th>\n",
       "      <td>25</td>\n",
       "      <td>Middle-aged</td>\n",
       "      <td>2</td>\n",
       "      <td>Michigan</td>\n",
       "      <td>2</td>\n",
       "      <td>93370</td>\n",
       "      <td>Strongly agree</td>\n",
       "    </tr>\n",
       "    <tr>\n",
       "      <th>27</th>\n",
       "      <td>28</td>\n",
       "      <td>Elderly</td>\n",
       "      <td>1</td>\n",
       "      <td>Illinois</td>\n",
       "      <td>2</td>\n",
       "      <td>62929</td>\n",
       "      <td>Strongly agree</td>\n",
       "    </tr>\n",
       "  </tbody>\n",
       "</table>\n",
       "</div>"
      ],
      "text/plain": [
       "    Person          Age  Gender       State  Children  Salary         Opinion\n",
       "0        1  Middle-aged       2       Texas         2   63017  Strongly agree\n",
       "2        3  Middle-aged       2  California         0  144043  Strongly agree\n",
       "12      13  Middle-aged       1   Minnesota         1  115138  Strongly agree\n",
       "24      25  Middle-aged       2    Michigan         2   93370  Strongly agree\n",
       "27      28      Elderly       1    Illinois         2   62929  Strongly agree"
      ]
     },
     "execution_count": 44,
     "metadata": {
      "tags": []
     },
     "output_type": "execute_result"
    }
   ],
   "source": [
    "environ_policy=survey_data[survey_data['Opinion']=='Strongly agree']\n",
    "environ_policy.head()"
   ]
  },
  {
   "cell_type": "markdown",
   "metadata": {
    "colab_type": "text",
    "id": "yrPz0hHhUcLk"
   },
   "source": [
    "**Environmental_policy based on Gender**"
   ]
  },
  {
   "cell_type": "code",
   "execution_count": 46,
   "metadata": {
    "colab": {
     "base_uri": "https://localhost:8080/",
     "height": 142
    },
    "colab_type": "code",
    "id": "gargvrEuUFP0",
    "outputId": "58430543-a05e-4884-a361-e0c60996f32f"
   },
   "outputs": [
    {
     "data": {
      "text/html": [
       "<div>\n",
       "<style scoped>\n",
       "    .dataframe tbody tr th:only-of-type {\n",
       "        vertical-align: middle;\n",
       "    }\n",
       "\n",
       "    .dataframe tbody tr th {\n",
       "        vertical-align: top;\n",
       "    }\n",
       "\n",
       "    .dataframe thead th {\n",
       "        text-align: right;\n",
       "    }\n",
       "</style>\n",
       "<table border=\"1\" class=\"dataframe\">\n",
       "  <thead>\n",
       "    <tr style=\"text-align: right;\">\n",
       "      <th></th>\n",
       "      <th></th>\n",
       "      <th>Person</th>\n",
       "      <th>Age</th>\n",
       "      <th>State</th>\n",
       "      <th>Children</th>\n",
       "      <th>Salary</th>\n",
       "    </tr>\n",
       "    <tr>\n",
       "      <th>Gender</th>\n",
       "      <th>Opinion</th>\n",
       "      <th></th>\n",
       "      <th></th>\n",
       "      <th></th>\n",
       "      <th></th>\n",
       "      <th></th>\n",
       "    </tr>\n",
       "  </thead>\n",
       "  <tbody>\n",
       "    <tr>\n",
       "      <th>1</th>\n",
       "      <th>Strongly agree</th>\n",
       "      <td>40</td>\n",
       "      <td>40</td>\n",
       "      <td>40</td>\n",
       "      <td>40</td>\n",
       "      <td>40</td>\n",
       "    </tr>\n",
       "    <tr>\n",
       "      <th>2</th>\n",
       "      <th>Strongly agree</th>\n",
       "      <td>46</td>\n",
       "      <td>46</td>\n",
       "      <td>46</td>\n",
       "      <td>46</td>\n",
       "      <td>46</td>\n",
       "    </tr>\n",
       "  </tbody>\n",
       "</table>\n",
       "</div>"
      ],
      "text/plain": [
       "                       Person  Age  State  Children  Salary\n",
       "Gender Opinion                                             \n",
       "1      Strongly agree      40   40     40        40      40\n",
       "2      Strongly agree      46   46     46        46      46"
      ]
     },
     "execution_count": 46,
     "metadata": {
      "tags": []
     },
     "output_type": "execute_result"
    }
   ],
   "source": [
    "environ_policy.groupby(['Gender','Opinion']).count()"
   ]
  },
  {
   "cell_type": "code",
   "execution_count": 47,
   "metadata": {
    "colab": {
     "base_uri": "https://localhost:8080/",
     "height": 153
    },
    "colab_type": "code",
    "id": "XCmEuGuoUyJ8",
    "outputId": "f1198d04-192b-431f-db84-6fc77e9d475f"
   },
   "outputs": [
    {
     "data": {
      "text/plain": [
       "Person      86\n",
       "Age         86\n",
       "Gender      86\n",
       "State       86\n",
       "Children    86\n",
       "Salary      86\n",
       "Opinion     86\n",
       "dtype: int64"
      ]
     },
     "execution_count": 47,
     "metadata": {
      "tags": []
     },
     "output_type": "execute_result"
    }
   ],
   "source": [
    "environ_policy.count()"
   ]
  }
 ],
 "metadata": {
  "colab": {
   "collapsed_sections": [],
   "name": "Untitled20.ipynb",
   "provenance": []
  },
  "kernelspec": {
   "display_name": "Python 3",
   "language": "python",
   "name": "python3"
  },
  "language_info": {
   "codemirror_mode": {
    "name": "ipython",
    "version": 3
   },
   "file_extension": ".py",
   "mimetype": "text/x-python",
   "name": "python",
   "nbconvert_exporter": "python",
   "pygments_lexer": "ipython3",
   "version": "3.7.4"
  }
 },
 "nbformat": 4,
 "nbformat_minor": 1
}
