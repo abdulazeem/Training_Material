{
 "cells": [
  {
   "cell_type": "markdown",
   "metadata": {},
   "source": [
    "# Exercise 1: Basics of Matplotlib\n",
    "    \n",
    "1) Import a dataset and create the following plots\n",
    "        \n",
    "    a) Line plot  - plt.plot(x,y ,color, marker, linestyle)\n",
    "    \n",
    "    b) Box plot - plt.boxplot(x)\n",
    "    \n",
    "    c) Two-dimensional scatter plot - plt.scatter(x,y ,color, marker, linestyle)\n",
    "    \n",
    "2) Plot the labels using plt.xlabel, plt.ylabel, plt.title\n",
    "\n",
    "Use women_education.csv\n",
    "\n",
    "Use auto_mpg.csv for scatter plot"
   ]
  },
  {
   "cell_type": "code",
   "execution_count": null,
   "metadata": {},
   "outputs": [],
   "source": []
  },
  {
   "cell_type": "markdown",
   "metadata": {},
   "source": [
    "# Exercise 2: Multiple plots on single axis\n",
    "\n",
    "We have women_education.csv data consisting of records of degrees awarded to women in a variety of fields from 1970 to 2011.\n",
    "\n",
    "1) Create Multiple plots on single figure\n",
    "\n",
    "\n",
    "https://matplotlib.org/3.1.1/api/_as_gen/matplotlib.pyplot.plot.html"
   ]
  },
  {
   "cell_type": "markdown",
   "metadata": {},
   "source": []
  },
  {
   "cell_type": "markdown",
   "metadata": {},
   "source": [
    "# Exercise 3: Using Axes ()\n",
    "\n",
    "Instead of plotting multiple plots on single figure, we can plot different line plots on distinct axes. One of the ways to do this is by using plt.axes() function.\n",
    "\n",
    "In calling plt.axes([xlo, ylo, width, height]), a set of axes is created and made active with lower corner at coordinates (xlo, ylo) of the specified width and height. Note that these coordinates can be passed to plt.axes() in the form of a list or a tuple.\n",
    "\n",
    "The coordinates and lengths are values between 0 and 1 representing lengths relative to the dimensions of the figure. After issuing a plt.axes() command, plots generated are put in that set of axes.\n",
    "\n",
    "- Create Separate plots for each using .axes()"
   ]
  },
  {
   "cell_type": "code",
   "execution_count": null,
   "metadata": {},
   "outputs": [],
   "source": []
  },
  {
   "cell_type": "markdown",
   "metadata": {},
   "source": [
    "# Exercise 4: Using subplot()\n",
    "\n",
    "plt.subplot(m, n, k) to make the subplot grid of dimensions m by n and to make the kth subplot active (subplots are numbered starting from 1 row-wise from the top left corner of the subplot grid).\n",
    "\n",
    "https://matplotlib.org/3.1.3/api/_as_gen/matplotlib.pyplot.subplot.html\n",
    "\n",
    "1) Create a 1 x 2 subplot layout and plot the Psychology and Computer Science in different plots.\n",
    "\n",
    "2) Create a 2 x 2 subplot layout and plot Psychology, Computer Science, Agriculture and Arts in various supplots."
   ]
  },
  {
   "cell_type": "code",
   "execution_count": 12,
   "metadata": {},
   "outputs": [],
   "source": []
  },
  {
   "cell_type": "markdown",
   "metadata": {},
   "source": [
    "# Exercise 5: Controlling Axis Extents and Savefig\n",
    "\n",
    "Controlling axis extents using xlim and ylim. Optionally we can use .axis\n",
    "\n",
    "1) Zoom out the Pyhysical Sciences plt.xlim() and plt.ylim() for the years 1990 and 2010. Also save the figure using plt.savefig\n",
    "\n",
    "2) Repeate the same using plt.axis()\n",
    "\n",
    "https://matplotlib.org/3.1.3/api/_as_gen/matplotlib.pyplot.axis.html"
   ]
  },
  {
   "cell_type": "code",
   "execution_count": null,
   "metadata": {},
   "outputs": [],
   "source": []
  },
  {
   "cell_type": "markdown",
   "metadata": {},
   "source": [
    "# Exercise 6: Legends\n",
    "\n",
    "Plot two columns from the women graduation data with labels, and create a legend using plt.legend(loc='') \n"
   ]
  },
  {
   "cell_type": "code",
   "execution_count": null,
   "metadata": {},
   "outputs": [],
   "source": []
  },
  {
   "cell_type": "markdown",
   "metadata": {},
   "source": [
    "# Exercise 7: Annotate and Styleguide\n",
    "    \n",
    "It is often useful to annotate a simple plot to provide context. This makes the plot more readable and can highlight specific aspects of the data. Annotations like text and arrows can be used to emphasize specific observations.\n",
    "\n",
    "1) Use plt.annotate to highlight the maximum enrollment in computer science, physical sciences plot.\n",
    "\n",
    "plt.annotate(label, xy, xytext, arrowprops=dict(facecolor))\n",
    "\n",
    "2) Check the available styleguides using plt.style.available and use anyone using plt.style.use()\n",
    "\n",
    "![image.png](attachment:image.png)\n",
    "\n",
    "https://matplotlib.org/3.1.0/api/_as_gen/matplotlib.pyplot.annotate.html"
   ]
  },
  {
   "cell_type": "code",
   "execution_count": null,
   "metadata": {},
   "outputs": [],
   "source": []
  }
 ],
 "metadata": {
  "kernelspec": {
   "display_name": "Python 3",
   "language": "python",
   "name": "python3"
  },
  "language_info": {
   "codemirror_mode": {
    "name": "ipython",
    "version": 3
   },
   "file_extension": ".py",
   "mimetype": "text/x-python",
   "name": "python",
   "nbconvert_exporter": "python",
   "pygments_lexer": "ipython3",
   "version": "3.7.4"
  }
 },
 "nbformat": 4,
 "nbformat_minor": 2
}
