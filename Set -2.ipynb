{
 "cells": [
  {
   "cell_type": "markdown",
   "metadata": {},
   "source": [
    "# If Statement\n",
    "\n",
    "An if statement is a conditional statement that runs or skips code based on whether a condition is true or false. Here's a simple example.\n",
    "\n",
    "In addition to the if clause, there are two other optional clauses often used with an if statement. Elif, and Else.\n",
    "\n",
    "If: An if statement must always start with an if clause, which contains the first condition that is checked. If this evaluates to True, Python runs the code indented in this if block and then skips to the rest of the code after the if statement.\n",
    "\n",
    "elif: elif is short for \"else if.\" An elif clause is used to check for an additional condition if the conditions in the previous clauses in the if statement evaluate to False. As you can see in the example, you can have multiple elif blocks to handle different situations.\n",
    "\n",
    "else: Last is the else clause, which must come at the end of an if statement if used. This clause doesn't require a condition. The code in an else block is run if all conditions above that in the if statement evaluate to False."
   ]
  },
  {
   "cell_type": "code",
   "execution_count": 2,
   "metadata": {},
   "outputs": [
    {
     "name": "stdout",
     "output_type": "stream",
     "text": [
      "21\n"
     ]
    }
   ],
   "source": [
    "balance=11\n",
    "\n",
    "if balance>10:\n",
    "    balance+=10\n",
    "\n",
    "print(balance)"
   ]
  },
  {
   "cell_type": "markdown",
   "metadata": {},
   "source": [
    "# Exercise 1\n",
    "\n",
    "Write a conditional if elif statement to print the following\n",
    "\n",
    "1) If the season is spring, print 'plant the garden!'\n",
    "\n",
    "2) If the season is summer, print 'water the garden!'\n",
    "\n",
    "3) If the season is fall, print 'harvest the garden!'\n",
    "\n",
    "4) If the season is winter, print 'stay indoors!'\n",
    "\n",
    "5) If the season is a mistaken string, print 'unrecognized season'"
   ]
  },
  {
   "cell_type": "code",
   "execution_count": 4,
   "metadata": {},
   "outputs": [
    {
     "name": "stdout",
     "output_type": "stream",
     "text": [
      "Water the garden\n"
     ]
    }
   ],
   "source": [
    "season = 'summer'\n",
    "\n",
    "if season == 'spring':\n",
    "    result= 'Plant the garder'\n",
    "elif season == 'summer':\n",
    "    result = 'Water the garden'\n",
    "elif season == 'fall':\n",
    "    result = 'Harvest the garden'\n",
    "elif season == 'winter':\n",
    "    result = 'Stay indoors'\n",
    "else :\n",
    "    result = 'Unrecognized'\n",
    "    \n",
    "print(result)"
   ]
  },
  {
   "attachments": {
    "image.png": {
     "image/png": "[encoded data removed]"
    }
   },
   "cell_type": "markdown",
   "metadata": {},
   "source": [
    "# Exercise 2\n",
    "\n",
    "Write an if statement that lets a competitor know which of these prizes they won based on the number of points they score.\n",
    "\n",
    "![image.png](attachment:image.png)"
   ]
  },
  {
   "cell_type": "code",
   "execution_count": 8,
   "metadata": {},
   "outputs": [
    {
     "ename": "SyntaxError",
     "evalue": "invalid syntax (<ipython-input-8-a3fe8f404da4>, line 9)",
     "output_type": "error",
     "traceback": [
      "\u001b[1;36m  File \u001b[1;32m\"<ipython-input-8-a3fe8f404da4>\"\u001b[1;36m, line \u001b[1;32m9\u001b[0m\n\u001b[1;33m    else points<=200:\u001b[0m\n\u001b[1;37m              ^\u001b[0m\n\u001b[1;31mSyntaxError\u001b[0m\u001b[1;31m:\u001b[0m invalid syntax\n"
     ]
    }
   ],
   "source": [
    "points = 250\n",
    "\n",
    "if points <=50:\n",
    "    prize='Wooden rabbit'\n",
    "elif points <=150:\n",
    "    prize='no prize'\n",
    "elif points<=180:\n",
    "    prize='wafer-thin mint'\n",
    "else points<=200:\n",
    "    prize='penguin'\n",
    "\n",
    "print(prize)"
   ]
  },
  {
   "cell_type": "markdown",
   "metadata": {},
   "source": [
    "# Exercise 3\n",
    "\n",
    "Depending on where an individual is from we need to tax them appropriately. The states of CA, MN, and NY have taxes of 7.5%, 9.5%, and 8.9% respectively. Use this information to take the amount of a purchase and the corresponding state to assure that they are taxed by the right amount."
   ]
  },
  {
   "cell_type": "code",
   "execution_count": 10,
   "metadata": {},
   "outputs": [
    {
     "name": "stdout",
     "output_type": "stream",
     "text": [
      "As you belong to CA, your total amount is 273.05\n"
     ]
    }
   ],
   "source": [
    "state='CA' # CA, MN, NY\n",
    "purchase_amount=254\n",
    "\n",
    "if state=='CA':\n",
    "    tax=0.075\n",
    "    total=purchase_amount*(1+tax)\n",
    "elif state=='MN':\n",
    "    tax=0.095\n",
    "    total=purchase_amount*(1+tax)\n",
    "elif state=='NY':\n",
    "    tax=0.075\n",
    "    total=purchase_amount*(1+tax)\n",
    "\n",
    "\n",
    "\n",
    "print(\"As you belong to {}, your total amount is {}\".format(state,total))"
   ]
  },
  {
   "cell_type": "markdown",
   "metadata": {},
   "source": [
    "# Exercise 4 \n",
    "\n",
    "You decide you want to play a game where you are hiding a number from someone. Store this number in a variable called 'answer'. Another user provides a number called 'guess'. By comparing guess to answer, you inform the user if their guess is too high or too low."
   ]
  },
  {
   "cell_type": "code",
   "execution_count": 12,
   "metadata": {},
   "outputs": [
    {
     "name": "stdout",
     "output_type": "stream",
     "text": [
      "your guess is correct\n"
     ]
    }
   ],
   "source": [
    "answer = 30\n",
    "guess = 30   # this is just a sample answer and guess\n",
    "\n",
    "\n",
    "\n",
    "if guess > answer:\n",
    "    result='your guess is high'\n",
    "elif guess<answer:\n",
    "    result='your guess is low'\n",
    "elif guess == answer:\n",
    "    result='your guess is correct'\n",
    "\n",
    "\n",
    "print(result)"
   ]
  },
  {
   "cell_type": "markdown",
   "metadata": {},
   "source": [
    "# Exercise 5\n",
    "\n",
    "Given weight and height of an individual, find if the individual has a normal/underweight/overweight based on BMI.\n",
    "\n",
    "BMI equals weight over square of height\n",
    "\n",
    "1) BMI less than 18.5 is underweight\n",
    "\n",
    "2) BMI between 18.5 and 25 is normal\n",
    "\n",
    "3) BMI over 25 is overweight"
   ]
  },
  {
   "cell_type": "code",
   "execution_count": 13,
   "metadata": {},
   "outputs": [
    {
     "name": "stdout",
     "output_type": "stream",
     "text": [
      "normal\n"
     ]
    }
   ],
   "source": [
    "weight = 71 # in kgs\n",
    "height = 1.72 # in meters\n",
    "\n",
    "bmi=weight/(height**2)\n",
    "\n",
    "if bmi <18.5:\n",
    "    result='underweight'\n",
    "elif bmi<=25:\n",
    "    result='normal'\n",
    "else:\n",
    "    result='overweight'\n",
    "\n",
    "print(result)"
   ]
  },
  {
   "cell_type": "markdown",
   "metadata": {},
   "source": [
    "# For loops\n",
    "\n",
    "A for loop is used to \"iterate\", or do something repeatedly, over an iterable.\n",
    "\n",
    "An iterable is an object that can return one of its elements at a time. \n",
    "\n",
    "In the below given example city is the iteration variable, and cities is the iterable being looped over.\n"
   ]
  },
  {
   "cell_type": "code",
   "execution_count": 16,
   "metadata": {},
   "outputs": [
    {
     "name": "stdout",
     "output_type": "stream",
     "text": [
      "new york city\n",
      "mountain view\n",
      "chicago\n",
      "los angeles\n"
     ]
    }
   ],
   "source": [
    "cities = ['new york city', 'mountain view', 'chicago', 'los angeles']\n",
    "for city in cities:\n",
    "    print(city)"
   ]
  },
  {
   "cell_type": "markdown",
   "metadata": {},
   "source": [
    "# Using the range() function with for loops\n",
    "\n",
    "range() is a built-in function used to create an iterable sequence of numbers. You will frequently use range() with a for loop to repeat an action a certain number of times. Any variable can be used to iterate through the numbers, but Python programmers conventionally use i, as in this example:\n",
    "\n",
    "range(start=0, stop, step=1)\n",
    "The range() function takes three integer arguments, the first and third of which are optional:\n",
    "\n",
    "1) The 'start' argument is the first number of the sequence. If unspecified, 'start' defaults to 0.\n",
    "\n",
    "2) The 'stop' argument is 1 more than the last number of the sequence. This argument must be specified.\n",
    "\n",
    "3) The 'step' argument is the difference between each number in the sequence. If unspecified, 'step' defaults to 1."
   ]
  },
  {
   "cell_type": "code",
   "execution_count": 17,
   "metadata": {},
   "outputs": [
    {
     "data": {
      "text/plain": [
       "range(0, 4)"
      ]
     },
     "execution_count": 17,
     "metadata": {},
     "output_type": "execute_result"
    }
   ],
   "source": [
    "range(4)"
   ]
  },
  {
   "cell_type": "markdown",
   "metadata": {},
   "source": [
    "# Exercise 6\n",
    "\n",
    "Modify the given list of cities to return each word in Capitalized title form using for loop."
   ]
  },
  {
   "cell_type": "code",
   "execution_count": 19,
   "metadata": {},
   "outputs": [
    {
     "name": "stdout",
     "output_type": "stream",
     "text": [
      "['New York City', 'Mountain View', 'Chicago', 'Los Angeles']\n"
     ]
    }
   ],
   "source": [
    "cities = ['new york city', 'mountain view', 'chicago', 'los angeles']\n",
    "capitalized_cities = []\n",
    "\n",
    "for city in cities:\n",
    "    a=city.title()\n",
    "    capitalized_cities.append(a)\n",
    "\n",
    "print(capitalized_cities)"
   ]
  },
  {
   "cell_type": "code",
   "execution_count": 18,
   "metadata": {},
   "outputs": [
    {
     "data": {
      "text/plain": [
       "'New York City'"
      ]
     },
     "execution_count": 18,
     "metadata": {},
     "output_type": "execute_result"
    }
   ],
   "source": [
    "'new york city'.title()"
   ]
  },
  {
   "cell_type": "markdown",
   "metadata": {},
   "source": [
    "# Exercise 7\n",
    "\n",
    "Use a for loop to take a list and print each element of the list in its own line."
   ]
  },
  {
   "cell_type": "code",
   "execution_count": 20,
   "metadata": {},
   "outputs": [
    {
     "name": "stdout",
     "output_type": "stream",
     "text": [
      "the\n",
      "quick\n",
      "brown\n",
      "fox\n",
      "jumped\n",
      "over\n",
      "the\n",
      "lazy\n",
      "dog\n"
     ]
    }
   ],
   "source": [
    "sentence = [\"the\", \"quick\", \"brown\", \"fox\", \"jumped\", \"over\", \"the\", \"lazy\", \"dog\"]\n",
    "\n",
    "for word in sentence:\n",
    "    print(word)"
   ]
  },
  {
   "cell_type": "markdown",
   "metadata": {},
   "source": [
    "# Exercise 8 \n",
    "\n",
    "Write a for loop below that will print out every whole number that is a multiple of 5 and less than or equal to 30.\n",
    "\n",
    "output: \n",
    "\n",
    "5\n",
    "\n",
    "10\n",
    "\n",
    "15\n",
    "\n",
    "20\n",
    "\n",
    "25\n",
    "\n",
    "30"
   ]
  },
  {
   "cell_type": "code",
   "execution_count": 21,
   "metadata": {},
   "outputs": [
    {
     "name": "stdout",
     "output_type": "stream",
     "text": [
      "5\n",
      "10\n",
      "15\n",
      "20\n",
      "25\n",
      "30\n"
     ]
    }
   ],
   "source": [
    "for index in range(5,31,5):\n",
    "    print(index)"
   ]
  },
  {
   "cell_type": "markdown",
   "metadata": {},
   "source": [
    "# Exercise 9: Create Usernames\n",
    "    \n",
    "Write a for loop that iterates over the names list to create a usernames list. To create a username for each name, make everything lowercase and replace spaces with underscores. Running your for loop over the list:\n",
    "\n",
    "names = [\"Joey Tribbiani\", \"Monica Geller\", \"Chandler Bing\", \"Phoebe Buffay\"]\n",
    "\n",
    "should create the list:\n",
    "\n",
    "usernames = [\"joey_tribbiani\", \"monica_geller\", \"chandler_bing\", \"phoebe_buffay\"]\n",
    "\n",
    "HINT: Use the .replace() method to replace the spaces with underscores."
   ]
  },
  {
   "cell_type": "code",
   "execution_count": 22,
   "metadata": {},
   "outputs": [
    {
     "name": "stdout",
     "output_type": "stream",
     "text": [
      "['joey_tribbiani', 'monica_geller', 'chandler_bing', 'phoebe_buffay']\n"
     ]
    }
   ],
   "source": [
    "names = [\"Joey Tribbiani\", \"Monica Geller\", \"Chandler Bing\", \"Phoebe Buffay\"]\n",
    "usernames=[]\n",
    "\n",
    "for name in names:\n",
    "    x=name.lower().replace(' ','_')\n",
    "    usernames.append(x)\n",
    "    \n",
    "\n",
    "print(usernames)"
   ]
  },
  {
   "cell_type": "markdown",
   "metadata": {},
   "source": [
    "# Exercise 10: Tag Counter\n",
    "\n",
    "Write a for loop that iterates over a list of strings, tokens, and counts how many of them are XML tags. XML is a data language similar to HTML. You can tell if a string is an XML tag if it begins with a left angle bracket \"<\" and ends with a right angle bracket \">\". Keep track of the number of tags using the variable count."
   ]
  },
  {
   "cell_type": "code",
   "execution_count": 24,
   "metadata": {},
   "outputs": [
    {
     "name": "stdout",
     "output_type": "stream",
     "text": [
      "3\n"
     ]
    }
   ],
   "source": [
    "tokens = ['<greeting>', 'Hello World!', '</greeting>','this world','<this world>']\n",
    "count = 0\n",
    "\n",
    "for token in tokens:\n",
    "    if token[0]=='<' and token[-1]=='>':\n",
    "        count+=1\n",
    "    \n",
    "\n",
    "print(count)"
   ]
  },
  {
   "cell_type": "markdown",
   "metadata": {},
   "source": [
    "# Exercise 11: Building Dictionaries \n",
    "\n",
    "Create a dictionary, word_counter, that keeps track of the total count of each word in a list.\n",
    "\n",
    "Case 1: \n",
    "Using a for loop with a word counter.\n",
    "\n",
    "Case 2: \n",
    "Using .get() method in dictionaries."
   ]
  },
  {
   "cell_type": "code",
   "execution_count": 25,
   "metadata": {},
   "outputs": [
    {
     "data": {
      "text/plain": [
       "Counter({'great': 2,\n",
       "         'expectations': 1,\n",
       "         'the': 2,\n",
       "         'adventures': 2,\n",
       "         'of': 2,\n",
       "         'sherlock': 1,\n",
       "         'holmes': 1,\n",
       "         'gasby': 1,\n",
       "         'hamlet': 1,\n",
       "         'huckleberry': 1,\n",
       "         'fin': 1})"
      ]
     },
     "execution_count": 25,
     "metadata": {},
     "output_type": "execute_result"
    }
   ],
   "source": [
    "book_title =  ['great', 'expectations','the', 'adventures', 'of', 'sherlock','holmes','the','great','gasby','hamlet','adventures','of','huckleberry','fin']\n",
    "\n",
    "from collections import Counter\n",
    "Counter(book_title)"
   ]
  },
  {
   "cell_type": "code",
   "execution_count": 1,
   "metadata": {},
   "outputs": [
    {
     "name": "stdout",
     "output_type": "stream",
     "text": [
      "{'great': 2, 'expectations': 1, 'the': 2, 'adventures': 2, 'of': 2, 'sherlock': 1, 'holmes': 1, 'gasby': 1, 'hamlet': 1, 'huckleberry': 1, 'fin': 1}\n"
     ]
    }
   ],
   "source": [
    "#Case 1\n",
    "\n",
    "book_title =  ['great', 'expectations','the', 'adventures', 'of', 'sherlock','holmes','the','great','gasby','hamlet','adventures','of','huckleberry','fin']\n",
    "word_counter={}\n",
    "\n",
    "for word in book_title:\n",
    "    if word not in word_counter:\n",
    "        word_counter[word]=1\n",
    "    else:\n",
    "        word_counter[word]+=1\n",
    " \n",
    "\n",
    "print(word_counter)"
   ]
  },
  {
   "cell_type": "code",
   "execution_count": 6,
   "metadata": {},
   "outputs": [
    {
     "data": {
      "text/plain": [
       "0"
      ]
     },
     "execution_count": 6,
     "metadata": {},
     "output_type": "execute_result"
    }
   ],
   "source": [
    "word_counter.get('greate',0)"
   ]
  },
  {
   "cell_type": "code",
   "execution_count": 7,
   "metadata": {},
   "outputs": [
    {
     "name": "stdout",
     "output_type": "stream",
     "text": [
      "{'great': 2, 'expectations': 1, 'the': 2, 'adventures': 2, 'of': 2, 'sherlock': 1, 'holmes': 1, 'gasby': 1, 'hamlet': 1, 'huckleberry': 1, 'fin': 1}\n"
     ]
    }
   ],
   "source": [
    "#Case 2\n",
    "\n",
    "book_title =  ['great', 'expectations','the', 'adventures', 'of', 'sherlock','holmes','the','great','gasby','hamlet','adventures','of','huckleberry','fin']\n",
    "word_counter={}\n",
    "\n",
    "for word in book_title:\n",
    "    word_counter[word]=word_counter.get(word,0)+1\n",
    "\n",
    "\n",
    "print(word_counter)"
   ]
  },
  {
   "cell_type": "code",
   "execution_count": 11,
   "metadata": {},
   "outputs": [],
   "source": [
    "book_title =  ['great', 'expectations','the', 'adventures', 'of', 'sherlock','holmes','the','great','gasby','hamlet','adventures','of','huckleberry','fin']\n"
   ]
  },
  {
   "cell_type": "markdown",
   "metadata": {},
   "source": [
    "# Iterating through Dictionaries Using For Loops\n",
    "\n",
    "When you iterate through a dictionary using a for loop, doing it the normal way (for n in some_dict) will only give you access to the keys in the dictionary\n",
    "\n",
    "If you wish to iterate through both keys and values, you can use the built-in method items()."
   ]
  },
  {
   "cell_type": "code",
   "execution_count": 9,
   "metadata": {},
   "outputs": [
    {
     "name": "stdout",
     "output_type": "stream",
     "text": [
      "Jerry Seinfeld John\n",
      "Julia Louis-Dreyfus Maria\n",
      "Jason Alexander George\n",
      "Michael Richards Mike\n"
     ]
    }
   ],
   "source": [
    "cast = {\n",
    "           \"Jerry Seinfeld\": \"John\",\n",
    "           \"Julia Louis-Dreyfus\": \"Maria\",\n",
    "           \"Jason Alexander\": \"George\",\n",
    "           \"Michael Richards\": \"Mike\"\n",
    "       }\n",
    "\n",
    "for key,value in cast.items():\n",
    "    print(key,value)"
   ]
  },
  {
   "cell_type": "markdown",
   "metadata": {},
   "source": [
    "# Exercise 12:Fruit Basket\n",
    "    \n",
    "Count the total number of fruits in the basket containing fruits, and other stuff. "
   ]
  },
  {
   "cell_type": "code",
   "execution_count": 10,
   "metadata": {},
   "outputs": [
    {
     "name": "stdout",
     "output_type": "stream",
     "text": [
      "There are 23 fruits in the basket.\n"
     ]
    }
   ],
   "source": [
    "result = 0\n",
    "basket_items = {'apples': 4, 'oranges': 19, 'kites': 3, 'sandwiches': 8, 'pastries':9}\n",
    "fruits = ['apples', 'oranges', 'pears', 'peaches', 'grapes', 'bananas']\n",
    "\n",
    "for fruit,count in basket_items.items():\n",
    "    if fruit in fruits:\n",
    "        result+=count\n",
    "\n",
    "\n",
    "        \n",
    "\n",
    "print(\"There are {} fruits in the basket.\".format(result))"
   ]
  },
  {
   "cell_type": "markdown",
   "metadata": {},
   "source": [
    "# While Loops\n",
    "\n",
    "For loops are an example of \"definite iteration\" meaning that the loop's body is run a predefined number of times. This differs from \"indefinite iteration\" which is when a loop repeats an unknown number of times and ends when some condition is met, which is what happens in a while loop. Here's an example of a while loop.\n",
    "\n"
   ]
  },
  {
   "cell_type": "code",
   "execution_count": 14,
   "metadata": {},
   "outputs": [
    {
     "name": "stdout",
     "output_type": "stream",
     "text": [
      "[10, 8]\n"
     ]
    }
   ],
   "source": [
    "card_deck = [4, 11, 8, 5, 13, 2, 8, 10]\n",
    "hand = []\n",
    "\n",
    "# adds the last element of the card_deck list to the hand list\n",
    "# until the values in hand add up to 17 or more\n",
    "while sum(hand)  < 17:\n",
    "    hand.append(card_deck.pop())\n",
    "print (hand)\n",
    "\n"
   ]
  },
  {
   "cell_type": "code",
   "execution_count": 12,
   "metadata": {},
   "outputs": [
    {
     "data": {
      "text/plain": [
       "10"
      ]
     },
     "execution_count": 12,
     "metadata": {},
     "output_type": "execute_result"
    }
   ],
   "source": [
    "card_deck = [4, 11, 8, 5, 13, 2, 8, 10]\n",
    "card_deck.pop()"
   ]
  },
  {
   "cell_type": "markdown",
   "metadata": {},
   "source": [
    "# Exercise 13: Factorials with While Loops\n",
    "\n",
    "Find the factorial of a given number"
   ]
  },
  {
   "cell_type": "code",
   "execution_count": 15,
   "metadata": {},
   "outputs": [
    {
     "name": "stdout",
     "output_type": "stream",
     "text": [
      "720\n"
     ]
    }
   ],
   "source": [
    "number = 6\n",
    "current=1\n",
    "product=1\n",
    "\n",
    "while current<=number:\n",
    "    product*=current\n",
    "    current+=1\n",
    "    \n",
    "print(product)\n"
   ]
  },
  {
   "cell_type": "markdown",
   "metadata": {},
   "source": [
    "# Zip and Enumerate\n",
    "\n",
    "zip and enumerate are useful built-in functions that can come in handy when dealing with loops.\n",
    "\n",
    "**Zip**\n",
    "zip returns an iterator that combines multiple iterables into one sequence of tuples. Each tuple contains the elements in that position from all the iterables. For example, printing\n",
    "\n",
    "list(zip(['a', 'b', 'c'], [1, 2, 3])) would output [('a', 1), ('b', 2), ('c', 3)].\n",
    "\n",
    "Like we did for range() we need to convert it to a list or iterate through it with a loop to see the elements.\n",
    "\n",
    "You could unpack each tuple in a for loop like this.\n",
    "\n",
    "**Enumerate**\n",
    "enumerate is a built in function that returns an iterator of tuples containing indices and values of a list. You'll often use this when you want the index along with each element of an iterable in a loop."
   ]
  },
  {
   "cell_type": "code",
   "execution_count": 57,
   "metadata": {},
   "outputs": [
    {
     "name": "stdout",
     "output_type": "stream",
     "text": [
      "a,1\n",
      "b,2\n",
      "c,3\n"
     ]
    }
   ],
   "source": [
    "list(zip(['a','b','c'],[1,2,3]))\n",
    "\n",
    "letters =['a','b','c']\n",
    "nums=[1,2,3]\n",
    "\n",
    "for letter, nums in zip(letters,nums):\n",
    "    print(\"{},{}\".format(letter,nums))"
   ]
  },
  {
   "cell_type": "code",
   "execution_count": 20,
   "metadata": {},
   "outputs": [
    {
     "data": {
      "text/plain": [
       "(('a', 1), ('b', 2), ('c', 3))"
      ]
     },
     "execution_count": 20,
     "metadata": {},
     "output_type": "execute_result"
    }
   ],
   "source": [
    "tuple(zip(['a','b','c'],[1,2,3]))"
   ]
  },
  {
   "cell_type": "code",
   "execution_count": 23,
   "metadata": {},
   "outputs": [
    {
     "name": "stdout",
     "output_type": "stream",
     "text": [
      "a\n",
      "b\n",
      "c\n"
     ]
    }
   ],
   "source": [
    "letters =['a','b','c']\n",
    "\n",
    "for x in (letters):\n",
    "    print(x)"
   ]
  },
  {
   "cell_type": "code",
   "execution_count": 24,
   "metadata": {},
   "outputs": [
    {
     "name": "stdout",
     "output_type": "stream",
     "text": [
      "('a', 'b', 'c') (1, 2, 3)\n"
     ]
    }
   ],
   "source": [
    "#Unzipping using asterisk\n",
    "\n",
    "some_list = [('a', 1), ('b', 2), ('c', 3)]\n",
    "letters, nums =zip(*some_list)\n",
    "print(letters,nums)"
   ]
  },
  {
   "cell_type": "markdown",
   "metadata": {},
   "source": [
    "# Exercise 14: Zip Coordinates\n",
    "\n",
    "Use zip to write a for loop that creates a string specifiying the label and coordinates of each point and appends to the list.\n",
    "Each string should be formatted as:\n",
    "\n",
    "label: x, y, z\n",
    "\n",
    "for example, the first coordinate should be\n",
    "\n",
    "F: 23, 677, 4"
   ]
  },
  {
   "cell_type": "code",
   "execution_count": 28,
   "metadata": {},
   "outputs": [
    {
     "name": "stdout",
     "output_type": "stream",
     "text": [
      "('F', 23, 677, 4)\n",
      "('J', 53, 233, 16)\n",
      "('A', 2, 405, -6)\n",
      "('Q', -12, 433, -42)\n",
      "('Y', 95, 905, 3)\n",
      "('B', 103, 376, -6)\n",
      "('W', 14, 432, 23)\n",
      "('X', -5, 445, -1)\n"
     ]
    }
   ],
   "source": [
    "x_coord = [23, 53, 2, -12, 95, 103, 14, -5]\n",
    "y_coord = [677, 233, 405, 433, 905, 376, 432, 445]\n",
    "z_coord = [4, 16, -6, -42, 3, -6, 23, -1]\n",
    "labels = [\"F\", \"J\", \"A\", \"Q\", \"Y\", \"B\", \"W\", \"X\"]\n",
    "points =[]\n",
    "\n",
    "for point in zip(labels, x_coord, y_coord, z_coord):\n",
    "    \n",
    "    points.append(point)\n",
    "\n",
    "for point in points:\n",
    "    print(point)"
   ]
  },
  {
   "cell_type": "markdown",
   "metadata": {},
   "source": [
    "# Exercise 15: Zip Lists to a Dictionary\n",
    "\n",
    "Use zip to create a dictionary cast that uses names as keys and heights as values."
   ]
  },
  {
   "cell_type": "code",
   "execution_count": 30,
   "metadata": {},
   "outputs": [
    {
     "data": {
      "text/plain": [
       "{'Barney': 72, 'Robin': 68, 'Ted': 72, 'Lily': 66, 'Marshall': 76}"
      ]
     },
     "execution_count": 30,
     "metadata": {},
     "output_type": "execute_result"
    }
   ],
   "source": [
    "cast_names = [\"Barney\", \"Robin\", \"Ted\", \"Lily\", \"Marshall\"]\n",
    "cast_heights = [72, 68, 72, 66, 76]\n",
    "\n",
    "dict(zip(cast_names,cast_heights))"
   ]
  },
  {
   "cell_type": "markdown",
   "metadata": {},
   "source": [
    "# Exercise 16: Unzip Tuples\n",
    "\n",
    "Unzip the cast tuple into two names and heights tuples."
   ]
  },
  {
   "cell_type": "code",
   "execution_count": 32,
   "metadata": {},
   "outputs": [
    {
     "name": "stdout",
     "output_type": "stream",
     "text": [
      "('Barney', 'Robin', 'Ted', 'Lily', 'Marshall') (72, 68, 72, 66, 76)\n"
     ]
    }
   ],
   "source": [
    "cast = ((\"Barney\", 72), (\"Robin\", 68), (\"Ted\", 72), (\"Lily\", 66), (\"Marshall\", 76))\n",
    "\n",
    "names, heights=zip(*cast)\n",
    "\n",
    "print(names, heights)"
   ]
  },
  {
   "cell_type": "markdown",
   "metadata": {},
   "source": [
    "# Exercise 17: Enumerate\n",
    "\n",
    "Use enumerate to modify the cast list so that each element contains the name followed by the character's corresponding height. For example, the first element of cast should change from \"Barney Stinson\" to \"Barney Stinson 72\"."
   ]
  },
  {
   "cell_type": "code",
   "execution_count": 34,
   "metadata": {},
   "outputs": [
    {
     "name": "stdout",
     "output_type": "stream",
     "text": [
      "['Barney Stinson 72', 'Robin Scherbatsky 68', 'Ted Mosby 72', 'Lily Aldrin 66', 'Marshall Eriksen 76']\n"
     ]
    }
   ],
   "source": [
    "cast = [\"Barney Stinson\", \"Robin Scherbatsky\", \"Ted Mosby\", \"Lily Aldrin\", \"Marshall Eriksen\"]\n",
    "heights = [72, 68, 72, 66, 76]\n",
    "\n",
    "for i,character in enumerate(cast):\n",
    "    cast[i]= character + \" \" + str(heights[i])\n",
    "    \n",
    "print(cast)"
   ]
  },
  {
   "cell_type": "markdown",
   "metadata": {},
   "source": [
    "# List Comprehensions\n",
    "\n",
    "List comprehensions allow us to create a list using a for loop in one step.\n",
    "\n",
    "You create a list comprehension with brackets [], including an expression to evaluate for each element in an iterable."
   ]
  },
  {
   "cell_type": "code",
   "execution_count": 62,
   "metadata": {},
   "outputs": [
    {
     "name": "stdout",
     "output_type": "stream",
     "text": [
      "['New York City', 'Mountain View', 'Chicago', 'Los Angeles']\n"
     ]
    }
   ],
   "source": [
    "cities = ['new york city', 'mountain view', 'chicago', 'los angeles']\n",
    "capitalized_cities = [city.title() for city in cities]\n",
    "\n",
    "print(capitalized_cities)"
   ]
  },
  {
   "cell_type": "code",
   "execution_count": 67,
   "metadata": {},
   "outputs": [
    {
     "data": {
      "text/plain": [
       "[0, 4, 4, 6, 16, 8, 36, 10, 64]"
      ]
     },
     "execution_count": 67,
     "metadata": {},
     "output_type": "execute_result"
    }
   ],
   "source": [
    "squares=[x**2  if x%2==0 else x+3 for x in range(9)]\n",
    "squares"
   ]
  },
  {
   "cell_type": "markdown",
   "metadata": {},
   "source": [
    "# Exercise 18: Extract First Names\n",
    "\n",
    "Use a list comprehension to create a new list first_names containing just the first names in names in lowercase."
   ]
  },
  {
   "cell_type": "code",
   "execution_count": 37,
   "metadata": {},
   "outputs": [
    {
     "name": "stdout",
     "output_type": "stream",
     "text": [
      "['rick', 'morty', 'summer', 'jerry', 'beth']\n"
     ]
    }
   ],
   "source": [
    "names = [\"Rick Sanchez\", \"Morty Smith\", \"Summer Smith\", \"Jerry Smith\", \"Beth Smith\"]\n",
    "\n",
    "first_names = [name.lower().split()[0] for name in names]\n",
    "\n",
    "print(first_names)"
   ]
  },
  {
   "cell_type": "code",
   "execution_count": 36,
   "metadata": {},
   "outputs": [
    {
     "data": {
      "text/plain": [
       "'rick'"
      ]
     },
     "execution_count": 36,
     "metadata": {},
     "output_type": "execute_result"
    }
   ],
   "source": [
    "str='rick sachez'\n",
    "\n",
    "str.split()[0]"
   ]
  },
  {
   "cell_type": "markdown",
   "metadata": {},
   "source": [
    "# Exercise 19: Multiples of Three\n",
    "\n",
    "Use a list comprehension to create a list multiples_3 containing the first 20 multiples of 3."
   ]
  },
  {
   "cell_type": "code",
   "execution_count": 40,
   "metadata": {},
   "outputs": [
    {
     "name": "stdout",
     "output_type": "stream",
     "text": [
      "[1, 8, 27, 64, 125, 216, 343, 512, 729, 1000, 1331, 1728, 2197, 2744, 3375, 4096, 4913, 5832, 6859, 8000]\n"
     ]
    }
   ],
   "source": [
    "multiples=[x**3 for x in range(1,21)]\n",
    "\n",
    "print(multiples)"
   ]
  },
  {
   "cell_type": "code",
   "execution_count": 43,
   "metadata": {},
   "outputs": [
    {
     "data": {
      "text/plain": [
       "[3, 6, 9, 12, 15, 18, 21, 24, 27, 30, 33, 36, 39, 42, 45, 48, 51, 54, 57, 60]"
      ]
     },
     "execution_count": 43,
     "metadata": {},
     "output_type": "execute_result"
    }
   ],
   "source": [
    "list(range(3,61,3))"
   ]
  },
  {
   "cell_type": "markdown",
   "metadata": {},
   "source": [
    "# Exercise 20: Filter Names by Score\n",
    "\n",
    "Use a list comprehension to create a list of names passed that only include those that scored at least 65."
   ]
  },
  {
   "cell_type": "code",
   "execution_count": 44,
   "metadata": {},
   "outputs": [
    {
     "name": "stdout",
     "output_type": "stream",
     "text": [
      "['Rick Sanchez', 'Summer Smith', 'Beth Smith']\n"
     ]
    }
   ],
   "source": [
    "scores = {\n",
    "             \"Rick Sanchez\": 70,\n",
    "             \"Morty Smith\": 35,\n",
    "             \"Summer Smith\": 82,\n",
    "             \"Jerry Smith\": 23,\n",
    "             \"Beth Smith\": 98\n",
    "          }\n",
    "\n",
    "passed=[name for name,score in scores.items() if score>65]\n",
    "\n",
    "print(passed)"
   ]
  },
  {
   "cell_type": "code",
   "execution_count": null,
   "metadata": {},
   "outputs": [],
   "source": []
  },
  {
   "cell_type": "code",
   "execution_count": null,
   "metadata": {},
   "outputs": [],
   "source": []
  }
 ],
 "metadata": {
  "kernelspec": {
   "display_name": "Python 3",
   "language": "python",
   "name": "python3"
  },
  "language_info": {
   "codemirror_mode": {
    "name": "ipython",
    "version": 3
   },
   "file_extension": ".py",
   "mimetype": "text/x-python",
   "name": "python",
   "nbconvert_exporter": "python",
   "pygments_lexer": "ipython3",
   "version": "3.7.4"
  }
 },
 "nbformat": 4,
 "nbformat_minor": 2
}
