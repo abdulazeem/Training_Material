{
 "cells": [
  {
   "cell_type": "markdown",
   "metadata": {},
   "source": [
    "# Introduction to Pandas\n",
    "\n",
    "Pandas is a package for data manipulation and analysis in Python. The name Pandas is derived from the econometrics term Panel Data. Pandas incorporates two additional data structures into Python, namely Pandas Series and Pandas DataFrame. These data structures allow us to work with labeled and relational data in an easy and intuitive manner. Pandas is remarkable data analysis library and it has many functions and features.\n",
    "\n",
    "# Why Use Pandas?\n",
    "\n",
    "1) Allows the use of labels for rows and columns\n",
    "\n",
    "2) Can calculate rolling statistics on time series data\n",
    "\n",
    "3) Easy handling of NaN values\n",
    "\n",
    "4) Is able to load data of different formats into DataFrames\n",
    "\n",
    "5) Can join and merge different datasets together\n",
    "\n",
    "6) It integrates with NumPy and Matplotlib\n",
    "\n",
    "For these and other reasons, Pandas DataFrames have become one of the most commonly used Pandas object for data analysis in Python\n",
    "\n",
    "https://pandas.pydata.org/pandas-docs/stable/getting_started/index.html#getting-started"
   ]
  },
  {
   "cell_type": "markdown",
   "metadata": {},
   "source": [
    "# Pandas Series\n",
    "\n",
    "A Pandas series is a one-dimensional array-like object that can hold many data types, such as numbers or strings. One of the main differences between Pandas Series and NumPy ndarrays is that you can assign an index label to each element in the Pandas Series. In other words, you can name the indices of your Pandas Series anything you want. Another big difference between Pandas Series and NumPy ndarrays is that Pandas Series can hold data of different data types.\n",
    "\n",
    "\n",
    "# Exercise 1: Create a Pandas Series that Stores a Grocery List\n",
    "\n",
    "1) Create a grocery list with given indexes using Pandas series. \n",
    "\n",
    "    a) Eggs - 10\n",
    "\n",
    "    b) Oranges - 5\n",
    "\n",
    "    c) Milk - Yes\n",
    "\n",
    "    d) Butter - No\n",
    "\n",
    "2) Find the size, shape, and dimension using .size, .shape, .ndim attributes.\n",
    "\n",
    "3) Extract the index and data using .index and .values attributes.\n",
    "\n",
    "4) Check the index item using 'in' command.\n",
    "\n",
    "5) Access and modify elements of the series using groceries['eggs']\n",
    "\n",
    "6) Access and modify elements of the series using .loc and .iloc method.\n",
    "\n",
    "7) Drop elements of the series using .drop method. Use inplace=True to reflect the changes in the original series.\n"
   ]
  },
  {
   "cell_type": "code",
   "execution_count": 4,
   "metadata": {},
   "outputs": [
    {
     "name": "stdout",
     "output_type": "stream",
     "text": [
      "eggs        10\n",
      "oranges      5\n",
      "milk       Yes\n",
      "butter      No\n",
      "dtype: object\n"
     ]
    }
   ],
   "source": [
    "import pandas as pd\n",
    "\n",
    "groceries = pd.Series(index=['eggs','oranges','milk','butter'],data=[10,5,'Yes','No'])\n",
    "\n",
    "print(groceries.head())\n"
   ]
  },
  {
   "cell_type": "code",
   "execution_count": 5,
   "metadata": {},
   "outputs": [
    {
     "name": "stdout",
     "output_type": "stream",
     "text": [
      "Groceries has shape: (4,)\n",
      "Groceries has dimension: 1\n",
      "Groceries has a total of 4 elements\n"
     ]
    }
   ],
   "source": [
    "print('Groceries has shape:', groceries.shape)\n",
    "print('Groceries has dimension:', groceries.ndim)\n",
    "print('Groceries has a total of', groceries.size, 'elements')"
   ]
  },
  {
   "cell_type": "code",
   "execution_count": 6,
   "metadata": {},
   "outputs": [
    {
     "name": "stdout",
     "output_type": "stream",
     "text": [
      "The data in Groceries is: [10 5 'Yes' 'No']\n",
      "The index of Groceries is: Index(['eggs', 'oranges', 'milk', 'butter'], dtype='object')\n"
     ]
    }
   ],
   "source": [
    "# We print the index and data of Groceries\n",
    "print('The data in Groceries is:', groceries.values)\n",
    "print('The index of Groceries is:', groceries.index)"
   ]
  },
  {
   "cell_type": "code",
   "execution_count": 10,
   "metadata": {},
   "outputs": [
    {
     "name": "stdout",
     "output_type": "stream",
     "text": [
      "Is bananas an index label in Groceries: False\n",
      "Is bread an index label in Groceries: True\n"
     ]
    }
   ],
   "source": [
    "# We check whether bananas is a food item (an index) in Groceries\n",
    "x = 'bananas' in groceries\n",
    "\n",
    "# We check whether bread is a food item (an index) in Groceries\n",
    "y = 'eggs' in groceries\n",
    "\n",
    "# We print the results\n",
    "print('Is bananas an index label in Groceries:', x)\n",
    "print('Is bread an index label in Groceries:', y)"
   ]
  },
  {
   "cell_type": "code",
   "execution_count": 22,
   "metadata": {},
   "outputs": [
    {
     "name": "stdout",
     "output_type": "stream",
     "text": [
      "How many eggs do we need to buy: 10\n",
      "\n"
     ]
    },
    {
     "name": "stderr",
     "output_type": "stream",
     "text": [
      "C:\\ProgramData\\Anaconda3\\lib\\site-packages\\pandas\\core\\series.py:1152: FutureWarning: \n",
      "Passing list-likes to .loc or [] with any missing label will raise\n",
      "KeyError in the future, you can use .reindex() as an alternative.\n",
      "\n",
      "See the documentation here:\n",
      "https://pandas.pydata.org/pandas-docs/stable/user_guide/indexing.html#deprecate-loc-reindex-listlike\n",
      "  return self.loc[key]\n"
     ]
    },
    {
     "name": "stdout",
     "output_type": "stream",
     "text": [
      "Do we need milk and bread:\n",
      " milk     Yes\n",
      "bread    NaN\n",
      "dtype: object\n",
      "\n",
      "How many eggs and apples do we need to buy:\n",
      " eggs       10\n",
      "apples    NaN\n",
      "dtype: object\n",
      "\n",
      "How many eggs and apples do we need to buy:\n",
      " eggs       10\n",
      "oranges     5\n",
      "dtype: object\n",
      "\n",
      "Do we need bread:\n",
      " butter    No\n",
      "dtype: object\n",
      "\n",
      "How many eggs do we need to buy: 10\n",
      "\n",
      "Do we need milk and bread:\n",
      " milk      Yes\n",
      "butter     No\n",
      "dtype: object\n"
     ]
    },
    {
     "name": "stderr",
     "output_type": "stream",
     "text": [
      "C:\\ProgramData\\Anaconda3\\lib\\site-packages\\ipykernel_launcher.py:10: FutureWarning: \n",
      "Passing list-likes to .loc or [] with any missing label will raise\n",
      "KeyError in the future, you can use .reindex() as an alternative.\n",
      "\n",
      "See the documentation here:\n",
      "https://pandas.pydata.org/pandas-docs/stable/user_guide/indexing.html#deprecate-loc-reindex-listlike\n",
      "  # Remove the CWD from sys.path while we load stuff.\n"
     ]
    }
   ],
   "source": [
    "# We use a single index label\n",
    "print('How many eggs do we need to buy:', groceries['eggs'])\n",
    "print()\n",
    "\n",
    "# we can access multiple index labels\n",
    "print('Do we need milk and bread:\\n', groceries[['milk', 'bread']]) \n",
    "print()\n",
    "\n",
    "# we use loc to access multiple index labels\n",
    "print('How many eggs and apples do we need to buy:\\n', groceries.loc[['eggs', 'apples']]) \n",
    "print()\n",
    "\n",
    "# We access elements in Groceries using numerical indices:\n",
    "\n",
    "# we use multiple numerical indices\n",
    "print('How many eggs and apples do we need to buy:\\n',  groceries[[0, 1]]) \n",
    "print()\n",
    "\n",
    "# We use a negative numerical index\n",
    "print('Do we need bread:\\n', groceries[[-1]]) \n",
    "print()\n",
    "\n",
    "# We use a single numerical index\n",
    "print('How many eggs do we need to buy:', groceries[0]) \n",
    "print()\n",
    "# we use iloc to access multiple numerical indices\n",
    "print('Do we need milk and bread:\\n', groceries.iloc[[2, 3]]) "
   ]
  },
  {
   "cell_type": "code",
   "execution_count": 23,
   "metadata": {},
   "outputs": [
    {
     "name": "stdout",
     "output_type": "stream",
     "text": [
      "Original Grocery List:\n",
      " eggs        10\n",
      "oranges      5\n",
      "milk       Yes\n",
      "butter      No\n",
      "dtype: object\n",
      "\n",
      "Modified Grocery List:\n",
      " eggs         2\n",
      "oranges      5\n",
      "milk       Yes\n",
      "butter      No\n",
      "dtype: object\n"
     ]
    }
   ],
   "source": [
    "# We display the original grocery list\n",
    "print('Original Grocery List:\\n', groceries)\n",
    "\n",
    "# We change the number of eggs to 2\n",
    "groceries['eggs'] = 2\n",
    "\n",
    "# We display the changed grocery list\n",
    "print()\n",
    "print('Modified Grocery List:\\n', groceries)"
   ]
  },
  {
   "cell_type": "code",
   "execution_count": 28,
   "metadata": {},
   "outputs": [
    {
     "name": "stdout",
     "output_type": "stream",
     "text": [
      "Original Grocery List:\n",
      " eggs         2\n",
      "oranges      5\n",
      "milk       Yes\n",
      "butter      No\n",
      "dtype: object\n",
      "\n",
      "We remove oranges (out of place):\n",
      " eggs        2\n",
      "milk      Yes\n",
      "butter     No\n",
      "dtype: object\n",
      "\n",
      "Grocery List after removing oranges out of place:\n",
      " eggs         2\n",
      "oranges      5\n",
      "milk       Yes\n",
      "butter      No\n",
      "dtype: object\n",
      "\n",
      "Grocery List after removing oranges in place:\n",
      " eggs        2\n",
      "milk      Yes\n",
      "butter     No\n",
      "dtype: object\n"
     ]
    }
   ],
   "source": [
    "# We display the original grocery list\n",
    "print('Original Grocery List:\\n', groceries)\n",
    "\n",
    "# We remove oranges from our grocery list. The drop function removes elements out of place\n",
    "print()\n",
    "print('We remove oranges (out of place):\\n', groceries.drop('oranges'))\n",
    "\n",
    "# When we remove elements out of place the original Series remains intact. To see this\n",
    "# we display our grocery list again\n",
    "print()\n",
    "print('Grocery List after removing oranges out of place:\\n', groceries)\n",
    "\n",
    "# We remove oranges from our grocery list in place by setting the inplace keyword to True\n",
    "groceries.drop('oranges', inplace = True)\n",
    "\n",
    "# When we remove elements in place the original Series its modified. To see this\n",
    "# we display our grocery list again\n",
    "print()\n",
    "print('Grocery List after removing oranges in place:\\n', groceries)"
   ]
  },
  {
   "cell_type": "markdown",
   "metadata": {},
   "source": [
    "# Exercise 2: Operations on Pandas Series\n",
    "\n",
    "1) Basic element wise artihmetic operations: Multiplication, Division, Addition, and Subtraction.\n",
    "    \n",
    "2) Element wise application of mathematical functions: np.exp, np.sqrt, np.power\n",
    "    \n",
    "3) Selective operations on indexes.\n",
    "\n",
    "4) Boolean operations"
   ]
  },
  {
   "cell_type": "code",
   "execution_count": 29,
   "metadata": {},
   "outputs": [
    {
     "data": {
      "text/plain": [
       "apples     10\n",
       "oranges     6\n",
       "bananas     3\n",
       "dtype: int64"
      ]
     },
     "execution_count": 29,
     "metadata": {},
     "output_type": "execute_result"
    }
   ],
   "source": [
    "fruits= pd.Series(data = [10, 6, 3,], index = ['apples', 'oranges', 'bananas'])\n",
    "\n",
    "# We display the fruits Pandas Series\n",
    "fruits"
   ]
  },
  {
   "cell_type": "code",
   "execution_count": 30,
   "metadata": {},
   "outputs": [
    {
     "name": "stdout",
     "output_type": "stream",
     "text": [
      "Original grocery list of fruits:\n",
      "  apples     10\n",
      "oranges     6\n",
      "bananas     3\n",
      "dtype: int64\n",
      "\n",
      "fruits + 2:\n",
      " apples     12\n",
      "oranges     8\n",
      "bananas     5\n",
      "dtype: int64\n",
      "\n",
      "fruits - 2:\n",
      " apples     8\n",
      "oranges    4\n",
      "bananas    1\n",
      "dtype: int64\n",
      "\n",
      "fruits * 2:\n",
      " apples     20\n",
      "oranges    12\n",
      "bananas     6\n",
      "dtype: int64\n",
      "\n",
      "fruits / 2:\n",
      " apples     5.0\n",
      "oranges    3.0\n",
      "bananas    1.5\n",
      "dtype: float64\n",
      "\n"
     ]
    }
   ],
   "source": [
    "# We print fruits for reference\n",
    "print('Original grocery list of fruits:\\n ', fruits)\n",
    "\n",
    "# We perform basic element-wise operations using arithmetic symbols\n",
    "print()\n",
    "print('fruits + 2:\\n', fruits + 2) # We add 2 to each item in fruits\n",
    "print()\n",
    "print('fruits - 2:\\n', fruits - 2) # We subtract 2 to each item in fruits\n",
    "print()\n",
    "print('fruits * 2:\\n', fruits * 2) # We multiply each item in fruits by 2 \n",
    "print()\n",
    "print('fruits / 2:\\n', fruits / 2) # We divide each item in fruits by 2\n",
    "print()"
   ]
  },
  {
   "cell_type": "code",
   "execution_count": 32,
   "metadata": {},
   "outputs": [
    {
     "name": "stdout",
     "output_type": "stream",
     "text": [
      "\n",
      "EXP(X) = \n",
      " apples     22026.465795\n",
      "oranges      403.428793\n",
      "bananas       20.085537\n",
      "dtype: float64\n",
      "\n",
      "SQRT(X) =\n",
      " apples     3.162278\n",
      "oranges    2.449490\n",
      "bananas    1.732051\n",
      "dtype: float64\n",
      "\n",
      "POW(X,2) =\n",
      " apples     100\n",
      "oranges     36\n",
      "bananas      9\n",
      "dtype: int64\n"
     ]
    }
   ],
   "source": [
    "import numpy as np\n",
    "\n",
    "# We apply different mathematical functions to all elements of fruits\n",
    "print()\n",
    "print('EXP(X) = \\n', np.exp(fruits))\n",
    "print() \n",
    "print('SQRT(X) =\\n', np.sqrt(fruits))\n",
    "print()\n",
    "print('POW(X,2) =\\n',np.power(fruits,2)) # We raise all elements of fruits to the power of 2"
   ]
  },
  {
   "cell_type": "code",
   "execution_count": 33,
   "metadata": {},
   "outputs": [
    {
     "name": "stdout",
     "output_type": "stream",
     "text": [
      "Amount of bananas + 2 =  5\n",
      "\n",
      "Amount of apples - 2 =  8\n",
      "\n",
      "We double the amount of apples and oranges:\n",
      " apples     20\n",
      "oranges    12\n",
      "dtype: int64\n",
      "\n",
      "We half the amount of apples and oranges:\n",
      " apples     5.0\n",
      "oranges    3.0\n",
      "dtype: float64\n"
     ]
    }
   ],
   "source": [
    "# Selective operations on indexes\n",
    "# We add 2 only to the bananas\n",
    "print('Amount of bananas + 2 = ', fruits['bananas'] + 2)\n",
    "print()\n",
    "\n",
    "# We subtract 2 from apples\n",
    "print('Amount of apples - 2 = ', fruits.iloc[0] - 2)\n",
    "print()\n",
    "\n",
    "# We multiply apples and oranges by 2\n",
    "print('We double the amount of apples and oranges:\\n', fruits[['apples', 'oranges']] * 2)\n",
    "print()\n",
    "\n",
    "# We divide apples and oranges by 2\n",
    "print('We half the amount of apples and oranges:\\n', fruits.loc[['apples', 'oranges']] / 2)"
   ]
  },
  {
   "cell_type": "code",
   "execution_count": 39,
   "metadata": {},
   "outputs": [
    {
     "name": "stdout",
     "output_type": "stream",
     "text": [
      "True\n"
     ]
    }
   ],
   "source": [
    "#Boolenan operations\n",
    "\n",
    "\n",
    "print(fruits['bananas']>2)"
   ]
  },
  {
   "cell_type": "markdown",
   "metadata": {},
   "source": [
    "# Exercise 3: \n",
    "\n",
    "distance_from_sun = [149.6, 1433.5, 227.9, 108.2, 778.6]\n",
    "\n",
    "planets = ['Earth','Saturn', 'Mars','Venus', 'Jupiter']\n",
    "\n",
    "1) For the given data, create a pandas series with distance as values and planets as index.\n",
    "\n",
    "2) Calculate the number of minutes it takes sunlight to reach each planet. You can do this by dividing the distance from the Sun for each planet by the speed of light. Since in the data above the distance from the Sun is in units of 10^6 km, you can use a value for the speed of light of c = 18, since light travels 18 x 10^6 km\n",
    "\n",
    "3)  Use Boolean indexing to select only those planets for which sunlight takes less than 40 minutes to reach them."
   ]
  },
  {
   "cell_type": "code",
   "execution_count": 49,
   "metadata": {},
   "outputs": [
    {
     "name": "stdout",
     "output_type": "stream",
     "text": [
      "The pandas series is  : \n",
      " \n",
      "  Earth       149.6\n",
      "Saturn     1433.5\n",
      "Mars        227.9\n",
      "Venus       108.2\n",
      "Jupiter     778.6\n",
      "dtype: float64\n",
      "\n",
      "The time taken in minutes for the sunlight to reach each planet: \n",
      " \n",
      " Earth       8.311111\n",
      "Saturn     79.638889\n",
      "Mars       12.661111\n",
      "Venus       6.011111\n",
      "Jupiter    43.255556\n",
      "dtype: float64\n",
      "\n",
      "The planets closest to sun are: \n",
      " \n",
      " Earth     8.311111\n",
      "Mars     12.661111\n",
      "Venus     6.011111\n",
      "dtype: float64\n"
     ]
    }
   ],
   "source": [
    "distance_from_sun = [149.6, 1433.5, 227.9, 108.2, 778.6]\n",
    "\n",
    "planets = ['Earth','Saturn', 'Mars','Venus', 'Jupiter']\n",
    "\n",
    "dist_sun=pd.Series(index=planets, data=distance_from_sun)\n",
    "\n",
    "print('The pandas series is  : \\n \\n ', dist_sun)\n",
    "print()\n",
    "\n",
    "# Calculate the number of minutes it takes sunligh to reach each planet\n",
    "time_reach= dist_sun/18\n",
    "\n",
    "print('The time taken in minutes for the sunlight to reach each planet: \\n \\n' , time_reach)\n",
    "print()\n",
    "\n",
    "# Close planets\n",
    "close_planets= time_reach[time_reach<40]\n",
    "print('The planets closest to sun are: \\n \\n', close_planets)"
   ]
  },
  {
   "cell_type": "markdown",
   "metadata": {},
   "source": [
    "# Pandas Data Frame\n",
    "\n",
    "andas DataFrames are two-dimensional data structures with labeled rows and columns, that can hold many data types. If you are familiar with Excel, you can think of Pandas DataFrames as being similar to a spreadsheet. We can create Pandas DataFrames manually or by loading data from a file. In these lessons we will start by learning how to create Pandas DataFrames manually from dictionaries and later we will see how we can load data into a DataFrame from a data file.\n",
    "\n",
    "# Exercise 4: Creating Data Frame\n",
    "\n",
    "1) Create a dictionary first, and then load the dictionary data into pandas data frame using pd.DataFrame() function.\n",
    "\n",
    "2) Create a dictionary without indexes, and load into a data frame.\n",
    "\n",
    "3) Create a dictionary with values as lists, and load into a data frame.\n",
    "\n",
    "4) Find the shape, dimensions, size of the data frame using .shape, .ndim and .size methods\n",
    "\n",
    "5) Extract the index, column_index, and values using .index, .columns and .values respectively\n",
    "\n",
    "6) Access the data frame using [] .loc, and .iloc methods."
   ]
  },
  {
   "cell_type": "code",
   "execution_count": 75,
   "metadata": {},
   "outputs": [
    {
     "name": "stdout",
     "output_type": "stream",
     "text": [
      "           Bob  Alice\n",
      "bike     245.0  500.0\n",
      "book       NaN   40.0\n",
      "glasses    NaN  110.0\n",
      "pants     55.0   45.0\n",
      "watch     25.0    NaN\n"
     ]
    }
   ],
   "source": [
    "# Create a Dictionary and load into DataFrame\n",
    "\n",
    "items = {'Bob': pd.Series(index=['bike', 'pants', 'watch'], data=[245,55,25]),\n",
    "        'Alice': pd.Series(index=['book','glasses','bike','pants'], data=[40,110,500,45]) }\n",
    "\n",
    "type(items)\n",
    "\n",
    "df= pd.DataFrame(items)\n",
    "\n",
    "print(df)"
   ]
  },
  {
   "cell_type": "code",
   "execution_count": 59,
   "metadata": {},
   "outputs": [
    {
     "name": "stdout",
     "output_type": "stream",
     "text": [
      "The frame has shape: (4, 2)\n",
      "The frame has dimension: 2\n",
      "The frame has a total of: 8 elements\n",
      "\n",
      "The data in the frame is:\n",
      " [[245  40]\n",
      " [ 25 110]\n",
      " [ 55 500]\n",
      " [ 45  45]]\n",
      "\n",
      "The row index in the frame is: RangeIndex(start=0, stop=4, step=1)\n",
      "\n",
      "The column index in the frame is: Index(['Bob', 'Alice'], dtype='object')\n"
     ]
    }
   ],
   "source": [
    "#Find the shape, dimensions, size of the data frame using .shape, .ndim and .size methods\n",
    "\n",
    "#Extract the index, column_index, and values using .index, .columns and .values respectively\n",
    "\n",
    "print('The frame has shape:', df.shape)\n",
    "print('The frame has dimension:', df.ndim)\n",
    "print('The frame has a total of:', df.size, 'elements')\n",
    "print()\n",
    "print('The data in the frame is:\\n', df.values)\n",
    "print()\n",
    "print('The row index in the frame is:', df.index)\n",
    "print()\n",
    "print('The column index in the frame is:', df.columns)"
   ]
  },
  {
   "cell_type": "code",
   "execution_count": 54,
   "metadata": {},
   "outputs": [
    {
     "name": "stdout",
     "output_type": "stream",
     "text": [
      "     Bob  Alice\n",
      "0  245.0     40\n",
      "1   25.0    110\n",
      "2   55.0    500\n",
      "3    NaN     45\n"
     ]
    }
   ],
   "source": [
    "# Create a dictionary of Pandas Series without indexes and load in to DataFrame\n",
    "data = {'Bob' : pd.Series([245, 25, 55]),\n",
    "        'Alice' : pd.Series([40, 110, 500, 45])}\n",
    "\n",
    "df = pd.DataFrame(data)\n",
    "\n",
    "\n",
    "print(df)"
   ]
  },
  {
   "cell_type": "code",
   "execution_count": 2,
   "metadata": {},
   "outputs": [
    {
     "name": "stdout",
     "output_type": "stream",
     "text": [
      "   Bob  Alice\n",
      "0  245     40\n",
      "1   25    110\n",
      "2   55    500\n",
      "3   45     45\n"
     ]
    }
   ],
   "source": [
    "import pandas as pd\n",
    "#Create a Data Frame from a Dictionary with lists as values\n",
    "data = {'Bob' : [245, 25, 55,45],\n",
    "        'Alice' : [40, 110, 500, 45]}\n",
    "\n",
    "df = pd.DataFrame(data)\n",
    "\n",
    "print(df)"
   ]
  },
  {
   "cell_type": "code",
   "execution_count": 24,
   "metadata": {},
   "outputs": [
    {
     "data": {
      "text/plain": [
       "0    245\n",
       "1     25\n",
       "2     55\n",
       "3     45\n",
       "Name: Bob, dtype: int64"
      ]
     },
     "execution_count": 24,
     "metadata": {},
     "output_type": "execute_result"
    }
   ],
   "source": [
    "# Access the data frame using [] .loc, and .iloc methods.\n",
    "\n",
    "df['Bob']\n",
    "\n"
   ]
  },
  {
   "cell_type": "code",
   "execution_count": 80,
   "metadata": {},
   "outputs": [
    {
     "data": {
      "text/plain": [
       "bike       245.0\n",
       "book         NaN\n",
       "glasses      NaN\n",
       "pants       55.0\n",
       "watch       25.0\n",
       "Name: Bob, dtype: float64"
      ]
     },
     "execution_count": 80,
     "metadata": {},
     "output_type": "execute_result"
    }
   ],
   "source": []
  }
 ],
 "metadata": {
  "kernelspec": {
   "display_name": "Python 3",
   "language": "python",
   "name": "python3"
  },
  "language_info": {
   "codemirror_mode": {
    "name": "ipython",
    "version": 3
   },
   "file_extension": ".py",
   "mimetype": "text/x-python",
   "name": "python",
   "nbconvert_exporter": "python",
   "pygments_lexer": "ipython3",
   "version": "3.7.4"
  }
 },
 "nbformat": 4,
 "nbformat_minor": 2
}
