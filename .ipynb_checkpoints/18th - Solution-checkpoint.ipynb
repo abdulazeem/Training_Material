{
 "cells": [
  {
   "attachments": {},
   "cell_type": "markdown",
   "metadata": {},
   "source": [
    "# Exercise # 1\n",
    "\n",
    "Two room of a floor needs tiling. The first room is 9 tiles by 7 tiles long, and the second room is 5 tiles by 7 tiles long. \n",
    "\n",
    "Q1) How many tiles are needed?\n",
    "Q2) If 17 packages of tiles containing 6 each are bought, then how many tiles will be left over?\n"
   ]
  },
  {
   "cell_type": "code",
   "execution_count": 71,
   "metadata": {},
   "outputs": [
    {
     "name": "stdout",
     "output_type": "stream",
     "text": [
      "98\n",
      "4\n"
     ]
    }
   ],
   "source": [
    "no_tiles = (9*7 +5*7)\n",
    "tiles_left=(17*6 - no_tiles)\n",
    "print(no_tiles)\n",
    "print(tiles_left)"
   ]
  },
  {
   "cell_type": "markdown",
   "metadata": {},
   "source": [
    "# Exercise # 2\n",
    "\n",
    "Assign and Modify variables"
   ]
  },
  {
   "cell_type": "code",
   "execution_count": 31,
   "metadata": {},
   "outputs": [
    {
     "name": "stdout",
     "output_type": "stream",
     "text": [
      "4200.0\n",
      "10500\n",
      "14700.0\n"
     ]
    }
   ],
   "source": [
    "vol_1=3500\n",
    "vol_2=9000\n",
    "\n",
    "#Increase vol_1 by 20%\n",
    "vol_1 *=1.2\n",
    "print(vol_1)\n",
    "\n",
    "#Add 1500 to vol_2 \n",
    "vol_2 +=1500\n",
    "print(vol_2)\n",
    "\n",
    "#Find the sum of modified vol_1 and vol_2 values\n",
    "total = vol_1 + vol_2\n",
    "print(total)"
   ]
  },
  {
   "cell_type": "markdown",
   "metadata": {},
   "source": [
    "# Exercise # 3\n",
    "\n",
    "Which of the given cities is denser?"
   ]
  },
  {
   "cell_type": "code",
   "execution_count": 37,
   "metadata": {},
   "outputs": [
    {
     "name": "stdout",
     "output_type": "stream",
     "text": [
      "City A is denser than City B. The population of City A: 108.2387706855792\n"
     ]
    }
   ],
   "source": [
    "city_a_pop, a_area=45785, 423\n",
    "city_b_pop, b_area=84752, 832\n",
    "\n",
    "a_density=city_a_pop/a_area\n",
    "b_density=city_b_pop/b_area\n",
    "\n",
    "if a_density>b_density:\n",
    "    print(\"City A is denser than City B. The population of City A:\", a_density)\n",
    "else:\n",
    "    print(\"City B is denser than City A. The population of City B:\", b_density)"
   ]
  },
  {
   "cell_type": "markdown",
   "metadata": {},
   "source": [
    "# Exercise # 4\n",
    "\n",
    "Fix the below string"
   ]
  },
  {
   "cell_type": "code",
   "execution_count": 39,
   "metadata": {},
   "outputs": [
    {
     "name": "stdout",
     "output_type": "stream",
     "text": [
      "Whether you think you can or can't you're right\n"
     ]
    }
   ],
   "source": [
    "string = 'Whether you think you can or can\\'t you\\'re right'\n",
    "print(string)"
   ]
  },
  {
   "cell_type": "markdown",
   "metadata": {},
   "source": [
    "# Exercise # 5\n",
    "\n",
    "Write a server log message based on the given information\n",
    "\n",
    "'username' accessed the website 'website' at 'timestamp'"
   ]
  },
  {
   "cell_type": "code",
   "execution_count": 42,
   "metadata": {},
   "outputs": [
    {
     "name": "stdout",
     "output_type": "stream",
     "text": [
      "Rohit accessed the website www.google.com at 05:15\n"
     ]
    }
   ],
   "source": [
    "username = 'Rohit'\n",
    "timestamp = '05:15'\n",
    "website = 'www.google.com'\n",
    "\n",
    "print(username + ' accessed the website '+ website + ' at ' + timestamp)"
   ]
  },
  {
   "cell_type": "markdown",
   "metadata": {},
   "source": [
    "# Exercise # 6\n",
    "\n",
    "1) Use string concatenation and function len() to find the lenght of full names of indivduals.\n",
    "\n",
    "2) If the number of characters limit is 20, then find whether the given name fits the condition."
   ]
  },
  {
   "cell_type": "code",
   "execution_count": 47,
   "metadata": {},
   "outputs": [
    {
     "name": "stdout",
     "output_type": "stream",
     "text": [
      "17\n",
      "True\n"
     ]
    }
   ],
   "source": [
    "first_name='John'\n",
    "middle_name= \"Bradley\"\n",
    "family_name='Pitt'\n",
    "\n",
    "full_name=first_name+\" \"+middle_name+\" \"+family_name\n",
    "name_length=len(full_name)\n",
    "\n",
    "print(name_length)\n",
    "\n",
    "char_limit=20\n",
    "print(name_length<=char_limit)"
   ]
  },
  {
   "cell_type": "markdown",
   "metadata": {},
   "source": [
    "# Exercise # 7\n",
    "Find the total amount of the sales for the given weekdays."
   ]
  },
  {
   "cell_type": "code",
   "execution_count": 53,
   "metadata": {},
   "outputs": [
    {
     "name": "stdout",
     "output_type": "stream",
     "text": [
      "The total sales for this week is: 353\n"
     ]
    }
   ],
   "source": [
    "mon_sales='25'\n",
    "tue_sales='55'\n",
    "wed_sales='95'\n",
    "thu_sales='88'\n",
    "fri_sales='90'\n",
    "total_sales= int(mon_sales)+int(tue_sales)+int(wed_sales)+int(thu_sales)+int(fri_sales)\n",
    "\n",
    "print('The total sales for this week is:', total_sales)"
   ]
  },
  {
   "cell_type": "markdown",
   "metadata": {},
   "source": [
    "# Exercise 8\n",
    "\n",
    "Use .format() string method to print \"Does your 'animal' 'action'?\"\n",
    "\n",
    "In the below case the output should be \" Does your dog bite?\""
   ]
  },
  {
   "cell_type": "code",
   "execution_count": 54,
   "metadata": {},
   "outputs": [
    {
     "name": "stdout",
     "output_type": "stream",
     "text": [
      "Does your dog bite?\n"
     ]
    }
   ],
   "source": [
    "animal = \"dog\"\n",
    "action = \"bite\"\n",
    "print(\"Does your {} {}?\".format(animal, action))"
   ]
  },
  {
   "cell_type": "markdown",
   "metadata": {},
   "source": [
    "# Exercise 9\n",
    "\n",
    "Uselist indexing to determine number of days in a month"
   ]
  },
  {
   "cell_type": "code",
   "execution_count": 55,
   "metadata": {},
   "outputs": [
    {
     "name": "stdout",
     "output_type": "stream",
     "text": [
      "30\n"
     ]
    }
   ],
   "source": [
    "month = 8\n",
    "days_in_month=[31, 28, 31, 30, 31, 30, 31, 31, 30, 31, 30, 31]\n",
    "\n",
    "num_days= days_in_month[month]\n",
    "\n",
    "print(num_days)"
   ]
  },
  {
   "cell_type": "markdown",
   "metadata": {},
   "source": [
    "# Exercise 10\n",
    "\n",
    "Use list slicing to obtain the three recent eclipse dates."
   ]
  },
  {
   "cell_type": "code",
   "execution_count": 56,
   "metadata": {},
   "outputs": [
    {
     "name": "stdout",
     "output_type": "stream",
     "text": [
      "['Aug 5, 2004', 'Jan 20, 2005', 'Feb 17, 2006']\n"
     ]
    }
   ],
   "source": [
    "eclipse_dates=['Jun 21, 2000', 'Mar 21,2002', 'June 3, 2003', 'Aug 5, 2004', 'Jan 20, 2005', 'Feb 17, 2006']\n",
    "\n",
    "print(eclipse_dates[-3:])"
   ]
  },
  {
   "cell_type": "markdown",
   "metadata": {},
   "source": [
    "# Exercise 11\n",
    "\n",
    "Add an extra entry 'is_noble_gas' to the above 'elements' dictionary.\n",
    "\n",
    "Hydrogen - True\n",
    "\n",
    "Helium - False"
   ]
  },
  {
   "cell_type": "code",
   "execution_count": 69,
   "metadata": {},
   "outputs": [],
   "source": [
    "elements = {\"Hydrogen\": {\"number\": 1,\n",
    "                         \"weight\": 1.00794,\n",
    "                         \"symbol\": \"H\"},\n",
    "              \"Helium\": {\"number\": 2,\n",
    "                         \"weight\": 4.002602,\n",
    "                         \"symbol\": \"He\"}}"
   ]
  },
  {
   "cell_type": "code",
   "execution_count": 70,
   "metadata": {},
   "outputs": [
    {
     "data": {
      "text/plain": [
       "{'Hydrogen': {'number': 1,\n",
       "  'weight': 1.00794,\n",
       "  'symbol': 'H',\n",
       "  'is_noble_gas': False},\n",
       " 'Helium': {'number': 2,\n",
       "  'weight': 4.002602,\n",
       "  'symbol': 'He',\n",
       "  'is_noble_gas': True}}"
      ]
     },
     "execution_count": 70,
     "metadata": {},
     "output_type": "execute_result"
    }
   ],
   "source": [
    "elements['Hydrogen']['is_noble_gas']=False\n",
    "elements['Helium']['is_noble_gas']=True\n",
    "\n",
    "elements"
   ]
  },
  {
   "cell_type": "code",
   "execution_count": null,
   "metadata": {},
   "outputs": [],
   "source": [
    "\n",
    "\n"
   ]
  }
 ],
 "metadata": {
  "kernelspec": {
   "display_name": "Python 3",
   "language": "python",
   "name": "python3"
  },
  "language_info": {
   "codemirror_mode": {
    "name": "ipython",
    "version": 3
   },
   "file_extension": ".py",
   "mimetype": "text/x-python",
   "name": "python",
   "nbconvert_exporter": "python",
   "pygments_lexer": "ipython3",
   "version": "3.7.4"
  }
 },
 "nbformat": 4,
 "nbformat_minor": 2
}
