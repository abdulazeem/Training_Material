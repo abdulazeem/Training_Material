{
 "cells": [
  {
   "cell_type": "markdown",
   "metadata": {},
   "source": [
    "# Introduction to Pandas\n",
    "\n",
    "Pandas is a package for data manipulation and analysis in Python. The name Pandas is derived from the econometrics term Panel Data. Pandas incorporates two additional data structures into Python, namely Pandas Series and Pandas DataFrame. These data structures allow us to work with labeled and relational data in an easy and intuitive manner. Pandas is remarkable data analysis library and it has many functions and features.\n",
    "\n",
    "# Why Use Pandas?\n",
    "\n",
    "1) Allows the use of labels for rows and columns\n",
    "\n",
    "2) Can calculate rolling statistics on time series data\n",
    "\n",
    "3) Easy handling of NaN values\n",
    "\n",
    "4) Is able to load data of different formats into DataFrames\n",
    "\n",
    "5) Can join and merge different datasets together\n",
    "\n",
    "6) It integrates with NumPy and Matplotlib\n",
    "\n",
    "For these and other reasons, Pandas DataFrames have become one of the most commonly used Pandas object for data analysis in Python\n",
    "\n",
    "https://pandas.pydata.org/pandas-docs/stable/getting_started/index.html#getting-started"
   ]
  },
  {
   "cell_type": "markdown",
   "metadata": {},
   "source": [
    "# Pandas Series\n",
    "\n",
    "A Pandas series is a one-dimensional array-like object that can hold many data types, such as numbers or strings. One of the main differences between Pandas Series and NumPy ndarrays is that you can assign an index label to each element in the Pandas Series. In other words, you can name the indices of your Pandas Series anything you want. Another big difference between Pandas Series and NumPy ndarrays is that Pandas Series can hold data of different data types.\n",
    "\n",
    "\n",
    "# Exercise 1: Create a Pandas Series that Stores a Grocery List\n",
    "\n",
    "1) Create a grocery list with given indexes using Pandas series. \n",
    "\n",
    "    a) Eggs - 10\n",
    "\n",
    "    b) Oranges - 5\n",
    "\n",
    "    c) Milk - Yes\n",
    "\n",
    "    d) Butter - No\n",
    "\n",
    "2) Find the size, shape, and dimension using .size, .shape, .ndim attributes.\n",
    "\n",
    "3) Extract the index and data using .index and .values attributes.\n",
    "\n",
    "4) Check the index item using 'in' command.\n",
    "\n",
    "5) Access and modify elements of the series using groceries['eggs']\n",
    "\n",
    "6) Access and modify elements of the series using .loc and .iloc method.\n",
    "\n",
    "7) Drop elements of the series using .drop method. Use inplace=True to reflect the changes in the original series.\n"
   ]
  },
  {
   "cell_type": "code",
   "execution_count": 11,
   "metadata": {},
   "outputs": [
    {
     "data": {
      "text/plain": [
       "True"
      ]
     },
     "execution_count": 11,
     "metadata": {},
     "output_type": "execute_result"
    }
   ],
   "source": []
  },
  {
   "cell_type": "code",
   "execution_count": null,
   "metadata": {},
   "outputs": [],
   "source": []
  },
  {
   "cell_type": "markdown",
   "metadata": {},
   "source": [
    "# # Exercise 2: Operations on Pandas Series\n",
    "\n",
    "1) Basic element wise artihmetic operations: Multiplication, Division, Addition, and Subtraction.\n",
    "    \n",
    "2) Element wise application of mathematical functions: np.exp, np.sqrt, np.power\n",
    "    \n",
    "3) Selective operations on indexes.\n",
    "\n",
    "4) Boolean operations"
   ]
  },
  {
   "cell_type": "code",
   "execution_count": null,
   "metadata": {},
   "outputs": [],
   "source": []
  },
  {
   "cell_type": "markdown",
   "metadata": {},
   "source": [
    "# Exercise 3: \n",
    "\n",
    "distance_from_sun = [149.6, 1433.5, 227.9, 108.2, 778.6]\n",
    "\n",
    "planets = ['Earth','Saturn', 'Mars','Venus', 'Jupiter']\n",
    "\n",
    "1) For the given data, create a pandas series with distance as values and planets as index.\n",
    "\n",
    "2) Calculate the number of minutes it takes sunlight to reach each planet. You can do this by dividing the distance from the Sun for each planet by the speed of light. Since in the data above the distance from the Sun is in units of 10^6 km, you can use a value for the speed of light of c = 18, since light travels 18 x 10^6 km\n",
    "\n",
    "3)  Use Boolean indexing to select only those planets for which sunlight takes less than 40 minutes to reach them."
   ]
  },
  {
   "cell_type": "code",
   "execution_count": null,
   "metadata": {},
   "outputs": [],
   "source": []
  },
  {
   "cell_type": "markdown",
   "metadata": {},
   "source": [
    "# Pandas Data Frame\n",
    "\n",
    "andas DataFrames are two-dimensional data structures with labeled rows and columns, that can hold many data types. If you are familiar with Excel, you can think of Pandas DataFrames as being similar to a spreadsheet. We can create Pandas DataFrames manually or by loading data from a file. In these lessons we will start by learning how to create Pandas DataFrames manually from dictionaries and later we will see how we can load data into a DataFrame from a data file.\n",
    "\n",
    "# Exercise 4: Creating Data Frame\n",
    "\n",
    "1) Create a dictionary first, and then load the dictionary data into pandas data frame using pd.DataFrame() function.\n",
    "\n",
    "2) Create a dictionary without indexes, and load into a data frame.\n",
    "\n",
    "3) Create a dictionary with values as lists, and load into a data frame.\n",
    "\n",
    "4) Find the shape, dimensions, size of the data frame using .shape, .ndim and .size methods\n",
    "\n",
    "5) Extract the index, column_index, and values using .index, .columns and .values respectively\n",
    "\n",
    "6) Access the data frame using [] .loc, and .iloc methods."
   ]
  },
  {
   "cell_type": "code",
   "execution_count": null,
   "metadata": {},
   "outputs": [],
   "source": []
  },
  {
   "cell_type": "code",
   "execution_count": null,
   "metadata": {},
   "outputs": [],
   "source": []
  }
 ],
 "metadata": {
  "kernelspec": {
   "display_name": "Python 3",
   "language": "python",
   "name": "python3"
  },
  "language_info": {
   "codemirror_mode": {
    "name": "ipython",
    "version": 3
   },
   "file_extension": ".py",
   "mimetype": "text/x-python",
   "name": "python",
   "nbconvert_exporter": "python",
   "pygments_lexer": "ipython3",
   "version": "3.7.4"
  }
 },
 "nbformat": 4,
 "nbformat_minor": 2
}
