{
 "cells": [
  {
   "cell_type": "markdown",
   "metadata": {},
   "source": [
    "# Gapminder DataSet\n",
    "\n",
    "The given data set is obtained from the gapminder website, which includes the statistics round the globe. The dataset is for the 19 century life expectancy acroos different countries.\n",
    "\n",
    "The goal of the exercise is to have a clean data set, with\n",
    "\n",
    "### - Drop the unneccessary columns with all NaNs adding no value to our project.\n",
    "### - Drop the duplicate information\n",
    "### - Prepare the data in tidy format, with no missing values.\n",
    "### - Appropriate data types should be used for each column\n",
    "### - Assert the assumptions and save the clean file\n",
    "\n",
    "\n",
    "#### Step 1:\n",
    "\n",
    "1) Import the dataset using pd.read_csv(filename)\n",
    "\n",
    "2) Drop the 'Unnamed: 0' column using df.drop(columns=column_name, inplace=True)"
   ]
  },
  {
   "cell_type": "code",
   "execution_count": null,
   "metadata": {},
   "outputs": [],
   "source": []
  },
  {
   "cell_type": "markdown",
   "metadata": {},
   "source": [
    "# Step 2: Exploratory analysis\n",
    "\n",
    "Whenever you obtain a new dataset, your first task should always be to do some exploratory analysis to get a better understanding of the data and diagnose it for any potential issues.\n",
    "\n",
    "The Gapminder data for the 19th century has been loaded into a DataFrame called data. \n",
    "\n",
    "1) Check the header and footer information about the data using .head(), .tail()\n",
    "\n",
    "2) Check the column names, index, and shape of the data using .columns, .index, .shape\n",
    "\n",
    "3) Find the descriptive statistics of the data using .describe() method. \n",
    "\n",
    "4) Also, find the information about columntypes, memory usage etc. using .info() method.\n",
    "\n",
    "5)  Create two dimensional scatter plot comparing life expectancy in 1800 and 1900"
   ]
  },
  {
   "cell_type": "code",
   "execution_count": null,
   "metadata": {},
   "outputs": [],
   "source": []
  },
  {
   "cell_type": "markdown",
   "metadata": {},
   "source": [
    "# Step 3: Drop the duplicate information\n",
    "\n",
    "1) Make Life expectancy as the first column of the dataframe\n",
    "\n",
    "2) Drop duplicate rows using df.drop_duplicates() method.\n",
    "\n",
    "3) The country name is supposed to occur only once, so remove the multiple entries.\n",
    "    \n",
    "    a) Check the .value_counts() for the categorical variable 'Life expectancy'\n",
    "    \n",
    "    b) Drop the extra rows containing the same country information. Use .drop_duplicate(subset='column', keep='first')\n",
    "\n",
    "4) Drop the columns containing all NaN values. Use .dropna(how='all', axis=1)"
   ]
  },
  {
   "cell_type": "code",
   "execution_count": null,
   "metadata": {},
   "outputs": [],
   "source": []
  },
  {
   "cell_type": "markdown",
   "metadata": {},
   "source": [
    "# Step 4: Prepare the data in tidy format\n",
    "\n",
    "1) Convert the data in tidy format. Reshape the data using pd.melt\n",
    "\n",
    "2) Check data types of columns using df.dtypes\n",
    "\n",
    "3) Convert the columns into appropriate datatypes using .astype or pd.to_numeric methods."
   ]
  },
  {
   "cell_type": "code",
   "execution_count": null,
   "metadata": {},
   "outputs": [],
   "source": []
  },
  {
   "cell_type": "markdown",
   "metadata": {},
   "source": [
    "# Step 5: Asserting the assumptions and saving the file\n",
    "\n",
    "1) Assert that there are no nulls in each column. Use assert statement\n",
    "\n",
    "2) Drop any NaN values if there is an assertion error\n",
    "\n",
    "3) Check the shape, .info() of the final data set\n",
    "\n",
    "4) Save the file with name 'clean_gapminder.csv'. Use to_csv() method."
   ]
  },
  {
   "cell_type": "code",
   "execution_count": null,
   "metadata": {},
   "outputs": [],
   "source": []
  }
 ],
 "metadata": {
  "kernelspec": {
   "display_name": "Python 3",
   "language": "python",
   "name": "python3"
  },
  "language_info": {
   "codemirror_mode": {
    "name": "ipython",
    "version": 3
   },
   "file_extension": ".py",
   "mimetype": "text/x-python",
   "name": "python",
   "nbconvert_exporter": "python",
   "pygments_lexer": "ipython3",
   "version": "3.7.4"
  }
 },
 "nbformat": 4,
 "nbformat_minor": 2
}
