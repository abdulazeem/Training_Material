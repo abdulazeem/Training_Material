{
 "cells": [
  {
   "cell_type": "markdown",
   "metadata": {},
   "source": [
    "# Introduction to Pandas\n",
    "\n",
    "Pandas is a package for data manipulation and analysis in Python. The name Pandas is derived from the econometrics term Panel Data. Pandas incorporates two additional data structures into Python, namely Pandas Series and Pandas DataFrame. These data structures allow us to work with labeled and relational data in an easy and intuitive manner. Pandas is remarkable data analysis library and it has many functions and features.\n",
    "\n",
    "# Why Use Pandas?\n",
    "\n",
    "1) Allows the use of labels for rows and columns\n",
    "\n",
    "2) Can calculate rolling statistics on time series data\n",
    "\n",
    "3) Easy handling of NaN values\n",
    "\n",
    "4) Is able to load data of different formats into DataFrames\n",
    "\n",
    "5) Can join and merge different datasets together\n",
    "\n",
    "6) It integrates with NumPy and Matplotlib\n",
    "\n",
    "For these and other reasons, Pandas DataFrames have become one of the most commonly used Pandas object for data analysis in Python\n",
    "\n",
    "https://pandas.pydata.org/pandas-docs/stable/getting_started/index.html#getting-started"
   ]
  },
  {
   "cell_type": "markdown",
   "metadata": {},
   "source": [
    "# Pandas Series\n",
    "\n",
    "A Pandas series is a one-dimensional array-like object that can hold many data types, such as numbers or strings. One of the main differences between Pandas Series and NumPy ndarrays is that you can assign an index label to each element in the Pandas Series. In other words, you can name the indices of your Pandas Series anything you want. Another big difference between Pandas Series and NumPy ndarrays is that Pandas Series can hold data of different data types.\n",
    "\n",
    "\n",
    "# Exercise 1: Create a Pandas Series that Stores a Grocery List\n",
    "\n",
    "1) Create a grocery list with given indexes using Pandas series. \n",
    "\n",
    "    a) Eggs - 10\n",
    "\n",
    "    b) Oranges - 5\n",
    "\n",
    "    c) Milk - Yes\n",
    "\n",
    "    d) Butter - No\n",
    "\n",
    "2) Find the size, shape, and dimension using .size, .shape, .ndim attributes.\n",
    "\n",
    "3) Extract the index and data using .index and .values attributes.\n",
    "\n",
    "4) Check the index item using 'in' command.\n",
    "\n",
    "5) Access and modify elements of the series using groceries['eggs']\n",
    "\n",
    "6) Access and modify elements of the series using .loc and .iloc method.\n",
    "\n",
    "7) Drop elements of the series using .drop method. Use inplace=True to reflect the changes in the original series.\n"
   ]
  },
  {
   "cell_type": "code",
   "execution_count": 4,
   "metadata": {},
   "outputs": [
    {
     "name": "stdout",
     "output_type": "stream",
     "text": [
      "eggs        10\n",
      "oranges      5\n",
      "milk       Yes\n",
      "butter      No\n",
      "dtype: object\n"
     ]
    }
   ],
   "source": [
    "import pandas as pd\n",
    "\n",
    "groceries = pd.Series(index=['eggs','oranges','milk','butter',''],data=[10,5,'Yes','No'])\n",
    "\n",
    "print(groceries.head())\n"
   ]
  },
  {
   "cell_type": "code",
   "execution_count": 5,
   "metadata": {},
   "outputs": [
    {
     "name": "stdout",
     "output_type": "stream",
     "text": [
      "Groceries has shape: (4,)\n",
      "Groceries has dimension: 1\n",
      "Groceries has a total of 4 elements\n"
     ]
    }
   ],
   "source": [
    "print('Groceries has shape:', groceries.shape)\n",
    "print('Groceries has dimension:', groceries.ndim)\n",
    "print('Groceries has a total of', groceries.size, 'elements')"
   ]
  },
  {
   "cell_type": "code",
   "execution_count": 6,
   "metadata": {},
   "outputs": [
    {
     "name": "stdout",
     "output_type": "stream",
     "text": [
      "The data in Groceries is: [10 5 'Yes' 'No']\n",
      "The index of Groceries is: Index(['eggs', 'oranges', 'milk', 'butter'], dtype='object')\n"
     ]
    }
   ],
   "source": [
    "# We print the index and data of Groceries\n",
    "print('The data in Groceries is:', groceries.values)\n",
    "print('The index of Groceries is:', groceries.index)"
   ]
  },
  {
   "cell_type": "code",
   "execution_count": 10,
   "metadata": {},
   "outputs": [
    {
     "name": "stdout",
     "output_type": "stream",
     "text": [
      "Is bananas an index label in Groceries: False\n",
      "Is bread an index label in Groceries: True\n"
     ]
    }
   ],
   "source": [
    "# We check whether bananas is a food item (an index) in Groceries\n",
    "x = 'bananas' in groceries\n",
    "\n",
    "# We check whether bread is a food item (an index) in Groceries\n",
    "y = 'eggs' in groceries\n",
    "\n",
    "# We print the results\n",
    "print('Is bananas an index label in Groceries:', x)\n",
    "print('Is bread an index label in Groceries:', y)"
   ]
  },
  {
   "cell_type": "code",
   "execution_count": null,
   "metadata": {},
   "outputs": [],
   "source": []
  }
 ],
 "metadata": {
  "kernelspec": {
   "display_name": "Python 3",
   "language": "python",
   "name": "python3"
  },
  "language_info": {
   "codemirror_mode": {
    "name": "ipython",
    "version": 3
   },
   "file_extension": ".py",
   "mimetype": "text/x-python",
   "name": "python",
   "nbconvert_exporter": "python",
   "pygments_lexer": "ipython3",
   "version": "3.7.4"
  }
 },
 "nbformat": 4,
 "nbformat_minor": 2
}
