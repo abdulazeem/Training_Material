{
 "cells": [
  {
   "cell_type": "markdown",
   "metadata": {},
   "source": [
    "# Exercise 1: Import a flat file from the Web\n",
    "\n",
    "Download the given flat file (.csv) from the web using urllib package, and display the content using Pandas library.\n",
    "\n",
    "https://s3.amazonaws.com/assets.datacamp.com/production/course_1606/datasets/winequality-red.csv"
   ]
  },
  {
   "cell_type": "code",
   "execution_count": null,
   "metadata": {},
   "outputs": [],
   "source": []
  },
  {
   "cell_type": "code",
   "execution_count": null,
   "metadata": {},
   "outputs": [],
   "source": []
  },
  {
   "cell_type": "markdown",
   "metadata": {},
   "source": [
    "# Exercise 2: Import Excel Data\n",
    "\n",
    "Dowload the excel data from the given link.\n",
    "\n",
    "http://s3.amazonaws.com/assets.datacamp.com/course/importing_data_into_r/latitude.xls"
   ]
  },
  {
   "cell_type": "code",
   "execution_count": null,
   "metadata": {},
   "outputs": [],
   "source": []
  },
  {
   "cell_type": "markdown",
   "metadata": {},
   "source": [
    "# Exercise 3: Import a Webpage using Urllib\n",
    "\n",
    "Import a webpage using urlopen and Request from urllib.request package.\n",
    "\n",
    "https://en.wikipedia.org/wiki/List_of_deepest_caves "
   ]
  },
  {
   "cell_type": "code",
   "execution_count": null,
   "metadata": {},
   "outputs": [],
   "source": []
  },
  {
   "cell_type": "markdown",
   "metadata": {},
   "source": [
    "# Exercise 4: Import a Webpage using Requests Package\n",
    "\n",
    "Import a webpage using Requests package.\n",
    "\n",
    "https://en.wikipedia.org/wiki/List_of_deepest_caves "
   ]
  },
  {
   "cell_type": "code",
   "execution_count": null,
   "metadata": {},
   "outputs": [],
   "source": []
  },
  {
   "cell_type": "markdown",
   "metadata": {},
   "source": [
    "# Exercise 5: Parsing HTML with BeautifulSoup\n",
    "\n",
    "\n",
    "1) Import https://en.wikipedia.org/wiki/List_of_deepest_caves and parse using BeautifulSoup\n",
    "\n",
    "2) Prettify the raw data using .prettify() method\n",
    "\n",
    "3) Find the structure of webpage.\n",
    "\n",
    "4) Extract title of the document from the data using .title() method\n",
    "\n",
    "5) Extract text from the data using get_text() method\n",
    "\n",
    "6) Using .find and .findall on the html tags\n",
    "\n",
    "7) Use .select to extract the tags"
   ]
  },
  {
   "cell_type": "code",
   "execution_count": null,
   "metadata": {},
   "outputs": [],
   "source": []
  },
  {
   "cell_type": "markdown",
   "metadata": {},
   "source": [
    "# Exercise 6: Parsing HTML with BeautifulSoup - Getting all hyperlinks using tags\n",
    "\n",
    "Scrape the website to extract all Hyperlinks\n",
    "\n",
    "https://en.wikipedia.org/wiki/Isaac_Newton "
   ]
  },
  {
   "cell_type": "code",
   "execution_count": null,
   "metadata": {},
   "outputs": [],
   "source": []
  },
  {
   "cell_type": "markdown",
   "metadata": {},
   "source": [
    "# Exercise 7: Import Table from Webpage\n",
    "\n",
    "Import the titles of all the Asian countries from the given webpage\n",
    "\n",
    "'https://en.wikipedia.org/wiki/List_of_Asian_countries_by_area'"
   ]
  },
  {
   "cell_type": "code",
   "execution_count": null,
   "metadata": {},
   "outputs": [],
   "source": []
  },
  {
   "cell_type": "markdown",
   "metadata": {},
   "source": [
    "# Exercise 8: Extract the Complete Table\n",
    "\n",
    "\n",
    "'https://en.wikipedia.org/wiki/List_of_countries_and_dependencies_by_area'"
   ]
  },
  {
   "cell_type": "code",
   "execution_count": null,
   "metadata": {},
   "outputs": [],
   "source": [
    "    "
   ]
  },
  {
   "cell_type": "code",
   "execution_count": null,
   "metadata": {},
   "outputs": [],
   "source": []
  }
 ],
 "metadata": {
  "kernelspec": {
   "display_name": "Python 3",
   "language": "python",
   "name": "python3"
  },
  "language_info": {
   "codemirror_mode": {
    "name": "ipython",
    "version": 3
   },
   "file_extension": ".py",
   "mimetype": "text/x-python",
   "name": "python",
   "nbconvert_exporter": "python",
   "pygments_lexer": "ipython3",
   "version": "3.7.4"
  }
 },
 "nbformat": 4,
 "nbformat_minor": 2
}
