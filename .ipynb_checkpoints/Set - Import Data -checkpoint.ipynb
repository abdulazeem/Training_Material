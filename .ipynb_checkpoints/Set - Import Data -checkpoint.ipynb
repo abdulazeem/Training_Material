{
 "cells": [
  {
   "cell_type": "code",
   "execution_count": 3,
   "metadata": {},
   "outputs": [],
   "source": [
    "import os\n",
    "os.chdir('E:\\Azeem\\Data-Analysis-with-R-master\\Data Analyis with Python')"
   ]
  },
  {
   "cell_type": "markdown",
   "metadata": {},
   "source": [
    "# Exercise 1:\n",
    "    \n",
    "Using a Text file: (test_data.txt)\n",
    "    \n",
    "1) Read a text file using 'r' along with open commmand.\n",
    "\n",
    "2) Write into a text file using 'w' along open command.\n",
    "\n",
    "3) Append text file using 'a' along with open command.\n",
    "\n",
    "4) Reading files with Contextmanager 'with' command.\n",
    "\n",
    "5) Checking the availability of a file using os.path.exists()\n",
    "\n",
    "6) Remove the file from the directory using os.remove()."
   ]
  },
  {
   "cell_type": "code",
   "execution_count": 30,
   "metadata": {},
   "outputs": [
    {
     "name": "stdout",
     "output_type": "stream",
     "text": [
      "Well, when Tom and me got to the edge of the hilltop we looked away down into the village and could see three or four lights twinkling, where there was sick folks, maybe; and the stars over us was sparkling ever so fine; and down by the village was the river, a whole mile broad, and awful still and grand.  \n",
      "We went down the hill and found Jo Harper and Ben Rogers, and two or three more of the boys, hid in the old tanyard.  \n",
      "So we unhitched a skiff and pulled down the river two mile and a half, to the big scar on the hillside, and went ashore. \n",
      "We went to a clump of bushes, and Tom made everybody swear to keep the secret, and then showed them a hole in the hill, right in the thickest part of the bushes.  \n",
      "Then we lit the candles, and crawled in on our hands and knees.  \n",
      "We went about two hundred yards, and then the cave opened up. \n",
      "Tom poked about amongst the passages, and pretty soon ducked under a wall where you wouldnâ€™t a noticed that there was a hole.  \n",
      "We went along a narrow place and got into a kind of room, all damp and sweaty and cold, and there we stopped.\n"
     ]
    }
   ],
   "source": [
    "#Reading a text file\n",
    "\n",
    "data=open ('test_data.txt','r')\n",
    "text=data.read()\n",
    "data.close()\n",
    "print(text)"
   ]
  },
  {
   "cell_type": "code",
   "execution_count": 31,
   "metadata": {},
   "outputs": [],
   "source": [
    "#Writing and appending to a text file\n",
    "\n",
    "data=open ('some_file.txt','w')\n",
    "text=data.write('what is this? \\n ')\n",
    "data.close()\n",
    "\n",
    "data=open ('some_file.txt','a')\n",
    "text=data.write('this is new \\n ')\n",
    "data.close()"
   ]
  },
  {
   "cell_type": "code",
   "execution_count": 33,
   "metadata": {},
   "outputs": [
    {
     "name": "stdout",
     "output_type": "stream",
     "text": [
      "what is this? \n",
      " this is new \n",
      " \n"
     ]
    }
   ],
   "source": [
    "new=open('some_file.txt','r')\n",
    "tex=new.read()\n",
    "new.close()\n",
    "print(tex)\n"
   ]
  },
  {
   "cell_type": "markdown",
   "metadata": {},
   "source": [
    "# Exercise 3: Write the following in a text file Using Context Manager\n",
    "\n",
    "Jim always kept that five-center piece round his neck with a string, and said it was a charm the devil give to him with his own hands, and told him he could cure anybody with it and fetch witches whenever he wanted to just by saying something to it; but he never told what it was he said to it.  Niggers would come from all around there and give Jim anything they had, just for a sight of that five-center piece; but they wouldn’t touch it, because the devil had had his hands on it.  Jim was most ruined for a servant, because he got stuck up on account of having seen the devil and been rode by witches. "
   ]
  },
  {
   "cell_type": "code",
   "execution_count": 48,
   "metadata": {},
   "outputs": [
    {
     "name": "stdout",
     "output_type": "stream",
     "text": [
      "Jim always kept that five-center piece round his neck with a string, and said it was a charm the devil give to him with his own hands, and told him he could cure anybody with it and fetch witches whenever he wanted to just by saying something to it; but he never told what it was he said to it.  Niggers would come from all around there and give Jim anything they had, just for a sight of that five-center piece; but they wouldn’t touch it, because the devil had had his hands on it.  Jim was most ruined for a servant, because he got stuck up on account of having seen the devil and been rode by witches.\n"
     ]
    }
   ],
   "source": [
    "#Use Context Manager : With\n",
    "\n",
    "with open('new_data.txt','w') as file:\n",
    "    file.write('Jim always kept that five-center piece round his neck with a string, and said it was a charm the devil give to him with his own hands, and told him he could cure anybody with it and fetch witches whenever he wanted to just by saying something to it; but he never told what it was he said to it.  Niggers would come from all around there and give Jim anything they had, just for a sight of that five-center piece; but they wouldn’t touch it, because the devil had had his hands on it.  Jim was most ruined for a servant, because he got stuck up on account of having seen the devil and been rode by witches.')\n",
    "\n",
    "new=open('new_data.txt','r')\n",
    "tex=new.read()\n",
    "new.close()\n",
    "print(tex)\n"
   ]
  },
  {
   "cell_type": "markdown",
   "metadata": {},
   "source": [
    "# Exercise 4: Write a list of lines in a text file\n",
    "\n",
    "List = ['this is first ', 'this is second', 'this is third', 'this is fourth']"
   ]
  },
  {
   "cell_type": "code",
   "execution_count": 49,
   "metadata": {},
   "outputs": [],
   "source": [
    "lst = ['this is first \\n ', 'this is second \\n ', 'this is third \\n ', 'this is fourth \\n ']\n",
    "\n",
    "data=open ('new_file.txt','w')\n",
    "text=data.writelines(lst)\n",
    "data.close()"
   ]
  },
  {
   "cell_type": "code",
   "execution_count": 50,
   "metadata": {},
   "outputs": [
    {
     "name": "stdout",
     "output_type": "stream",
     "text": [
      "this is first \n",
      " this is second \n",
      " this is third \n",
      " this is fourth \n",
      " \n"
     ]
    }
   ],
   "source": [
    "data=open ('new_file.txt','r')\n",
    "text=data.read()\n",
    "data.close()\n",
    "print(text)"
   ]
  },
  {
   "cell_type": "markdown",
   "metadata": {},
   "source": [
    "# Exercise 5: Bag of Words \n",
    "\n",
    "Create a word list for the given document, and count the occurence of each word. \n",
    "\n"
   ]
  },
  {
   "cell_type": "code",
   "execution_count": 61,
   "metadata": {},
   "outputs": [
    {
     "name": "stdout",
     "output_type": "stream",
     "text": [
      "Counter({'and': 22, 'the': 19, 'a': 10, 'of': 5, 'went': 5, 'to': 4, 'we': 4, 'down': 4, 'was': 4, 'We': 4, 'in': 4, 'Tom': 3, 'there': 3, 'two': 3, 'got': 2, 'into': 2, 'village': 2, 'three': 2, 'or': 2, 'where': 2, 'mile': 2, 'on': 2, 'then': 2, 'about': 2, 'Well,': 1, 'when': 1, 'me': 1, 'edge': 1, 'hilltop': 1, 'looked': 1, 'away': 1, 'could': 1, 'see': 1, 'four': 1, 'lights': 1, 'twinkling,': 1, 'sick': 1, 'folks,': 1, 'maybe;': 1, 'stars': 1, 'over': 1, 'us': 1, 'sparkling': 1, 'ever': 1, 'so': 1, 'fine;': 1, 'by': 1, 'river,': 1, 'whole': 1, 'broad,': 1, 'awful': 1, 'still': 1, 'grand.': 1, 'hill': 1, 'found': 1, 'Jo': 1, 'Harper': 1, 'Ben': 1, 'Rogers,': 1, 'more': 1, 'boys,': 1, 'hid': 1, 'old': 1, 'tanyard.': 1, 'So': 1, 'unhitched': 1, 'skiff': 1, 'pulled': 1, 'river': 1, 'half,': 1, 'big': 1, 'scar': 1, 'hillside,': 1, 'ashore.': 1, 'clump': 1, 'bushes,': 1, 'made': 1, 'everybody': 1, 'swear': 1, 'keep': 1, 'secret,': 1, 'showed': 1, 'them': 1, 'hole': 1, 'hill,': 1, 'right': 1, 'thickest': 1, 'part': 1, 'bushes.': 1, 'Then': 1, 'lit': 1, 'candles,': 1, 'crawled': 1, 'our': 1, 'hands': 1, 'knees.': 1, 'hundred': 1, 'yards,': 1, 'cave': 1, 'opened': 1, 'up.': 1, 'poked': 1, 'amongst': 1, 'passages,': 1, 'pretty': 1, 'soon': 1, 'ducked': 1, 'under': 1, 'wall': 1, 'you': 1, 'wouldnâ€™t': 1, 'noticed': 1, 'that': 1, 'hole.': 1, 'along': 1, 'narrow': 1, 'place': 1, 'kind': 1, 'room,': 1, 'all': 1, 'damp': 1, 'sweaty': 1, 'cold,': 1, 'stopped.': 1})\n"
     ]
    }
   ],
   "source": [
    "data=open ('test_data.txt','r')\n",
    "text=data.readlines()\n",
    "data.close()\n",
    "#print(text)\n",
    "\n",
    "x=[]\n",
    "for line in text:\n",
    "    z=line.split()\n",
    "    x.extend(z)\n",
    "\n",
    "x\n",
    "\n",
    "import collections\n",
    "raw=collections.Counter(x)\n",
    "print(raw)"
   ]
  },
  {
   "cell_type": "markdown",
   "metadata": {},
   "source": [
    "# Exercise 6: Generate Keys Words\n",
    "\n",
    "For the given document,find the most frequently used words used in the document and use as key word to represent the document."
   ]
  },
  {
   "cell_type": "code",
   "execution_count": 71,
   "metadata": {},
   "outputs": [
    {
     "name": "stdout",
     "output_type": "stream",
     "text": [
      "[('and', 5), ('he', 5), ('a', 4), ('to', 4)]\n"
     ]
    }
   ],
   "source": [
    "#Use Context Manager : With\n",
    "\n",
    "with open('new_data.txt','r') as file:\n",
    "    data=file.readlines()\n",
    "\n",
    "x=[]\n",
    "for line in data:\n",
    "    line.replace('\\n',' ')\n",
    "    z=line.split()\n",
    "    x.extend(z)\n",
    "\n",
    "import collections\n",
    "raw=collections.Counter(x)\n",
    "keywords=raw.most_common(4)\n",
    "print(keywords)"
   ]
  },
  {
   "cell_type": "markdown",
   "metadata": {},
   "source": [
    "# Exercise 7: Read a Text File Using Numpy\n",
    "\n",
    "np.loadtxt(filename, delimiter= , dtype= )\n",
    "\n",
    "filename=test_data.txt"
   ]
  },
  {
   "cell_type": "code",
   "execution_count": 74,
   "metadata": {},
   "outputs": [
    {
     "name": "stdout",
     "output_type": "stream",
     "text": [
      "Well, when Tom and me got to the edge of the hilltop we looked away down into the village and could see three or four lights twinkling, where there was sick folks, maybe; and the stars over us was sparkling ever so fine; and down by the village was the river, a whole mile broad, and awful still and grand.   We went down the hill and found Jo Harper and Ben Rogers, and two or three more of the boys, hid in the old tanyard.   So we unhitched a skiff and pulled down the river two mile and a half, to the big scar on the hillside, and went ashore.  We went to a clump of bushes, and Tom made everybody swear to keep the secret, and then showed them a hole in the hill, right in the thickest part of the bushes.   Then we lit the candles, and crawled in on our hands and knees.   We went about two hundred yards, and then the cave opened up.  Tom poked about amongst the passages, and pretty soon ducked under a wall where you wouldnâ€™t a noticed that there was a hole.   We went along a narrow place and got into a kind of room, all damp and sweaty and cold, and there we stopped.\n"
     ]
    }
   ],
   "source": [
    "import numpy as np\n",
    "file='test_data.txt'\n",
    "data=np.loadtxt(file,delimiter='\\t',dtype=str)\n",
    "\n",
    "#Converting list to string\n",
    "new=' '.join(data)\n",
    "print(new)"
   ]
  },
  {
   "cell_type": "markdown",
   "metadata": {},
   "source": [
    "# Exercise 8: Read a flat file (comma separated, tab separated) numerical data using Numpy\n",
    "\n",
    "np.loadtxt(filename, delimiter= , dtype= )\n",
    "\n",
    "filename=numbers.txt"
   ]
  },
  {
   "cell_type": "code",
   "execution_count": 78,
   "metadata": {},
   "outputs": [
    {
     "name": "stdout",
     "output_type": "stream",
     "text": [
      "[[10.  5.  6.  7.  7.  7.]\n",
      " [ 4.  5.  6.  7.  8.  4.]]\n"
     ]
    }
   ],
   "source": [
    "import numpy as np\n",
    "\n",
    "data=np.loadtxt('numbers.txt',delimiter=',')\n",
    "print(data)"
   ]
  },
  {
   "cell_type": "markdown",
   "metadata": {},
   "source": [
    "# Exercise 9: Read a CSV file with mixed data type in Numpy\n",
    "\n",
    "np.recfromcsv(file)\n",
    "filename=daily_engagement.csv"
   ]
  },
  {
   "cell_type": "code",
   "execution_count": 80,
   "metadata": {},
   "outputs": [
    {
     "data": {
      "text/plain": [
       "rec.array([(   0, b'2015-01-09', 1., 11.6793745 , 0., 0.),\n",
       "           (   0, b'2015-01-10', 2., 37.28488733, 0., 0.),\n",
       "           (   0, b'2015-01-11', 2., 53.63374633, 0., 0.), ...,\n",
       "           (1305, b'2015-06-16', 1.,  2.72013633, 0., 0.),\n",
       "           (1305, b'2015-06-17', 0.,  0.        , 0., 0.),\n",
       "           (1305, b'2015-06-18', 0.,  0.        , 0., 0.)],\n",
       "          dtype=[('account_key', '<i4'), ('utc_date', 'S10'), ('num_courses_visited', '<f8'), ('total_minutes_visited', '<f8'), ('lessons_completed', '<f8'), ('projects_completed', '<f8')])"
      ]
     },
     "execution_count": 80,
     "metadata": {},
     "output_type": "execute_result"
    }
   ],
   "source": [
    "\n",
    "file='daily_engagement.csv'\n",
    "a=np.recfromcsv(file)\n",
    "a\n"
   ]
  },
  {
   "cell_type": "markdown",
   "metadata": {},
   "source": [
    "# Exercise 10: Read a CSV/TSV file using Pandas library [Numbers]\n",
    "\n",
    "pd.read_csv(filename, delimiter, header = None)"
   ]
  },
  {
   "cell_type": "code",
   "execution_count": 82,
   "metadata": {},
   "outputs": [
    {
     "data": {
      "text/html": [
       "<div>\n",
       "<style scoped>\n",
       "    .dataframe tbody tr th:only-of-type {\n",
       "        vertical-align: middle;\n",
       "    }\n",
       "\n",
       "    .dataframe tbody tr th {\n",
       "        vertical-align: top;\n",
       "    }\n",
       "\n",
       "    .dataframe thead th {\n",
       "        text-align: right;\n",
       "    }\n",
       "</style>\n",
       "<table border=\"1\" class=\"dataframe\">\n",
       "  <thead>\n",
       "    <tr style=\"text-align: right;\">\n",
       "      <th></th>\n",
       "      <th>0</th>\n",
       "      <th>1</th>\n",
       "      <th>2</th>\n",
       "      <th>3</th>\n",
       "      <th>4</th>\n",
       "      <th>5</th>\n",
       "    </tr>\n",
       "  </thead>\n",
       "  <tbody>\n",
       "    <tr>\n",
       "      <td>0</td>\n",
       "      <td>10</td>\n",
       "      <td>5</td>\n",
       "      <td>6</td>\n",
       "      <td>7</td>\n",
       "      <td>7</td>\n",
       "      <td>7</td>\n",
       "    </tr>\n",
       "    <tr>\n",
       "      <td>1</td>\n",
       "      <td>4</td>\n",
       "      <td>5</td>\n",
       "      <td>6</td>\n",
       "      <td>7</td>\n",
       "      <td>8</td>\n",
       "      <td>4</td>\n",
       "    </tr>\n",
       "  </tbody>\n",
       "</table>\n",
       "</div>"
      ],
      "text/plain": [
       "    0  1  2  3  4  5\n",
       "0  10  5  6  7  7  7\n",
       "1   4  5  6  7  8  4"
      ]
     },
     "execution_count": 82,
     "metadata": {},
     "output_type": "execute_result"
    }
   ],
   "source": [
    "import pandas as pd\n",
    "a=pd.read_csv('numbers.txt',delimiter=',',header=None, )\n",
    "a"
   ]
  },
  {
   "cell_type": "markdown",
   "metadata": {},
   "source": [
    "# Exercise 10: Read a CSV/TSV file using Pandas library [Mixed Data Types]\n",
    "\n",
    "pd.read_csv(filename, delimiter, header = None)\n",
    "file = daily_engagement"
   ]
  },
  {
   "cell_type": "code",
   "execution_count": null,
   "metadata": {},
   "outputs": [],
   "source": []
  },
  {
   "cell_type": "markdown",
   "metadata": {},
   "source": [
    "# Exercise 11: Read a Excel file using Pandas library [Mixed Data Types]\n",
    "\n",
    "pd.read_excel(filename, delimiter, header = None)\n",
    "\n",
    "or\n",
    "\n",
    "pd.ExcelFile()\n",
    "\n",
    "file = Orders_and_Returns.xlsx"
   ]
  },
  {
   "cell_type": "code",
   "execution_count": 90,
   "metadata": {},
   "outputs": [
    {
     "data": {
      "text/html": [
       "<div>\n",
       "<style scoped>\n",
       "    .dataframe tbody tr th:only-of-type {\n",
       "        vertical-align: middle;\n",
       "    }\n",
       "\n",
       "    .dataframe tbody tr th {\n",
       "        vertical-align: top;\n",
       "    }\n",
       "\n",
       "    .dataframe thead th {\n",
       "        text-align: right;\n",
       "    }\n",
       "</style>\n",
       "<table border=\"1\" class=\"dataframe\">\n",
       "  <thead>\n",
       "    <tr style=\"text-align: right;\">\n",
       "      <th></th>\n",
       "      <th>Row ID</th>\n",
       "      <th>Order Priority</th>\n",
       "      <th>Discount</th>\n",
       "      <th>Unit Price</th>\n",
       "      <th>Shipping Cost</th>\n",
       "      <th>Customer ID</th>\n",
       "      <th>Customer Name</th>\n",
       "      <th>Ship Mode</th>\n",
       "      <th>Customer Segment</th>\n",
       "      <th>Product Category</th>\n",
       "      <th>...</th>\n",
       "      <th>Region</th>\n",
       "      <th>State or Province</th>\n",
       "      <th>City</th>\n",
       "      <th>Postal Code</th>\n",
       "      <th>Order Date</th>\n",
       "      <th>Ship Date</th>\n",
       "      <th>Profit</th>\n",
       "      <th>Quantity ordered new</th>\n",
       "      <th>Sales</th>\n",
       "      <th>Order ID</th>\n",
       "    </tr>\n",
       "  </thead>\n",
       "  <tbody>\n",
       "    <tr>\n",
       "      <td>0</td>\n",
       "      <td>20847</td>\n",
       "      <td>High</td>\n",
       "      <td>0.01</td>\n",
       "      <td>2.84</td>\n",
       "      <td>0.93</td>\n",
       "      <td>3</td>\n",
       "      <td>Bonnie Potter</td>\n",
       "      <td>Express Air</td>\n",
       "      <td>Corporate</td>\n",
       "      <td>Office Supplies</td>\n",
       "      <td>...</td>\n",
       "      <td>West</td>\n",
       "      <td>Washington</td>\n",
       "      <td>Anacortes</td>\n",
       "      <td>98221</td>\n",
       "      <td>2015-01-07</td>\n",
       "      <td>2015-01-08</td>\n",
       "      <td>4.5600</td>\n",
       "      <td>4</td>\n",
       "      <td>13.01</td>\n",
       "      <td>88522</td>\n",
       "    </tr>\n",
       "    <tr>\n",
       "      <td>1</td>\n",
       "      <td>20228</td>\n",
       "      <td>Not Specified</td>\n",
       "      <td>0.02</td>\n",
       "      <td>500.98</td>\n",
       "      <td>26.00</td>\n",
       "      <td>5</td>\n",
       "      <td>Ronnie Proctor</td>\n",
       "      <td>Delivery Truck</td>\n",
       "      <td>Home Office</td>\n",
       "      <td>Furniture</td>\n",
       "      <td>...</td>\n",
       "      <td>West</td>\n",
       "      <td>California</td>\n",
       "      <td>San Gabriel</td>\n",
       "      <td>91776</td>\n",
       "      <td>2015-06-13</td>\n",
       "      <td>2015-06-15</td>\n",
       "      <td>4390.3665</td>\n",
       "      <td>12</td>\n",
       "      <td>6362.85</td>\n",
       "      <td>90193</td>\n",
       "    </tr>\n",
       "    <tr>\n",
       "      <td>2</td>\n",
       "      <td>21776</td>\n",
       "      <td>Critical</td>\n",
       "      <td>0.06</td>\n",
       "      <td>9.48</td>\n",
       "      <td>7.29</td>\n",
       "      <td>11</td>\n",
       "      <td>Marcus Dunlap</td>\n",
       "      <td>Regular Air</td>\n",
       "      <td>Home Office</td>\n",
       "      <td>Furniture</td>\n",
       "      <td>...</td>\n",
       "      <td>East</td>\n",
       "      <td>New Jersey</td>\n",
       "      <td>Roselle</td>\n",
       "      <td>7203</td>\n",
       "      <td>2015-02-15</td>\n",
       "      <td>2015-02-17</td>\n",
       "      <td>-53.8096</td>\n",
       "      <td>22</td>\n",
       "      <td>211.15</td>\n",
       "      <td>90192</td>\n",
       "    </tr>\n",
       "    <tr>\n",
       "      <td>3</td>\n",
       "      <td>24844</td>\n",
       "      <td>Medium</td>\n",
       "      <td>0.09</td>\n",
       "      <td>78.69</td>\n",
       "      <td>19.99</td>\n",
       "      <td>14</td>\n",
       "      <td>Gwendolyn F Tyson</td>\n",
       "      <td>Regular Air</td>\n",
       "      <td>Small Business</td>\n",
       "      <td>Furniture</td>\n",
       "      <td>...</td>\n",
       "      <td>Central</td>\n",
       "      <td>Minnesota</td>\n",
       "      <td>Prior Lake</td>\n",
       "      <td>55372</td>\n",
       "      <td>2015-05-12</td>\n",
       "      <td>2015-05-14</td>\n",
       "      <td>803.4705</td>\n",
       "      <td>16</td>\n",
       "      <td>1164.45</td>\n",
       "      <td>86838</td>\n",
       "    </tr>\n",
       "    <tr>\n",
       "      <td>4</td>\n",
       "      <td>24846</td>\n",
       "      <td>Medium</td>\n",
       "      <td>0.08</td>\n",
       "      <td>3.28</td>\n",
       "      <td>2.31</td>\n",
       "      <td>14</td>\n",
       "      <td>Gwendolyn F Tyson</td>\n",
       "      <td>Regular Air</td>\n",
       "      <td>Small Business</td>\n",
       "      <td>Office Supplies</td>\n",
       "      <td>...</td>\n",
       "      <td>Central</td>\n",
       "      <td>Minnesota</td>\n",
       "      <td>Prior Lake</td>\n",
       "      <td>55372</td>\n",
       "      <td>2015-05-12</td>\n",
       "      <td>2015-05-13</td>\n",
       "      <td>-24.0300</td>\n",
       "      <td>7</td>\n",
       "      <td>22.23</td>\n",
       "      <td>86838</td>\n",
       "    </tr>\n",
       "  </tbody>\n",
       "</table>\n",
       "<p>5 rows × 25 columns</p>\n",
       "</div>"
      ],
      "text/plain": [
       "   Row ID Order Priority  Discount  Unit Price  Shipping Cost  Customer ID  \\\n",
       "0   20847           High      0.01        2.84           0.93            3   \n",
       "1   20228  Not Specified      0.02      500.98          26.00            5   \n",
       "2   21776       Critical      0.06        9.48           7.29           11   \n",
       "3   24844         Medium      0.09       78.69          19.99           14   \n",
       "4   24846         Medium      0.08        3.28           2.31           14   \n",
       "\n",
       "       Customer Name       Ship Mode Customer Segment Product Category  ...  \\\n",
       "0      Bonnie Potter     Express Air        Corporate  Office Supplies  ...   \n",
       "1     Ronnie Proctor  Delivery Truck      Home Office        Furniture  ...   \n",
       "2      Marcus Dunlap     Regular Air      Home Office        Furniture  ...   \n",
       "3  Gwendolyn F Tyson     Regular Air   Small Business        Furniture  ...   \n",
       "4  Gwendolyn F Tyson     Regular Air   Small Business  Office Supplies  ...   \n",
       "\n",
       "    Region State or Province         City  Postal Code Order Date  Ship Date  \\\n",
       "0     West        Washington    Anacortes        98221 2015-01-07 2015-01-08   \n",
       "1     West        California  San Gabriel        91776 2015-06-13 2015-06-15   \n",
       "2     East        New Jersey      Roselle         7203 2015-02-15 2015-02-17   \n",
       "3  Central         Minnesota   Prior Lake        55372 2015-05-12 2015-05-14   \n",
       "4  Central         Minnesota   Prior Lake        55372 2015-05-12 2015-05-13   \n",
       "\n",
       "      Profit Quantity ordered new    Sales Order ID  \n",
       "0     4.5600                    4    13.01    88522  \n",
       "1  4390.3665                   12  6362.85    90193  \n",
       "2   -53.8096                   22   211.15    90192  \n",
       "3   803.4705                   16  1164.45    86838  \n",
       "4   -24.0300                    7    22.23    86838  \n",
       "\n",
       "[5 rows x 25 columns]"
      ]
     },
     "execution_count": 90,
     "metadata": {},
     "output_type": "execute_result"
    }
   ],
   "source": [
    "#Importing Excel file using Pd.ExcelFile\n",
    "\n",
    "import pandas as pd\n",
    "data=pd.ExcelFile('Orders_and_Returns.xlsx')\n",
    "data.sheet_names\n",
    "\n",
    "df1=data.parse(0)\n",
    "df1.head()"
   ]
  },
  {
   "cell_type": "code",
   "execution_count": 93,
   "metadata": {},
   "outputs": [
    {
     "data": {
      "text/html": [
       "<div>\n",
       "<style scoped>\n",
       "    .dataframe tbody tr th:only-of-type {\n",
       "        vertical-align: middle;\n",
       "    }\n",
       "\n",
       "    .dataframe tbody tr th {\n",
       "        vertical-align: top;\n",
       "    }\n",
       "\n",
       "    .dataframe thead th {\n",
       "        text-align: right;\n",
       "    }\n",
       "</style>\n",
       "<table border=\"1\" class=\"dataframe\">\n",
       "  <thead>\n",
       "    <tr style=\"text-align: right;\">\n",
       "      <th></th>\n",
       "      <th>Order ID</th>\n",
       "      <th>Status</th>\n",
       "    </tr>\n",
       "  </thead>\n",
       "  <tbody>\n",
       "    <tr>\n",
       "      <td>0</td>\n",
       "      <td>65</td>\n",
       "      <td>Returned</td>\n",
       "    </tr>\n",
       "    <tr>\n",
       "      <td>1</td>\n",
       "      <td>612</td>\n",
       "      <td>Returned</td>\n",
       "    </tr>\n",
       "    <tr>\n",
       "      <td>2</td>\n",
       "      <td>614</td>\n",
       "      <td>Returned</td>\n",
       "    </tr>\n",
       "    <tr>\n",
       "      <td>3</td>\n",
       "      <td>678</td>\n",
       "      <td>Returned</td>\n",
       "    </tr>\n",
       "    <tr>\n",
       "      <td>4</td>\n",
       "      <td>710</td>\n",
       "      <td>Returned</td>\n",
       "    </tr>\n",
       "  </tbody>\n",
       "</table>\n",
       "</div>"
      ],
      "text/plain": [
       "   Order ID    Status\n",
       "0        65  Returned\n",
       "1       612  Returned\n",
       "2       614  Returned\n",
       "3       678  Returned\n",
       "4       710  Returned"
      ]
     },
     "execution_count": 93,
     "metadata": {},
     "output_type": "execute_result"
    }
   ],
   "source": [
    "# Read Excel file using pd.read_excel\n",
    "\n",
    "\n",
    "data=pd.read_excel('Orders_and_Returns.xlsx',sheet_name='Returns',use_cols=['Order ID'])\n",
    "\n",
    "data.head()"
   ]
  },
  {
   "cell_type": "markdown",
   "metadata": {},
   "source": [
    "# Exercise 12: Read and Write data to a pickled file\n",
    "\n",
    "pickle.dump(file,output)\n",
    "pickle.load(file)"
   ]
  },
  {
   "cell_type": "code",
   "execution_count": 94,
   "metadata": {},
   "outputs": [],
   "source": [
    "import pickle\n",
    "names_dict= {'File':8,'Manager':10, 'Windows':'7'}\n",
    "filename = 'names.pk1'\n",
    "\n",
    "output=open(filename, 'wb')\n",
    "pickle.dump(names_dict, output)\n",
    "output.close()"
   ]
  },
  {
   "cell_type": "code",
   "execution_count": 95,
   "metadata": {},
   "outputs": [
    {
     "name": "stdout",
     "output_type": "stream",
     "text": [
      "{'File': 8, 'Manager': 10, 'Windows': '7'}\n"
     ]
    }
   ],
   "source": [
    "infile=open(filename,'rb')\n",
    "new=pickle.load(infile)\n",
    "infile.close()\n",
    "\n",
    "print(new)"
   ]
  }
 ],
 "metadata": {
  "kernelspec": {
   "display_name": "Python 3",
   "language": "python",
   "name": "python3"
  },
  "language_info": {
   "codemirror_mode": {
    "name": "ipython",
    "version": 3
   },
   "file_extension": ".py",
   "mimetype": "text/x-python",
   "name": "python",
   "nbconvert_exporter": "python",
   "pygments_lexer": "ipython3",
   "version": "3.7.4"
  }
 },
 "nbformat": 4,
 "nbformat_minor": 2
}
