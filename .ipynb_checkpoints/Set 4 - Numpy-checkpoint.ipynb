{
 "cells": [
  {
   "cell_type": "markdown",
   "metadata": {},
   "source": [
    "# Exercise 1: Creating Numpy Arrays\n",
    "\n",
    "At the core of NumPy is the ndarray, where nd stands for n-dimensional. An ndarray is a multidimensional array of elements all of the same type. \n",
    "\n",
    "Check size, shape, type and dtype for all the below:\n",
    "\n",
    "1) Create 1D array containing integers\n",
    "\n",
    "2) Create 1D array containing strings\n",
    "\n",
    "3) Create 2D array containing integers\n",
    "\n",
    "4) Create 1D array containing float and integers - Understand Upcasting\n",
    "\n",
    "5) Create an array and fix the dtype to int64\n",
    "\n",
    "6) Save and load numpy array using np.save() and np.load()\n",
    "\n",
    "https://docs.scipy.org/doc/numpy/user/basics.creation.html"
   ]
  },
  {
   "cell_type": "code",
   "execution_count": null,
   "metadata": {},
   "outputs": [],
   "source": []
  },
  {
   "cell_type": "markdown",
   "metadata": {},
   "source": [
    "# Exercise 2: Using Built-in functions to Create ndarrays\n",
    "\n",
    "shape in the form (rows, columns)\n",
    "\n",
    "1) Zero array or matrix - Use np.zeros(shape) \n",
    "\n",
    "2) array or matrix of ones - Use np.ones(shape)\n",
    "\n",
    "3) array or matrix of specific number - Use np.full(shape, number) \n",
    "\n",
    "4) identity matrix - Use np.eye(matrix-size)\n",
    "\n",
    "5) diagonal matrix - Use np.diag([list])\n"
   ]
  },
  {
   "cell_type": "code",
   "execution_count": null,
   "metadata": {},
   "outputs": [],
   "source": []
  },
  {
   "cell_type": "markdown",
   "metadata": {},
   "source": [
    "# Exercise 3:\n",
    "\n",
    "Create a 4x5 matrix with first column as ones, second as only 2's, third as 3's .. and so on. \n",
    "\n",
    "Sample Output: \n",
    "([[1., 2., 3., 4., 5.],\n",
    "  [1., 2., 3., 4., 5.],\n",
    "  [1., 2., 3., 4., 5.],\n",
    "  [1., 2., 3., 4., 5.]])"
   ]
  },
  {
   "cell_type": "code",
   "execution_count": null,
   "metadata": {},
   "outputs": [],
   "source": []
  },
  {
   "cell_type": "markdown",
   "metadata": {},
   "source": [
    "# Exercise 4: Using Built-in function - arange, linspace : To create one dimensional array\n",
    "\n",
    "**np.arange**\n",
    "\n",
    "np.arange() allows you to create ndarrays that have evenly spaced values within a given interval.This function is very versatile and can be used with either one, two, or three arguments. \n",
    "\n",
    "a) np.arange(N)\n",
    "\n",
    "b) np.arange(start,stop)\n",
    "\n",
    "c) np.arange(start,stop,step)\n",
    "\n",
    "**np.linspace()**\n",
    "\n",
    "np.linspace(start, stop, N) function returns N evenly spaced numbers over the closed interval [start, stop]. This means that both the start and thestop values are included. We should also note the np.linspace() function needs to be called with at least two arguments in the form np.linspace(start,stop). In this case, the default number of elements in the specified interval will be N= 50. The reason np.linspace() works better than the np.arange() function, is that np.linspace() uses the number of elements we want in a particular interval, instead of the step between values.\n",
    "\n",
    "np.linspace(start, stop, spacing, endpoint=True/False)"
   ]
  },
  {
   "cell_type": "code",
   "execution_count": null,
   "metadata": {},
   "outputs": [],
   "source": []
  },
  {
   "cell_type": "markdown",
   "metadata": {},
   "source": [
    "# Exercise 4: Using Built-in function - reshape : To create Two dimensional array\n",
    "\n",
    "\n",
    "**np.arange**\n",
    "\n",
    "np.arange(10).reshape(2,5)\n",
    "\n",
    "or\n",
    "\n",
    "np.reshape(x, (row,columns))\n",
    "\n"
   ]
  },
  {
   "cell_type": "code",
   "execution_count": null,
   "metadata": {},
   "outputs": [],
   "source": []
  },
  {
   "cell_type": "markdown",
   "metadata": {},
   "source": [
    "# Exercise 5: \n",
    "\n",
    "Create a matrix of 6 x 4 dimensions, with each element as a multiple of 3.\n",
    "\n",
    "sample output:\n",
    "\n",
    "array([[ 3,  6,  9, 12],\n",
    "       [15, 18, 21, 24],\n",
    "       [27, 30, 33, 36],\n",
    "       [39, 42, 45, 48],\n",
    "       [51, 54, 57, 60],\n",
    "       [63, 66, 69, 72]])"
   ]
  },
  {
   "cell_type": "code",
   "execution_count": null,
   "metadata": {},
   "outputs": [],
   "source": []
  },
  {
   "cell_type": "markdown",
   "metadata": {},
   "source": [
    "# Exercise 6: Random Arrays\n",
    "\n",
    "1) Random matrix with values between 0 and 1: np.random.random(shape)\n",
    "    \n",
    "2) Random matrix with integer values ranging between two given fixed values: np.random.randint(start, stop, size=shape)\n",
    "    \n",
    "3) Random matrix with numbers draws from normal distribution: np.random.normal(mean, standard deviation, size=shape)"
   ]
  },
  {
   "cell_type": "code",
   "execution_count": null,
   "metadata": {},
   "outputs": [],
   "source": []
  },
  {
   "cell_type": "markdown",
   "metadata": {},
   "source": [
    "# Exercise 7: Create an ndarray\n",
    "    \n",
    "Create a 7x4 array that only contain random numbers between 10 and 20 inclusive."
   ]
  },
  {
   "cell_type": "code",
   "execution_count": null,
   "metadata": {},
   "outputs": [],
   "source": []
  },
  {
   "cell_type": "markdown",
   "metadata": {},
   "source": [
    "# Exercise 8: Accessing, Deleting, and Inserting Elements into ndarrays\n",
    "\n",
    "1) Accessing an element in 1-D Array\n",
    "\n",
    "2) Accessing an element in 2-D Array\n",
    "\n",
    "3) Appending: np.append(ndarray, elements, axis)\n",
    "\n",
    "4) Deleting: np.delete(ndarray, elements, axis)\n",
    "\n",
    "5) Inserting: np.insert(ndarray, index, elements, axis)\n",
    "\n",
    "6) Stacking: Horizontal - np.hstack(), Vertical - np.vstack()\n",
    "\n",
    "7) Slicing: \n",
    "    ndarray[start:end]\n",
    "    nadarray[start:]\n",
    "    nadarray[:end]\n",
    "\n",
    "axis= 0 : Rows\n",
    "axis= 1 : Columns"
   ]
  },
  {
   "cell_type": "code",
   "execution_count": null,
   "metadata": {},
   "outputs": [],
   "source": []
  },
  {
   "cell_type": "code",
   "execution_count": null,
   "metadata": {},
   "outputs": [],
   "source": []
  },
  {
   "cell_type": "markdown",
   "metadata": {},
   "source": [
    "# Exercise 9: Data Extraction and Copying\n",
    "\n",
    "1) Extracting diagonal elements of a matrix: np.diag(ndarray)\n",
    "\n",
    "2) Extracting elements above and below main diagonal: np.diag(ndarray, k=value) - \n",
    "    value = positive - above main diagonal\n",
    "    value = negative - below main diagonal\n",
    "\n",
    "3) Extract unique array of values from an array or matrix: np.unique()\n",
    "\n",
    "4) Copying: np.copy(ndarray)"
   ]
  },
  {
   "cell_type": "code",
   "execution_count": null,
   "metadata": {},
   "outputs": [],
   "source": []
  },
  {
   "cell_type": "markdown",
   "metadata": {},
   "source": [
    "# Exercise 10: Boolean and Set Operations\n",
    "\n",
    "1) Finding elements for a given boolean condition: x[x>value]\n",
    "\n",
    "2) Use boolean indexing to assign new values to an existing array or matrix.\n",
    "\n",
    "3) Create and sort an array: np.sort(ndarray)\n",
    "\n",
    "4) Create and sort a rank 2 array: np.sort(ndarray, axis= 0/1)\n",
    "\n",
    "5) Use of set operations on 1-d array: np.union1d(x,y), np.intersect1d(x,y), np.setdiff1d(x,y)\n"
   ]
  },
  {
   "cell_type": "code",
   "execution_count": 25,
   "metadata": {},
   "outputs": [
    {
     "name": "stdout",
     "output_type": "stream",
     "text": [
      "[[ 2  2  9  9  3]\n",
      " [ 7  4  3  5  9]\n",
      " [ 8  6  3  2  5]\n",
      " [ 6 10  1  6  5]\n",
      " [ 7  8  1 10  2]]\n",
      "[[ 2  2  1  2  2]\n",
      " [ 6  4  1  5  3]\n",
      " [ 7  6  3  6  5]\n",
      " [ 7  8  3  9  5]\n",
      " [ 8 10  9 10  9]]\n",
      "[[ 2  2  3  9  9]\n",
      " [ 3  4  5  7  9]\n",
      " [ 2  3  5  6  8]\n",
      " [ 1  5  6  6 10]\n",
      " [ 1  2  7  8 10]]\n"
     ]
    }
   ],
   "source": [
    "# Create a rank 2 array\n",
    "mat=np.random.randint(1,11, size=[5,5])\n",
    "print(mat)\n",
    "\n",
    "# Sort columns of mat and print\n",
    "print(np.sort(mat, axis=0))\n",
    "\n",
    "# Sort rows of mat and print \n",
    "print(np.sort(mat, axis=1))"
   ]
  },
  {
   "cell_type": "code",
   "execution_count": 39,
   "metadata": {},
   "outputs": [
    {
     "name": "stdout",
     "output_type": "stream",
     "text": [
      "[ 1  2  3  4  5  6  7  9 10]\n",
      "[3 5]\n",
      "[1 7]\n"
     ]
    }
   ],
   "source": []
  },
  {
   "cell_type": "markdown",
   "metadata": {},
   "source": [
    "# Exercise 11: Artihmetic and Statistics Operations\n",
    "\n",
    "1) Use the basic arithmetic operations on 1-D arrays: np.add(x,y), np.subtract(x,y), np.multiply(x,y), np.divide(x,y)\n",
    "\n",
    "2) Use the basic mathematical operations: np.exp(x), np.sqrt(x), np.pow(x,value)\n",
    "\n",
    "3) Use the statistical operations: np.max(), np.min(), np.mean(), np.std(), np.median()"
   ]
  },
  {
   "cell_type": "code",
   "execution_count": null,
   "metadata": {},
   "outputs": [],
   "source": []
  },
  {
   "cell_type": "markdown",
   "metadata": {},
   "source": [
    "# Exercise - 12: \n",
    "\n",
    "Create a 5x5 ndarray with consecutive integers from 1 to 25 inclusive. Afterwards use Boolean indexing to pick out only the odd numbers in an array.\n"
   ]
  },
  {
   "cell_type": "code",
   "execution_count": null,
   "metadata": {},
   "outputs": [],
   "source": []
  },
  {
   "cell_type": "code",
   "execution_count": null,
   "metadata": {},
   "outputs": [],
   "source": []
  },
  {
   "cell_type": "code",
   "execution_count": null,
   "metadata": {},
   "outputs": [],
   "source": []
  }
 ],
 "metadata": {
  "kernelspec": {
   "display_name": "Python 3",
   "language": "python",
   "name": "python3"
  },
  "language_info": {
   "codemirror_mode": {
    "name": "ipython",
    "version": 3
   },
   "file_extension": ".py",
   "mimetype": "text/x-python",
   "name": "python",
   "nbconvert_exporter": "python",
   "pygments_lexer": "ipython3",
   "version": "3.7.4"
  }
 },
 "nbformat": 4,
 "nbformat_minor": 2
}
