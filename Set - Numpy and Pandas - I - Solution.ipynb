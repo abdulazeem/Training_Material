{
 "cells": [
  {
   "cell_type": "markdown",
   "metadata": {},
   "source": [
    "# Exercise 1: Use Numpy to perform the given operations\n",
    "\n",
    "For the given list of countries with employment data:\n",
    "\n",
    "1) Use the indexing and slicing to understand the Numpy operations.\n",
    "\n",
    "2) Find the mean, median, std, and maximum employment.\n",
    "\n",
    "3) Write a function to return the maximum employment along with the country name. "
   ]
  },
  {
   "cell_type": "code",
   "execution_count": 31,
   "metadata": {},
   "outputs": [],
   "source": [
    "import numpy as np\n",
    "\n",
    "# First 20 countries with employment data\n",
    "countries = np.array([\n",
    "    'Afghanistan', 'Albania', 'Algeria', 'Angola', 'Argentina',\n",
    "    'Armenia', 'Australia', 'Austria', 'Azerbaijan', 'Bahamas',\n",
    "    'Bahrain', 'Bangladesh', 'Barbados', 'Belarus', 'Belgium',\n",
    "    'Belize', 'Benin', 'Bhutan', 'Bolivia',\n",
    "    'Bosnia and Herzegovina'\n",
    "])\n",
    "\n",
    "# Employment data in 2007 for those 20 countries\n",
    "employment = np.array([\n",
    "    55.70000076,  51.40000153,  50.5       ,  75.69999695,\n",
    "    58.40000153,  40.09999847,  61.5       ,  57.09999847,\n",
    "    60.90000153,  66.59999847,  60.40000153,  68.09999847,\n",
    "    66.90000153,  53.40000153,  48.59999847,  56.79999924,\n",
    "    71.59999847,  58.40000153,  70.40000153,  41.20000076\n",
    "])"
   ]
  },
  {
   "cell_type": "code",
   "execution_count": 32,
   "metadata": {},
   "outputs": [
    {
     "name": "stdout",
     "output_type": "stream",
     "text": [
      "Afghanistan\n",
      "\n",
      "Albania\n",
      "\n",
      "['Afghanistan' 'Albania' 'Algeria']\n",
      "\n",
      "Mean of the employment data is : 58.68500003850001\n",
      "\n",
      "Median of the employment data is : 58.40000153\n",
      "\n",
      "Max of the employment data is : 75.69999695\n",
      "\n",
      "Standard Deviation of the employment data is : 9.338269113687888\n",
      "\n"
     ]
    }
   ],
   "source": [
    "# Accessing Elements\n",
    "\n",
    "print (countries[0])\n",
    "print()\n",
    "print (countries[1])\n",
    "print()\n",
    "\n",
    "# Slicing Elements\n",
    "\n",
    "print (countries[0:3])\n",
    "print()\n",
    "\n",
    "# Finding mean, median, std, max\n",
    "\n",
    "print ('Mean of the employment data is :', employment.mean())\n",
    "print()\n",
    "print ('Median of the employment data is :', np.median(employment))\n",
    "print()\n",
    "print ('Max of the employment data is :', employment.max())\n",
    "print()\n",
    "print ('Standard Deviation of the employment data is :', employment.std())\n",
    "print()\n"
   ]
  },
  {
   "cell_type": "code",
   "execution_count": 18,
   "metadata": {},
   "outputs": [],
   "source": [
    "# Method 1\n",
    "def max_employment (countries, employment):\n",
    "    max_value = employment.max()\n",
    "    i=np.where(employment==max_value)\n",
    "    max_country = countries[i]\n",
    "    \n",
    "    return (max_country, max_value)"
   ]
  },
  {
   "cell_type": "code",
   "execution_count": 26,
   "metadata": {},
   "outputs": [],
   "source": [
    "# Method 2\n",
    "\n",
    "def max_employment (countries, employment):\n",
    "    i= employment.argmax()\n",
    "    \n",
    "    return (countries[i], employment[i])"
   ]
  },
  {
   "cell_type": "code",
   "execution_count": 27,
   "metadata": {},
   "outputs": [
    {
     "name": "stdout",
     "output_type": "stream",
     "text": [
      "The country Angola has the highest employment of 75.69999695\n"
     ]
    }
   ],
   "source": [
    "# Call the function\n",
    "\n",
    "country, employment = max_employment(countries, employment)\n",
    "\n",
    "print('The country {} has the highest employment of {}'.format(country, employment))"
   ]
  },
  {
   "cell_type": "markdown",
   "metadata": {},
   "source": [
    "# Exercise 2: Practice Numpy Operations"
   ]
  },
  {
   "cell_type": "code",
   "execution_count": 58,
   "metadata": {},
   "outputs": [],
   "source": [
    "import numpy as np\n",
    "\n",
    "# Change False to True for each block of code to see what it does\n",
    "\n",
    "# Arithmetic operations between 2 NumPy arrays\n",
    "if False:\n",
    "    a = np.array([1, 2, 3, 4])\n",
    "    b = np.array([1, 2, 1, 2])\n",
    "    \n",
    "    print (a + b)\n",
    "    print (a - b)\n",
    "    print (a * b)\n",
    "    print (a / b)\n",
    "    print (a ** b)\n",
    "    \n",
    "# Arithmetic operations between a NumPy array and a single number\n",
    "if False:\n",
    "    a = np.array([1, 2, 3, 4])\n",
    "    b = 2\n",
    "    \n",
    "    print (a + b)\n",
    "    print (a - b)\n",
    "    print (a * b)\n",
    "    print (a / b)\n",
    "    print (a ** b)\n",
    "    \n",
    "# Logical operations with NumPy arrays\n",
    "if False:\n",
    "    a = np.array([True, True, False, False])\n",
    "    b = np.array([True, False, True, False])\n",
    "    \n",
    "    print (a & b)\n",
    "    print (a | b)\n",
    "    print (~a)\n",
    "    \n",
    "    print (a & True)\n",
    "    print (a & False)\n",
    "    \n",
    "    print (a | True)\n",
    "    print (a | False)\n",
    "    \n",
    "# Comparison operations between 2 NumPy Arrays\n",
    "if False:\n",
    "    a = np.array([1, 2, 3, 4, 5])\n",
    "    b = np.array([5, 4, 3, 2, 1])\n",
    "    \n",
    "    print (a > b)\n",
    "    print (a >= b)\n",
    "    print (a < b)\n",
    "    print (a <= b)\n",
    "    print (a == b)\n",
    "    print (a != b)\n",
    "    \n",
    "# Comparison operations between a NumPy array and a single number\n",
    "if False:\n",
    "    a = np.array([1, 2, 3, 4])\n",
    "    b = 2\n",
    "    \n",
    "    print (a > b)\n",
    "    print (a >= b)\n",
    "    print (a < b)\n",
    "    print (a <= b)\n",
    "    print (a == b)\n",
    "    print (a != b)"
   ]
  },
  {
   "cell_type": "markdown",
   "metadata": {},
   "source": [
    "# Exercise 3: School Completion Rate\n",
    "\n",
    "1) Write a function to return a numpy array to return the overall school completion rate for each country\n",
    "\n",
    "2) Assmt: Write a function to find the country with minimum overall completing rate. "
   ]
  },
  {
   "cell_type": "code",
   "execution_count": 53,
   "metadata": {},
   "outputs": [],
   "source": [
    "# First 20 countries with school completion data\n",
    "countries = np.array([\n",
    "       'Algeria', 'Argentina', 'Armenia', 'Aruba', 'Austria','Azerbaijan',\n",
    "       'Bahamas', 'Barbados', 'Belarus', 'Belgium', 'Belize', 'Bolivia',\n",
    "       'Botswana', 'Brunei', 'Bulgaria', 'Burkina Faso', 'Burundi',\n",
    "       'Cambodia', 'Cameroon', 'Cape Verde'\n",
    "])\n",
    "\n",
    "# Female school completion rate in 2007 for those 20 countries\n",
    "female_completion = np.array([\n",
    "    97.35583,  104.62379,  103.02998,   95.14321,  103.69019,\n",
    "    98.49185,  100.88828,   95.43974,   92.11484,   91.54804,\n",
    "    95.98029,   98.22902,   96.12179,  119.28105,   97.84627,\n",
    "    29.07386,   38.41644,   90.70509,   51.7478 ,   95.45072\n",
    "])\n",
    "\n",
    "# Male school completion rate in 2007 for those 20 countries\n",
    "male_completion = np.array([\n",
    "     95.47622,  100.66476,   99.7926 ,   91.48936,  103.22096,\n",
    "     97.80458,  103.81398,   88.11736,   93.55611,   87.76347,\n",
    "    102.45714,   98.73953,   92.22388,  115.3892 ,   98.70502,\n",
    "     37.00692,   45.39401,   91.22084,   62.42028,   90.66958\n",
    "])\n",
    "\n"
   ]
  },
  {
   "cell_type": "code",
   "execution_count": 54,
   "metadata": {},
   "outputs": [],
   "source": [
    "# Define Function\n",
    "\n",
    "def overall_completion_rate(female_completion, male_completion):\n",
    "    overall = (female_completion + male_completion)/2\n",
    "       \n",
    "    return overall"
   ]
  },
  {
   "cell_type": "code",
   "execution_count": 2,
   "metadata": {},
   "outputs": [
    {
     "ename": "NameError",
     "evalue": "name 'overall_completion_rate' is not defined",
     "output_type": "error",
     "traceback": [
      "\u001b[1;31m---------------------------------------------------------------------------\u001b[0m",
      "\u001b[1;31mNameError\u001b[0m                                 Traceback (most recent call last)",
      "\u001b[1;32m<ipython-input-2-500cedd7e534>\u001b[0m in \u001b[0;36m<module>\u001b[1;34m\u001b[0m\n\u001b[0;32m      1\u001b[0m \u001b[1;31m# Call Function\u001b[0m\u001b[1;33m\u001b[0m\u001b[1;33m\u001b[0m\u001b[1;33m\u001b[0m\u001b[0m\n\u001b[0;32m      2\u001b[0m \u001b[1;33m\u001b[0m\u001b[0m\n\u001b[1;32m----> 3\u001b[1;33m \u001b[0mover\u001b[0m \u001b[1;33m=\u001b[0m  \u001b[0moverall_completion_rate\u001b[0m\u001b[1;33m(\u001b[0m\u001b[0mfemale_completion\u001b[0m\u001b[1;33m,\u001b[0m \u001b[0mmale_completion\u001b[0m\u001b[1;33m)\u001b[0m\u001b[1;33m\u001b[0m\u001b[1;33m\u001b[0m\u001b[0m\n\u001b[0m\u001b[0;32m      4\u001b[0m \u001b[1;33m\u001b[0m\u001b[0m\n\u001b[0;32m      5\u001b[0m \u001b[0mdf\u001b[0m\u001b[1;33m=\u001b[0m \u001b[0mpd\u001b[0m\u001b[1;33m.\u001b[0m\u001b[0mDataFrame\u001b[0m\u001b[1;33m(\u001b[0m\u001b[0mindex\u001b[0m\u001b[1;33m=\u001b[0m\u001b[0mcountries\u001b[0m\u001b[1;33m,\u001b[0m \u001b[0mdata\u001b[0m\u001b[1;33m=\u001b[0m\u001b[0mover\u001b[0m\u001b[1;33m)\u001b[0m\u001b[1;33m\u001b[0m\u001b[1;33m\u001b[0m\u001b[0m\n",
      "\u001b[1;31mNameError\u001b[0m: name 'overall_completion_rate' is not defined"
     ]
    }
   ],
   "source": [
    "# Call Function\n",
    "\n",
    "over =  overall_completion_rate(female_completion, male_completion)\n",
    "\n",
    "df= pd.DataFrame(index=countries, data=over)\n",
    "df.columns=['Overall Completionn Rate']\n",
    "df.head()"
   ]
  },
  {
   "cell_type": "markdown",
   "metadata": {},
   "source": [
    "# Exercise 4: Write a function ro return Standardize Data \n",
    "\n",
    "1) Write a function to return standardized values for the given employment percentages.\n",
    "\n",
    "2) For a given country, return the standardized value.\n"
   ]
  },
  {
   "cell_type": "code",
   "execution_count": 57,
   "metadata": {},
   "outputs": [],
   "source": [
    "import numpy as np\n",
    "\n",
    "# First 20 countries with employment data\n",
    "countries = np.array([\n",
    "    'Afghanistan', 'Albania', 'Algeria', 'Angola', 'Argentina',\n",
    "    'Armenia', 'Australia', 'Austria', 'Azerbaijan', 'Bahamas',\n",
    "    'Bahrain', 'Bangladesh', 'Barbados', 'Belarus', 'Belgium',\n",
    "    'Belize', 'Benin', 'Bhutan', 'Bolivia',\n",
    "    'Bosnia and Herzegovina'\n",
    "])\n",
    "\n",
    "# Employment data in 2007 for those 20 countries\n",
    "employment = np.array([\n",
    "    55.70000076,  51.40000153,  50.5       ,  75.69999695,\n",
    "    58.40000153,  40.09999847,  61.5       ,  57.09999847,\n",
    "    60.90000153,  66.59999847,  60.40000153,  68.09999847,\n",
    "    66.90000153,  53.40000153,  48.59999847,  56.79999924,\n",
    "    71.59999847,  58.40000153,  70.40000153,  41.20000076\n",
    "])"
   ]
  },
  {
   "cell_type": "code",
   "execution_count": 69,
   "metadata": {},
   "outputs": [],
   "source": [
    "# Write a function to return standardized values for the given employment percentages.\n",
    "\n",
    "def standardized_values(values):\n",
    "    stan = (values - values.mean())/values.std()\n",
    "    return stan"
   ]
  },
  {
   "cell_type": "code",
   "execution_count": 72,
   "metadata": {},
   "outputs": [
    {
     "name": "stdout",
     "output_type": "stream",
     "text": [
      "[-0.31965231 -0.780123   -0.87650077  1.82207181 -0.03051941 -1.99019768\n",
      "  0.30144772 -0.16973184  0.23719615  0.84758731  0.18365304  1.00821665\n",
      "  0.87971351 -0.56595055 -1.07996476 -0.20185762  1.38301845 -0.03051941\n",
      "  1.2545153  -1.87240259]\n"
     ]
    },
    {
     "data": {
      "text/plain": [
       "numpy.ndarray"
      ]
     },
     "execution_count": 72,
     "metadata": {},
     "output_type": "execute_result"
    }
   ],
   "source": [
    "# Call function\n",
    "\n",
    "standard = standardized_values(employment)\n",
    "\n",
    "print(standard)"
   ]
  },
  {
   "cell_type": "code",
   "execution_count": 76,
   "metadata": {},
   "outputs": [],
   "source": [
    "# For a given country, return the standardized value.\n",
    "\n",
    "country = 'Australia'\n",
    "\n",
    "index = np.where(countries == country)\n",
    "\n",
    "print(standard[index])\n"
   ]
  },
  {
   "cell_type": "markdown",
   "metadata": {},
   "source": [
    "# Exercise 5 : Practice Numpy Index Arrays\n",
    "\n",
    "If we have two numpy arrays of the same length a and b, and the second array 'b'contains booleans, then it could be use for indexing.The second array is called index array. \n",
    "\n",
    "1) Using index arrays\n",
    "\n",
    "2) Using vectorized operations\n",
    "\n",
    "3) Using vectorized operations on other arrays as index"
   ]
  },
  {
   "cell_type": "code",
   "execution_count": null,
   "metadata": {},
   "outputs": [],
   "source": [
    "import numpy as np\n",
    "\n",
    "# Change False to True for each block of code to see what it does\n",
    "\n",
    "# Using index arrays\n",
    "if False:\n",
    "    a = np.array([1, 2, 3, 4])\n",
    "    b = np.array([True, True, False, False])\n",
    "    \n",
    "    print (a[b])\n",
    "    print (a[np.array([True, False, True, False])])\n",
    "    \n",
    "# Creating the index array using vectorized operations\n",
    "if False:\n",
    "    a = np.array([1, 2, 3, 2, 1])\n",
    "    b = (a >= 2)\n",
    "    \n",
    "    print (a[b])\n",
    "    print (a[a >= 2])\n",
    "    \n",
    "# Creating the index array using vectorized operations on another array\n",
    "if False:\n",
    "    a = np.array([1, 2, 3, 4, 5])\n",
    "    b = np.array([1, 2, 3, 2, 1])\n",
    "    \n",
    "    print (b == 2)\n",
    "    print (a[b == 2])"
   ]
  },
  {
   "cell_type": "markdown",
   "metadata": {},
   "source": [
    "# Exercise 6: Calculate the mean time \n",
    "\n",
    "Write a function to calculate the mean time spent in the classroom for students who stayed enrolled at least 7 days.     The arguments are NumPy arrays. time_spent contains the amount of time spent in the classroom for each student, and days_to_cancel contains the number of days until each student cancel. The data is given in the same order in both arrays."
   ]
  },
  {
   "cell_type": "code",
   "execution_count": 11,
   "metadata": {},
   "outputs": [],
   "source": [
    "# Time spent in the classroom in the first week for 20 students\n",
    "time_spent = np.array([\n",
    "       12.89697233,    0.        ,   64.55043217,    0.        ,\n",
    "       24.2315615 ,   39.991625  ,    0.        ,    0.        ,\n",
    "      147.20683783,    0.        ,    0.        ,    0.        ,\n",
    "       45.18261617,  157.60454283,  133.2434615 ,   52.85000767,\n",
    "        0.        ,   54.9204785 ,   26.78142417,    0.\n",
    "])\n",
    "\n",
    "# Days to cancel for 20 students\n",
    "days_to_cancel = np.array([\n",
    "      4,   5,  37,   3,  12,   4,  35,  38,   5,  37,   3,   3,  68,\n",
    "     38,  98,   2, 249,   2, 127,  35\n",
    "])"
   ]
  },
  {
   "cell_type": "code",
   "execution_count": 14,
   "metadata": {},
   "outputs": [],
   "source": [
    "def mean_time (time_spent, days_to_cancel):\n",
    "    is_seven=days_to_cancel>=7\n",
    "    mean_time=time_spent[is_seven].mean()\n",
    "    return mean_time\n",
    "\n"
   ]
  },
  {
   "cell_type": "code",
   "execution_count": 15,
   "metadata": {},
   "outputs": [
    {
     "name": "stdout",
     "output_type": "stream",
     "text": [
      "41.05400348545454\n"
     ]
    }
   ],
   "source": [
    "mean = mean_time(time_spent, days_to_cancel)\n",
    "\n",
    "print(mean)"
   ]
  },
  {
   "cell_type": "markdown",
   "metadata": {},
   "source": [
    "# Exercise 7: Practice Basic Operations in Pandas Series"
   ]
  },
  {
   "cell_type": "code",
   "execution_count": 1,
   "metadata": {},
   "outputs": [],
   "source": [
    "import pandas as pd\n",
    "\n",
    "countries = ['Albania', 'Algeria', 'Andorra', 'Angola', 'Antigua and Barbuda',\n",
    "             'Argentina', 'Armenia', 'Australia', 'Austria', 'Azerbaijan',\n",
    "             'Bahamas', 'Bahrain', 'Bangladesh', 'Barbados', 'Belarus',\n",
    "             'Belgium', 'Belize', 'Benin', 'Bhutan', 'Bolivia']\n",
    "\n",
    "life_expectancy_values = [74.7,  75. ,  83.4,  57.6,  74.6,  75.4,  72.3,  81.5,  80.2,\n",
    "                          70.3,  72.1,  76.4,  68.1,  75.2,  69.8,  79.4,  70.8,  62.7,\n",
    "                          67.3,  70.6]\n",
    "\n",
    "gdp_values = [ 1681.61390973,   2155.48523109,  21495.80508273,    562.98768478,\n",
    "              13495.1274663 ,   9388.68852258,   1424.19056199,  24765.54890176,\n",
    "              27036.48733192,   1945.63754911,  21721.61840978,  13373.21993972,\n",
    "                483.97086804,   9783.98417323,   2253.46411147,  25034.66692293,\n",
    "               3680.91642923,    366.04496652,   1175.92638695,   1132.21387981]\n",
    "\n",
    "# Life expectancy and gdp data in 2007 for 20 countries\n",
    "life_expectancy = pd.Series(life_expectancy_values)\n",
    "gdp = pd.Series(gdp_values)\n",
    "\n",
    "# Change False to True for each block of code to see what it does\n",
    "\n",
    "# Accessing elements and slicing\n",
    "if False:\n",
    "    print (life_expectancy[0])\n",
    "    print (gdp[3:6])\n",
    "    \n",
    "# Looping\n",
    "if False:\n",
    "    for country_life_expectancy in life_expectancy:\n",
    "        print ('Examining life expectancy {}'.format(country_life_expectancy))\n",
    "        \n",
    "# Pandas functions\n",
    "if False:\n",
    "    print (life_expectancy.mean())\n",
    "    print (life_expectancy.std())\n",
    "    print (gdp.max())\n",
    "    print (gdp.sum())\n",
    "\n",
    "# Vectorized operations and index arrays\n",
    "if False:\n",
    "    a = pd.Series([1, 2, 3, 4])\n",
    "    b = pd.Series([1, 2, 1, 2])\n",
    "  \n",
    "    print (a + b)\n",
    "    print (a * 2)\n",
    "    print (a >= 3)\n",
    "    print (a[a >= 3])"
   ]
  },
  {
   "cell_type": "markdown",
   "metadata": {},
   "source": [
    "# Exercise 8: Pandas Operations with Variable Index\n",
    "\n",
    "1) When indexes are the same\n",
    "\n",
    "2) When indexes are in different order\n",
    "\n",
    "3) When indexes overlap, but do not have exactly the same elements\n",
    "\n",
    "4) When indexes are different, and do not overlap."
   ]
  },
  {
   "cell_type": "code",
   "execution_count": 17,
   "metadata": {},
   "outputs": [],
   "source": [
    "import pandas as pd\n",
    "\n",
    "# Addition when indexes are the same\n",
    "if False:\n",
    "    s1 = pd.Series([1, 2, 3, 4], index=['a', 'b', 'c', 'd'])\n",
    "    s2 = pd.Series([10, 20, 30, 40], index=['a', 'b', 'c', 'd'])\n",
    "    print (s1 + s2)\n",
    "\n",
    "# Indexes have same elements in a different order\n",
    "if False:\n",
    "    s1 = pd.Series([1, 2, 3, 4], index=['a', 'b', 'c', 'd'])\n",
    "    s2 = pd.Series([10, 20, 30, 40], index=['b', 'd', 'a', 'c'])\n",
    "    print (s1 + s2)\n",
    "\n",
    "# Indexes overlap, but do not have exactly the same elements\n",
    "if False:\n",
    "    s1 = pd.Series([1, 2, 3, 4], index=['a', 'b', 'c', 'd'])\n",
    "    s2 = pd.Series([10, 20, 30, 40], index=['c', 'd', 'e', 'f'])\n",
    "    print (s1 + s2)\n",
    "\n",
    "# Indexes do not overlap\n",
    "if False:\n",
    "    s1 = pd.Series([1, 2, 3, 4], index=['a', 'b', 'c', 'd'])\n",
    "    s2 = pd.Series([10, 20, 30, 40], index=['e', 'f', 'g', 'h'])\n",
    "    print (s1 + s2)"
   ]
  },
  {
   "cell_type": "markdown",
   "metadata": {},
   "source": [
    "# Exercise 9: Correlation\n",
    "\n",
    "Write a function to calculate  the number of data points for which the directions of variable1 and variable2 relative to the mean are the same, and the number of data points for which they are different. Direction here means whether each value is above or below its mean. You can classify cases where the value is equal to the mean for one or both variables however you like.Each argument will be a Pandas series. \n",
    "\n",
    "For example, if the inputs were pd.Series([1, 2, 3, 4]) and pd.Series([4, 5, 6, 7]), then the output would be (4, 0). This is because 1 and 4 are both below their means, 2 and 5 are both below, 3 and 6 are both above, and 4 and 7 are both above.\n",
    "    \n",
    "On the other hand, if the inputs were pd.Series([1, 2, 3, 4]) and pd.Series([7, 6, 5, 4]), then the output would be (0, 4).\n",
    "This is because 1 is below its mean but 7 is above its mean, and so on."
   ]
  },
  {
   "cell_type": "code",
   "execution_count": 15,
   "metadata": {},
   "outputs": [],
   "source": [
    "import pandas as pd\n",
    "\n",
    "countries = ['Albania', 'Algeria', 'Andorra', 'Angola', 'Antigua and Barbuda',\n",
    "             'Argentina', 'Armenia', 'Australia', 'Austria', 'Azerbaijan',\n",
    "             'Bahamas', 'Bahrain', 'Bangladesh', 'Barbados', 'Belarus',\n",
    "             'Belgium', 'Belize', 'Benin', 'Bhutan', 'Bolivia']\n",
    "\n",
    "life_expectancy_values = [74.7,  75. ,  83.4,  57.6,  74.6,  75.4,  72.3,  81.5,  80.2,\n",
    "                          70.3,  72.1,  76.4,  68.1,  75.2,  69.8,  79.4,  70.8,  62.7,\n",
    "                          67.3,  70.6]\n",
    "\n",
    "gdp_values = [ 1681.61390973,   2155.48523109,  21495.80508273,    562.98768478,\n",
    "              13495.1274663 ,   9388.68852258,   1424.19056199,  24765.54890176,\n",
    "              27036.48733192,   1945.63754911,  21721.61840978,  13373.21993972,\n",
    "                483.97086804,   9783.98417323,   2253.46411147,  25034.66692293,\n",
    "               3680.91642923,    366.04496652,   1175.92638695,   1132.21387981]"
   ]
  },
  {
   "cell_type": "code",
   "execution_count": 8,
   "metadata": {},
   "outputs": [],
   "source": [
    "def variable_correlation(variable1, variable2):\n",
    "    \n",
    "    both_above = (variable1>variable1.mean()) & (variable2>variable2.mean())\n",
    "    both_below = (variable1<variable1.mean()) & (variable2<variable2.mean())\n",
    "    \n",
    "    is_same_dir = both_above | both_below\n",
    "    \n",
    "    num_same_direction = is_same_dir.sum()        \n",
    "    num_different_direction = len(variable1) - num_same_direction\n",
    "    \n",
    "    return (num_same_direction, num_different_direction)"
   ]
  },
  {
   "cell_type": "code",
   "execution_count": 10,
   "metadata": {},
   "outputs": [
    {
     "data": {
      "text/plain": [
       "(17, 3)"
      ]
     },
     "execution_count": 10,
     "metadata": {},
     "output_type": "execute_result"
    }
   ],
   "source": [
    "#Call function\n",
    "\n",
    "variable_correlation(life_expectancy, gdp)\n"
   ]
  },
  {
   "cell_type": "code",
   "execution_count": null,
   "metadata": {},
   "outputs": [],
   "source": []
  },
  {
   "cell_type": "markdown",
   "metadata": {},
   "source": [
    "# Exercise 10: Country with Maximum Employment\n",
    "\n",
    "Write a function using pandas series to obtain the country with maximum employment. "
   ]
  },
  {
   "cell_type": "code",
   "execution_count": 23,
   "metadata": {},
   "outputs": [],
   "source": [
    "import pandas as pd\n",
    "\n",
    "# First 20 countries with employment data\n",
    "countries = [\n",
    "    'Afghanistan', 'Albania', 'Algeria', 'Angola', 'Argentina',\n",
    "    'Armenia', 'Australia', 'Austria', 'Azerbaijan', 'Bahamas',\n",
    "    'Bahrain', 'Bangladesh', 'Barbados', 'Belarus', 'Belgium',\n",
    "    'Belize', 'Benin', 'Bhutan', 'Bolivia',\n",
    "    'Bosnia and Herzegovina'\n",
    "]\n",
    "\n",
    "# Employment data in 2007 for those 20 countries\n",
    "employment = [\n",
    "    55.70000076,  51.40000153,  50.5       ,  75.69999695,\n",
    "    58.40000153,  40.09999847,  61.5       ,  57.09999847,\n",
    "    60.90000153,  66.59999847,  60.40000153,  68.09999847,\n",
    "    66.90000153,  53.40000153,  48.59999847,  56.79999924,\n",
    "    71.59999847,  58.40000153,  70.40000153,  41.20000076\n",
    "]"
   ]
  },
  {
   "cell_type": "code",
   "execution_count": 24,
   "metadata": {},
   "outputs": [
    {
     "data": {
      "text/plain": [
       "Afghanistan               55.700001\n",
       "Albania                   51.400002\n",
       "Algeria                   50.500000\n",
       "Angola                    75.699997\n",
       "Argentina                 58.400002\n",
       "Armenia                   40.099998\n",
       "Australia                 61.500000\n",
       "Austria                   57.099998\n",
       "Azerbaijan                60.900002\n",
       "Bahamas                   66.599998\n",
       "Bahrain                   60.400002\n",
       "Bangladesh                68.099998\n",
       "Barbados                  66.900002\n",
       "Belarus                   53.400002\n",
       "Belgium                   48.599998\n",
       "Belize                    56.799999\n",
       "Benin                     71.599998\n",
       "Bhutan                    58.400002\n",
       "Bolivia                   70.400002\n",
       "Bosnia and Herzegovina    41.200001\n",
       "dtype: float64"
      ]
     },
     "execution_count": 24,
     "metadata": {},
     "output_type": "execute_result"
    }
   ],
   "source": [
    "employment = pd.Series(index=countries, data = employment)\n",
    "\n",
    "employment"
   ]
  },
  {
   "cell_type": "code",
   "execution_count": 37,
   "metadata": {},
   "outputs": [],
   "source": [
    "def max_employment (countries, employment):\n",
    "    max_country = employment.idxmax()\n",
    "    max_em= employment.loc[max_country]\n",
    "    return max_country, max_em\n",
    "    "
   ]
  },
  {
   "cell_type": "code",
   "execution_count": 38,
   "metadata": {},
   "outputs": [
    {
     "data": {
      "text/plain": [
       "('Angola', 75.69999695)"
      ]
     },
     "execution_count": 38,
     "metadata": {},
     "output_type": "execute_result"
    }
   ],
   "source": [
    "# Call the function\n",
    "max_employment (countries, employment)"
   ]
  },
  {
   "cell_type": "markdown",
   "metadata": {},
   "source": [
    "# Exercise 11: Removing NaNs\n",
    "    \n",
    "1) using dropna\n",
    "\n",
    "2) Treat missing values before operation using .add method"
   ]
  },
  {
   "cell_type": "code",
   "execution_count": null,
   "metadata": {},
   "outputs": [],
   "source": []
  },
  {
   "cell_type": "code",
   "execution_count": 18,
   "metadata": {},
   "outputs": [
    {
     "name": "stdout",
     "output_type": "stream",
     "text": [
      "c    7.0\n",
      "d    7.0\n",
      "dtype: float64\n",
      "\n",
      "a    3.5\n",
      "b    4.5\n",
      "c    7.0\n",
      "d    7.0\n",
      "e    6.5\n",
      "f    3.5\n",
      "dtype: float64\n"
     ]
    }
   ],
   "source": [
    "a= pd.Series([1,2,3,4], index=['a','b','c','d'])\n",
    "b = pd.Series([4,3,4,1], index =['c','d','e','f'])\n",
    "\n",
    "print((a+b).dropna())\n",
    "print()\n",
    "\n",
    "print(a.add(b, fill_value=a.mean()))"
   ]
  },
  {
   "cell_type": "code",
   "execution_count": 27,
   "metadata": {},
   "outputs": [
    {
     "data": {
      "text/plain": [
       "a    2.5\n",
       "b    2.5\n",
       "c    7.0\n",
       "d    7.0\n",
       "e    2.5\n",
       "f    2.5\n",
       "dtype: float64"
      ]
     },
     "execution_count": 27,
     "metadata": {},
     "output_type": "execute_result"
    }
   ],
   "source": [
    "(a+b).fillna(a.mean())"
   ]
  },
  {
   "cell_type": "markdown",
   "metadata": {},
   "source": [
    "# Exercise 12: Pandas Series Apply()\n",
    "\n",
    "Applies the operation of a function on all elements of an array."
   ]
  },
  {
   "cell_type": "code",
   "execution_count": 47,
   "metadata": {},
   "outputs": [],
   "source": [
    "a= pd.Series([2,3,4,6,7,8,8,4])\n",
    "\n",
    "def add_one(x):\n",
    "    return (x**2)"
   ]
  },
  {
   "cell_type": "code",
   "execution_count": 49,
   "metadata": {},
   "outputs": [
    {
     "data": {
      "text/plain": [
       "0     4\n",
       "1     9\n",
       "2    16\n",
       "3    36\n",
       "4    49\n",
       "5    64\n",
       "6    64\n",
       "7    16\n",
       "dtype: int64"
      ]
     },
     "execution_count": 49,
     "metadata": {},
     "output_type": "execute_result"
    }
   ],
   "source": [
    "a.apply(add_one)"
   ]
  },
  {
   "cell_type": "markdown",
   "metadata": {},
   "source": [
    "# Exercise 13: Reverse Names\n",
    "\n",
    "Write a function to return a new series where each name in the input series has been transformed from the format \"Firstname Lastname\" to \"Lastname, FirstName\". \n",
    "\n",
    "Try to use the Pandas apply() function rather than a loop.\n"
   ]
  },
  {
   "cell_type": "code",
   "execution_count": 51,
   "metadata": {},
   "outputs": [],
   "source": [
    "names = pd.Series([\n",
    "    'Andre Agassi',\n",
    "    'Barry Bonds',\n",
    "    'Christopher Columbus',\n",
    "    'Daniel Defoe',\n",
    "    'Emilio Estevez',\n",
    "    'Fred Flintstone',\n",
    "    'Greta Garbo',\n",
    "    'Humbert Humbert',\n",
    "    'Ivan Ilych',\n",
    "    'James Joyce',\n",
    "    'Keira Knightley',\n",
    "    'Lois Lane',\n",
    "    'Mike Myers',\n",
    "    'Nick Nolte',\n",
    "    'Ozzy Osbourne',\n",
    "    'Pablo Picasso',\n",
    "    'Quirinus Quirrell',\n",
    "    'Rachael Ray',\n",
    "    'Susan Sarandon',\n",
    "    'Tina Turner',\n",
    "    'Ugueth Urbina',\n",
    "    'Vince Vaughn',\n",
    "    'Woodrow Wilson',\n",
    "    'Yoji Yamada',\n",
    "    'Zinedine Zidane'\n",
    "])\n"
   ]
  },
  {
   "cell_type": "code",
   "execution_count": 52,
   "metadata": {},
   "outputs": [],
   "source": [
    "# Define the function\n",
    "\n",
    "\n",
    "def reverse_name(name):\n",
    "    split_name = name.split(\" \")\n",
    "    first_name = split_name[0]\n",
    "    last_name = split_name[1]\n",
    "    reverse = last_name + \",\" + first_name\n",
    "   \n",
    "    return reverse"
   ]
  },
  {
   "cell_type": "code",
   "execution_count": 56,
   "metadata": {},
   "outputs": [
    {
     "data": {
      "text/plain": [
       "0             Agassi,Andre\n",
       "1              Bonds,Barry\n",
       "2     Columbus,Christopher\n",
       "3             Defoe,Daniel\n",
       "4           Estevez,Emilio\n",
       "5          Flintstone,Fred\n",
       "6              Garbo,Greta\n",
       "7          Humbert,Humbert\n",
       "8               Ilych,Ivan\n",
       "9              Joyce,James\n",
       "10         Knightley,Keira\n",
       "11               Lane,Lois\n",
       "12              Myers,Mike\n",
       "13              Nolte,Nick\n",
       "14           Osbourne,Ozzy\n",
       "15           Picasso,Pablo\n",
       "16       Quirrell,Quirinus\n",
       "17             Ray,Rachael\n",
       "18          Sarandon,Susan\n",
       "19             Turner,Tina\n",
       "20           Urbina,Ugueth\n",
       "21            Vaughn,Vince\n",
       "22          Wilson,Woodrow\n",
       "23             Yamada,Yoji\n",
       "24         Zidane,Zinedine\n",
       "dtype: object"
      ]
     },
     "execution_count": 56,
     "metadata": {},
     "output_type": "execute_result"
    }
   ],
   "source": [
    "#Call the function\n",
    "\n",
    "names.apply(reverse_name)"
   ]
  }
 ],
 "metadata": {
  "kernelspec": {
   "display_name": "Python 3",
   "language": "python",
   "name": "python3"
  },
  "language_info": {
   "codemirror_mode": {
    "name": "ipython",
    "version": 3
   },
   "file_extension": ".py",
   "mimetype": "text/x-python",
   "name": "python",
   "nbconvert_exporter": "python",
   "pygments_lexer": "ipython3",
   "version": "3.7.4"
  }
 },
 "nbformat": 4,
 "nbformat_minor": 2
}
